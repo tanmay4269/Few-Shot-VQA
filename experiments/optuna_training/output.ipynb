{
 "cells": [
  {
   "cell_type": "code",
   "execution_count": 1,
   "id": "04ead4e4",
   "metadata": {
    "execution": {
     "iopub.execute_input": "2024-08-10T14:39:15.996946Z",
     "iopub.status.busy": "2024-08-10T14:39:15.996569Z"
    },
    "papermill": {
     "duration": null,
     "end_time": null,
     "exception": false,
     "start_time": "2024-08-10T14:39:15.957057",
     "status": "running"
    },
    "tags": []
   },
   "outputs": [
    {
     "name": "stderr",
     "output_type": "stream",
     "text": [
      "/usr/local/lib/python3.8/dist-packages/tqdm/auto.py:21: TqdmWarning: IProgress not found. Please update jupyter and ipywidgets. See https://ipywidgets.readthedocs.io/en/stable/user_install.html\n",
      "  from .autonotebook import tqdm as notebook_tqdm\n"
     ]
    },
    {
     "name": "stderr",
     "output_type": "stream",
     "text": [
      "[I 2024-08-10 15:31:00,029] A new study created in memory with name: no-name-bb91b72f-44c4-49c6-afda-ad420893413a\n"
     ]
    },
    {
     "name": "stdout",
     "output_type": "stream",
     "text": [
      "weights_save_path: ./weights/raw/name=NaiveSampling__n_classes=10__v2_samples_per_answer=300__abs_samples_per_answer=150__source_domain=abs__base_lr=1.0077664312768142e-05__domain_adaptation_method=naive__.pth\n"
     ]
    },
    {
     "name": "stdout",
     "output_type": "stream",
     "text": [
      "Number of Common Labels = 25 | n_classes = 10\n",
      "Labels: ['man', 'yes', 'no', 'brown', 'dog', '2', '1', 'gray', '3', 'food']\n",
      "V2: \tTrain size = 2400           | Val size = 600 | Total = 3000\n",
      "Abs: \tTrain size = 1200           | Val size = 300 | Total = 1500\n",
      "--------------------\n"
     ]
    },
    {
     "name": "stdout",
     "output_type": "stream",
     "text": [
      "\t Iter [0/24]\t Loss: 1.498709\n"
     ]
    },
    {
     "name": "stdout",
     "output_type": "stream",
     "text": [
      "\t Iter [6/24]\t Loss: 1.494892\n"
     ]
    },
    {
     "name": "stdout",
     "output_type": "stream",
     "text": [
      "\t Iter [12/24]\t Loss: 1.493274\n"
     ]
    },
    {
     "name": "stdout",
     "output_type": "stream",
     "text": [
      "\t Iter [18/24]\t Loss: 1.489345\n"
     ]
    },
    {
     "name": "stdout",
     "output_type": "stream",
     "text": [
      "\t Iter [0/24]\t Loss: 1.483785\n"
     ]
    },
    {
     "name": "stdout",
     "output_type": "stream",
     "text": [
      "\t Iter [6/24]\t Loss: 1.478105\n"
     ]
    },
    {
     "name": "stdout",
     "output_type": "stream",
     "text": [
      "\t Iter [12/24]\t Loss: 1.470005\n"
     ]
    },
    {
     "name": "stdout",
     "output_type": "stream",
     "text": [
      "\t Iter [18/24]\t Loss: 1.454717\n"
     ]
    },
    {
     "name": "stdout",
     "output_type": "stream",
     "text": [
      "\t Iter [0/24]\t Loss: 1.428897\n"
     ]
    },
    {
     "name": "stdout",
     "output_type": "stream",
     "text": [
      "\t Iter [6/24]\t Loss: 1.395501\n"
     ]
    },
    {
     "name": "stdout",
     "output_type": "stream",
     "text": [
      "\t Iter [12/24]\t Loss: 1.349148\n"
     ]
    },
    {
     "name": "stdout",
     "output_type": "stream",
     "text": [
      "\t Iter [18/24]\t Loss: 1.294080\n"
     ]
    },
    {
     "name": "stdout",
     "output_type": "stream",
     "text": [
      "\t Iter [0/24]\t Loss: 1.237776\n"
     ]
    },
    {
     "name": "stdout",
     "output_type": "stream",
     "text": [
      "\t Iter [6/24]\t Loss: 1.199168\n"
     ]
    },
    {
     "name": "stdout",
     "output_type": "stream",
     "text": [
      "\t Iter [12/24]\t Loss: 1.173834\n"
     ]
    },
    {
     "name": "stdout",
     "output_type": "stream",
     "text": [
      "\t Iter [18/24]\t Loss: 1.158064\n"
     ]
    },
    {
     "name": "stdout",
     "output_type": "stream",
     "text": [
      "\t Iter [0/24]\t Loss: 1.149918\n"
     ]
    },
    {
     "name": "stdout",
     "output_type": "stream",
     "text": [
      "\t Iter [6/24]\t Loss: 1.148874\n"
     ]
    },
    {
     "name": "stdout",
     "output_type": "stream",
     "text": [
      "\t Iter [12/24]\t Loss: 1.148072\n"
     ]
    },
    {
     "name": "stdout",
     "output_type": "stream",
     "text": [
      "\t Iter [18/24]\t Loss: 1.146604\n"
     ]
    },
    {
     "name": "stdout",
     "output_type": "stream",
     "text": [
      "\t Iter [0/24]\t Loss: 1.143548\n"
     ]
    },
    {
     "name": "stdout",
     "output_type": "stream",
     "text": [
      "\t Iter [6/24]\t Loss: 1.146611\n"
     ]
    },
    {
     "name": "stdout",
     "output_type": "stream",
     "text": [
      "\t Iter [12/24]\t Loss: 1.142518\n"
     ]
    },
    {
     "name": "stdout",
     "output_type": "stream",
     "text": [
      "\t Iter [18/24]\t Loss: 1.142005\n"
     ]
    },
    {
     "name": "stdout",
     "output_type": "stream",
     "text": [
      "\t Iter [0/24]\t Loss: 1.137341\n"
     ]
    },
    {
     "name": "stdout",
     "output_type": "stream",
     "text": [
      "\t Iter [6/24]\t Loss: 1.141976\n"
     ]
    },
    {
     "name": "stdout",
     "output_type": "stream",
     "text": [
      "\t Iter [12/24]\t Loss: 1.141966\n"
     ]
    },
    {
     "name": "stdout",
     "output_type": "stream",
     "text": [
      "\t Iter [18/24]\t Loss: 1.137946\n"
     ]
    },
    {
     "name": "stdout",
     "output_type": "stream",
     "text": [
      "\t Iter [0/24]\t Loss: 1.135839\n"
     ]
    },
    {
     "name": "stdout",
     "output_type": "stream",
     "text": [
      "\t Iter [6/24]\t Loss: 1.136971\n"
     ]
    },
    {
     "name": "stdout",
     "output_type": "stream",
     "text": [
      "\t Iter [12/24]\t Loss: 1.136513\n"
     ]
    },
    {
     "name": "stdout",
     "output_type": "stream",
     "text": [
      "\t Iter [18/24]\t Loss: 1.138198\n"
     ]
    },
    {
     "name": "stdout",
     "output_type": "stream",
     "text": [
      "\t Iter [0/24]\t Loss: 1.137530\n"
     ]
    },
    {
     "name": "stdout",
     "output_type": "stream",
     "text": [
      "\t Iter [6/24]\t Loss: 1.129389\n"
     ]
    },
    {
     "name": "stdout",
     "output_type": "stream",
     "text": [
      "\t Iter [12/24]\t Loss: 1.132077\n"
     ]
    },
    {
     "name": "stdout",
     "output_type": "stream",
     "text": [
      "\t Iter [18/24]\t Loss: 1.131330\n"
     ]
    },
    {
     "name": "stdout",
     "output_type": "stream",
     "text": [
      "\t Iter [0/24]\t Loss: 1.127796\n"
     ]
    },
    {
     "name": "stdout",
     "output_type": "stream",
     "text": [
      "\t Iter [6/24]\t Loss: 1.127218\n"
     ]
    },
    {
     "name": "stdout",
     "output_type": "stream",
     "text": [
      "\t Iter [12/24]\t Loss: 1.135812\n"
     ]
    },
    {
     "name": "stdout",
     "output_type": "stream",
     "text": [
      "\t Iter [18/24]\t Loss: 1.132454\n"
     ]
    },
    {
     "name": "stderr",
     "output_type": "stream",
     "text": [
      "[I 2024-08-10 16:47:59,255] Trial 0 finished with value: 1.1330180366834004 and parameters: {'base_lr': 1.0077664312768142e-05}. Best is trial 0 with value: 1.1330180366834004.\n"
     ]
    },
    {
     "name": "stdout",
     "output_type": "stream",
     "text": [
      "weights_save_path: ./weights/raw/name=NaiveSampling__n_classes=10__v2_samples_per_answer=300__abs_samples_per_answer=150__source_domain=abs__base_lr=0.0009415765640560223__domain_adaptation_method=naive__.pth\n"
     ]
    },
    {
     "name": "stdout",
     "output_type": "stream",
     "text": [
      "Number of Common Labels = 25 | n_classes = 10\n",
      "Labels: ['man', 'yes', 'no', 'brown', 'dog', '2', '1', 'gray', '3', 'food']\n",
      "V2: \tTrain size = 2400           | Val size = 600 | Total = 3000\n",
      "Abs: \tTrain size = 1200           | Val size = 300 | Total = 1500\n",
      "--------------------\n"
     ]
    },
    {
     "name": "stdout",
     "output_type": "stream",
     "text": [
      "\t Iter [0/24]\t Loss: 1.496862\n"
     ]
    },
    {
     "name": "stdout",
     "output_type": "stream",
     "text": [
      "\t Iter [6/24]\t Loss: 1.147100\n"
     ]
    },
    {
     "name": "stdout",
     "output_type": "stream",
     "text": [
      "\t Iter [12/24]\t Loss: 1.398781\n"
     ]
    },
    {
     "name": "stdout",
     "output_type": "stream",
     "text": [
      "\t Iter [18/24]\t Loss: 1.199686\n"
     ]
    },
    {
     "name": "stdout",
     "output_type": "stream",
     "text": [
      "\t Iter [0/24]\t Loss: 1.139160\n"
     ]
    },
    {
     "name": "stdout",
     "output_type": "stream",
     "text": [
      "\t Iter [6/24]\t Loss: 0.891228\n"
     ]
    },
    {
     "name": "stdout",
     "output_type": "stream",
     "text": [
      "\t Iter [12/24]\t Loss: 0.823596\n"
     ]
    },
    {
     "name": "stdout",
     "output_type": "stream",
     "text": [
      "\t Iter [18/24]\t Loss: 0.772860\n"
     ]
    },
    {
     "name": "stdout",
     "output_type": "stream",
     "text": [
      "\t Iter [0/24]\t Loss: 0.753531\n"
     ]
    },
    {
     "name": "stdout",
     "output_type": "stream",
     "text": [
      "\t Iter [6/24]\t Loss: 0.734828\n"
     ]
    },
    {
     "name": "stdout",
     "output_type": "stream",
     "text": [
      "\t Iter [12/24]\t Loss: 0.978141\n"
     ]
    },
    {
     "name": "stdout",
     "output_type": "stream",
     "text": [
      "\t Iter [18/24]\t Loss: 1.202941\n"
     ]
    },
    {
     "name": "stdout",
     "output_type": "stream",
     "text": [
      "\t Iter [0/24]\t Loss: 1.647935\n"
     ]
    },
    {
     "name": "stdout",
     "output_type": "stream",
     "text": [
      "\t Iter [6/24]\t Loss: 1.500588\n"
     ]
    },
    {
     "name": "stdout",
     "output_type": "stream",
     "text": [
      "\t Iter [12/24]\t Loss: 2.019488\n"
     ]
    },
    {
     "name": "stdout",
     "output_type": "stream",
     "text": [
      "\t Iter [18/24]\t Loss: 1.231370\n"
     ]
    },
    {
     "name": "stdout",
     "output_type": "stream",
     "text": [
      "\t Iter [0/24]\t Loss: 1.123137\n"
     ]
    },
    {
     "name": "stdout",
     "output_type": "stream",
     "text": [
      "\t Iter [6/24]\t Loss: 1.048017\n"
     ]
    },
    {
     "name": "stdout",
     "output_type": "stream",
     "text": [
      "\t Iter [12/24]\t Loss: 1.099208\n"
     ]
    },
    {
     "name": "stdout",
     "output_type": "stream",
     "text": [
      "\t Iter [18/24]\t Loss: 0.959488\n"
     ]
    },
    {
     "name": "stdout",
     "output_type": "stream",
     "text": [
      "\t Iter [0/24]\t Loss: 0.809406\n"
     ]
    },
    {
     "name": "stdout",
     "output_type": "stream",
     "text": [
      "\t Iter [6/24]\t Loss: 0.731786\n"
     ]
    },
    {
     "name": "stdout",
     "output_type": "stream",
     "text": [
      "\t Iter [12/24]\t Loss: 0.788853\n"
     ]
    },
    {
     "name": "stdout",
     "output_type": "stream",
     "text": [
      "\t Iter [18/24]\t Loss: 0.656950\n"
     ]
    },
    {
     "name": "stdout",
     "output_type": "stream",
     "text": [
      "\t Iter [0/24]\t Loss: 0.582408\n"
     ]
    },
    {
     "name": "stdout",
     "output_type": "stream",
     "text": [
      "\t Iter [6/24]\t Loss: 0.570191\n"
     ]
    },
    {
     "name": "stdout",
     "output_type": "stream",
     "text": [
      "\t Iter [12/24]\t Loss: 0.565138\n"
     ]
    },
    {
     "name": "stdout",
     "output_type": "stream",
     "text": [
      "\t Iter [18/24]\t Loss: 0.568853\n"
     ]
    },
    {
     "name": "stdout",
     "output_type": "stream",
     "text": [
      "\t Iter [0/24]\t Loss: 0.569144\n"
     ]
    },
    {
     "name": "stdout",
     "output_type": "stream",
     "text": [
      "\t Iter [6/24]\t Loss: 0.515835\n"
     ]
    },
    {
     "name": "stdout",
     "output_type": "stream",
     "text": [
      "\t Iter [12/24]\t Loss: 0.481595\n"
     ]
    },
    {
     "name": "stdout",
     "output_type": "stream",
     "text": [
      "\t Iter [18/24]\t Loss: 0.522568\n"
     ]
    },
    {
     "name": "stdout",
     "output_type": "stream",
     "text": [
      "\t Iter [0/24]\t Loss: 0.489879\n"
     ]
    },
    {
     "name": "stdout",
     "output_type": "stream",
     "text": [
      "\t Iter [6/24]\t Loss: 0.478524\n"
     ]
    },
    {
     "name": "stdout",
     "output_type": "stream",
     "text": [
      "\t Iter [12/24]\t Loss: 0.443710\n"
     ]
    },
    {
     "name": "stdout",
     "output_type": "stream",
     "text": [
      "\t Iter [18/24]\t Loss: 0.483542\n"
     ]
    },
    {
     "name": "stdout",
     "output_type": "stream",
     "text": [
      "\t Iter [0/24]\t Loss: 0.465886\n"
     ]
    },
    {
     "name": "stdout",
     "output_type": "stream",
     "text": [
      "\t Iter [6/24]\t Loss: 0.432825\n"
     ]
    },
    {
     "name": "stdout",
     "output_type": "stream",
     "text": [
      "\t Iter [12/24]\t Loss: 0.430474\n"
     ]
    },
    {
     "name": "stdout",
     "output_type": "stream",
     "text": [
      "\t Iter [18/24]\t Loss: 0.440672\n"
     ]
    },
    {
     "name": "stderr",
     "output_type": "stream",
     "text": [
      "[I 2024-08-10 17:02:24,013] Trial 1 finished with value: 0.4861297458410263 and parameters: {'base_lr': 0.0009415765640560223}. Best is trial 1 with value: 0.4861297458410263.\n"
     ]
    },
    {
     "name": "stdout",
     "output_type": "stream",
     "text": [
      "weights_save_path: ./weights/raw/name=NaiveSampling__n_classes=10__v2_samples_per_answer=300__abs_samples_per_answer=150__source_domain=abs__base_lr=0.0005067697513404983__domain_adaptation_method=naive__.pth\n"
     ]
    },
    {
     "name": "stdout",
     "output_type": "stream",
     "text": [
      "Number of Common Labels = 25 | n_classes = 10\n",
      "Labels: ['man', 'yes', 'no', 'brown', 'dog', '2', '1', 'gray', '3', 'food']\n",
      "V2: \tTrain size = 2400           | Val size = 600 | Total = 3000\n",
      "Abs: \tTrain size = 1200           | Val size = 300 | Total = 1500\n",
      "--------------------\n"
     ]
    },
    {
     "name": "stdout",
     "output_type": "stream",
     "text": [
      "\t Iter [0/24]\t Loss: 1.497167\n"
     ]
    },
    {
     "name": "stdout",
     "output_type": "stream",
     "text": [
      "\t Iter [6/24]\t Loss: 1.180810\n"
     ]
    },
    {
     "name": "stdout",
     "output_type": "stream",
     "text": [
      "\t Iter [12/24]\t Loss: 1.120428\n"
     ]
    },
    {
     "name": "stdout",
     "output_type": "stream",
     "text": [
      "\t Iter [18/24]\t Loss: 0.904903\n"
     ]
    },
    {
     "name": "stdout",
     "output_type": "stream",
     "text": [
      "\t Iter [0/24]\t Loss: 0.735834\n"
     ]
    },
    {
     "name": "stdout",
     "output_type": "stream",
     "text": [
      "\t Iter [6/24]\t Loss: 0.895790\n"
     ]
    },
    {
     "name": "stdout",
     "output_type": "stream",
     "text": [
      "\t Iter [12/24]\t Loss: 0.743936\n"
     ]
    },
    {
     "name": "stdout",
     "output_type": "stream",
     "text": [
      "\t Iter [18/24]\t Loss: 0.565158\n"
     ]
    },
    {
     "name": "stdout",
     "output_type": "stream",
     "text": [
      "\t Iter [0/24]\t Loss: 0.518371\n"
     ]
    },
    {
     "name": "stdout",
     "output_type": "stream",
     "text": [
      "\t Iter [6/24]\t Loss: 0.474995\n"
     ]
    },
    {
     "name": "stdout",
     "output_type": "stream",
     "text": [
      "\t Iter [12/24]\t Loss: 0.465124\n"
     ]
    },
    {
     "name": "stdout",
     "output_type": "stream",
     "text": [
      "\t Iter [18/24]\t Loss: 0.441311\n"
     ]
    },
    {
     "name": "stdout",
     "output_type": "stream",
     "text": [
      "\t Iter [0/24]\t Loss: 0.427436\n"
     ]
    },
    {
     "name": "stdout",
     "output_type": "stream",
     "text": [
      "\t Iter [6/24]\t Loss: 0.418981\n"
     ]
    },
    {
     "name": "stdout",
     "output_type": "stream",
     "text": [
      "\t Iter [12/24]\t Loss: 0.378856\n"
     ]
    },
    {
     "name": "stdout",
     "output_type": "stream",
     "text": [
      "\t Iter [18/24]\t Loss: 0.391201\n"
     ]
    },
    {
     "name": "stdout",
     "output_type": "stream",
     "text": [
      "\t Iter [0/24]\t Loss: 0.343405\n"
     ]
    },
    {
     "name": "stdout",
     "output_type": "stream",
     "text": [
      "\t Iter [6/24]\t Loss: 0.368513\n"
     ]
    },
    {
     "name": "stdout",
     "output_type": "stream",
     "text": [
      "\t Iter [12/24]\t Loss: 0.364369\n"
     ]
    },
    {
     "name": "stdout",
     "output_type": "stream",
     "text": [
      "\t Iter [18/24]\t Loss: 0.432240\n"
     ]
    },
    {
     "name": "stdout",
     "output_type": "stream",
     "text": [
      "\t Iter [0/24]\t Loss: 0.299409\n"
     ]
    },
    {
     "name": "stdout",
     "output_type": "stream",
     "text": [
      "\t Iter [6/24]\t Loss: 0.323907\n"
     ]
    },
    {
     "name": "stdout",
     "output_type": "stream",
     "text": [
      "\t Iter [12/24]\t Loss: 0.361191\n"
     ]
    },
    {
     "name": "stdout",
     "output_type": "stream",
     "text": [
      "\t Iter [18/24]\t Loss: 0.294922\n"
     ]
    },
    {
     "name": "stdout",
     "output_type": "stream",
     "text": [
      "\t Iter [0/24]\t Loss: 0.299509\n"
     ]
    },
    {
     "name": "stdout",
     "output_type": "stream",
     "text": [
      "\t Iter [6/24]\t Loss: 0.283581\n"
     ]
    },
    {
     "name": "stdout",
     "output_type": "stream",
     "text": [
      "\t Iter [12/24]\t Loss: 0.272702\n"
     ]
    },
    {
     "name": "stdout",
     "output_type": "stream",
     "text": [
      "\t Iter [18/24]\t Loss: 0.318485\n"
     ]
    },
    {
     "name": "stdout",
     "output_type": "stream",
     "text": [
      "\t Iter [0/24]\t Loss: 0.315242\n"
     ]
    },
    {
     "name": "stdout",
     "output_type": "stream",
     "text": [
      "\t Iter [6/24]\t Loss: 0.282601\n"
     ]
    },
    {
     "name": "stdout",
     "output_type": "stream",
     "text": [
      "\t Iter [12/24]\t Loss: 0.274039\n"
     ]
    },
    {
     "name": "stdout",
     "output_type": "stream",
     "text": [
      "\t Iter [18/24]\t Loss: 0.323289\n"
     ]
    },
    {
     "name": "stdout",
     "output_type": "stream",
     "text": [
      "\t Iter [0/24]\t Loss: 0.289548\n"
     ]
    },
    {
     "name": "stdout",
     "output_type": "stream",
     "text": [
      "\t Iter [6/24]\t Loss: 0.278283\n"
     ]
    },
    {
     "name": "stdout",
     "output_type": "stream",
     "text": [
      "\t Iter [12/24]\t Loss: 0.248058\n"
     ]
    },
    {
     "name": "stdout",
     "output_type": "stream",
     "text": [
      "\t Iter [18/24]\t Loss: 0.255424\n"
     ]
    },
    {
     "name": "stdout",
     "output_type": "stream",
     "text": [
      "\t Iter [0/24]\t Loss: 0.298717\n"
     ]
    },
    {
     "name": "stdout",
     "output_type": "stream",
     "text": [
      "\t Iter [6/24]\t Loss: 0.268549\n"
     ]
    },
    {
     "name": "stdout",
     "output_type": "stream",
     "text": [
      "\t Iter [12/24]\t Loss: 0.260794\n"
     ]
    },
    {
     "name": "stdout",
     "output_type": "stream",
     "text": [
      "\t Iter [18/24]\t Loss: 0.277180\n"
     ]
    },
    {
     "name": "stderr",
     "output_type": "stream",
     "text": [
      "[I 2024-08-10 17:16:34,683] Trial 2 finished with value: 0.38384515047073364 and parameters: {'base_lr': 0.0005067697513404983}. Best is trial 2 with value: 0.38384515047073364.\n"
     ]
    },
    {
     "name": "stdout",
     "output_type": "stream",
     "text": [
      "weights_save_path: ./weights/raw/name=NaiveSampling__n_classes=10__v2_samples_per_answer=300__abs_samples_per_answer=150__source_domain=abs__base_lr=0.00017128952377265866__domain_adaptation_method=naive__.pth\n"
     ]
    },
    {
     "name": "stdout",
     "output_type": "stream",
     "text": [
      "Number of Common Labels = 25 | n_classes = 10\n",
      "Labels: ['man', 'yes', 'no', 'brown', 'dog', '2', '1', 'gray', '3', 'food']\n",
      "V2: \tTrain size = 2400           | Val size = 600 | Total = 3000\n",
      "Abs: \tTrain size = 1200           | Val size = 300 | Total = 1500\n",
      "--------------------\n"
     ]
    },
    {
     "name": "stdout",
     "output_type": "stream",
     "text": [
      "\t Iter [0/24]\t Loss: 1.496032\n"
     ]
    },
    {
     "name": "stdout",
     "output_type": "stream",
     "text": [
      "\t Iter [6/24]\t Loss: 1.289684\n"
     ]
    },
    {
     "name": "stdout",
     "output_type": "stream",
     "text": [
      "\t Iter [12/24]\t Loss: 1.174280\n"
     ]
    },
    {
     "name": "stdout",
     "output_type": "stream",
     "text": [
      "\t Iter [18/24]\t Loss: 1.161588\n"
     ]
    },
    {
     "name": "stdout",
     "output_type": "stream",
     "text": [
      "\t Iter [0/24]\t Loss: 1.147176\n"
     ]
    },
    {
     "name": "stdout",
     "output_type": "stream",
     "text": [
      "\t Iter [6/24]\t Loss: 1.116364\n"
     ]
    },
    {
     "name": "stdout",
     "output_type": "stream",
     "text": [
      "\t Iter [12/24]\t Loss: 0.986783\n"
     ]
    },
    {
     "name": "stdout",
     "output_type": "stream",
     "text": [
      "\t Iter [18/24]\t Loss: 0.818914\n"
     ]
    },
    {
     "name": "stdout",
     "output_type": "stream",
     "text": [
      "\t Iter [0/24]\t Loss: 0.789089\n"
     ]
    },
    {
     "name": "stdout",
     "output_type": "stream",
     "text": [
      "\t Iter [6/24]\t Loss: 0.705704\n"
     ]
    },
    {
     "name": "stdout",
     "output_type": "stream",
     "text": [
      "\t Iter [12/24]\t Loss: 0.571458\n"
     ]
    },
    {
     "name": "stdout",
     "output_type": "stream",
     "text": [
      "\t Iter [18/24]\t Loss: 0.564344\n"
     ]
    },
    {
     "name": "stdout",
     "output_type": "stream",
     "text": [
      "\t Iter [0/24]\t Loss: 0.484857\n"
     ]
    },
    {
     "name": "stdout",
     "output_type": "stream",
     "text": [
      "\t Iter [6/24]\t Loss: 0.467142\n"
     ]
    },
    {
     "name": "stdout",
     "output_type": "stream",
     "text": [
      "\t Iter [12/24]\t Loss: 0.428237\n"
     ]
    },
    {
     "name": "stdout",
     "output_type": "stream",
     "text": [
      "\t Iter [18/24]\t Loss: 0.408437\n"
     ]
    },
    {
     "name": "stdout",
     "output_type": "stream",
     "text": [
      "\t Iter [0/24]\t Loss: 0.439318\n"
     ]
    },
    {
     "name": "stdout",
     "output_type": "stream",
     "text": [
      "\t Iter [6/24]\t Loss: 0.431079\n"
     ]
    },
    {
     "name": "stdout",
     "output_type": "stream",
     "text": [
      "\t Iter [12/24]\t Loss: 0.371570\n"
     ]
    },
    {
     "name": "stdout",
     "output_type": "stream",
     "text": [
      "\t Iter [18/24]\t Loss: 0.433253\n"
     ]
    },
    {
     "name": "stdout",
     "output_type": "stream",
     "text": [
      "\t Iter [0/24]\t Loss: 0.424645\n"
     ]
    },
    {
     "name": "stdout",
     "output_type": "stream",
     "text": [
      "\t Iter [6/24]\t Loss: 0.416074\n"
     ]
    },
    {
     "name": "stdout",
     "output_type": "stream",
     "text": [
      "\t Iter [12/24]\t Loss: 0.366061\n"
     ]
    },
    {
     "name": "stdout",
     "output_type": "stream",
     "text": [
      "\t Iter [18/24]\t Loss: 0.369025\n"
     ]
    },
    {
     "name": "stdout",
     "output_type": "stream",
     "text": [
      "\t Iter [0/24]\t Loss: 0.397762\n"
     ]
    },
    {
     "name": "stdout",
     "output_type": "stream",
     "text": [
      "\t Iter [6/24]\t Loss: 0.342804\n"
     ]
    },
    {
     "name": "stdout",
     "output_type": "stream",
     "text": [
      "\t Iter [12/24]\t Loss: 0.378159\n"
     ]
    },
    {
     "name": "stdout",
     "output_type": "stream",
     "text": [
      "\t Iter [18/24]\t Loss: 0.398966\n"
     ]
    },
    {
     "name": "stdout",
     "output_type": "stream",
     "text": [
      "\t Iter [0/24]\t Loss: 0.342669\n"
     ]
    },
    {
     "name": "stdout",
     "output_type": "stream",
     "text": [
      "\t Iter [6/24]\t Loss: 0.345330\n"
     ]
    },
    {
     "name": "stdout",
     "output_type": "stream",
     "text": [
      "\t Iter [12/24]\t Loss: 0.336561\n"
     ]
    },
    {
     "name": "stdout",
     "output_type": "stream",
     "text": [
      "\t Iter [18/24]\t Loss: 0.377448\n"
     ]
    },
    {
     "name": "stdout",
     "output_type": "stream",
     "text": [
      "\t Iter [0/24]\t Loss: 0.317234\n"
     ]
    },
    {
     "name": "stdout",
     "output_type": "stream",
     "text": [
      "\t Iter [6/24]\t Loss: 0.346289\n"
     ]
    },
    {
     "name": "stdout",
     "output_type": "stream",
     "text": [
      "\t Iter [12/24]\t Loss: 0.326600\n"
     ]
    },
    {
     "name": "stdout",
     "output_type": "stream",
     "text": [
      "\t Iter [18/24]\t Loss: 0.324276\n"
     ]
    },
    {
     "name": "stdout",
     "output_type": "stream",
     "text": [
      "\t Iter [0/24]\t Loss: 0.294080\n"
     ]
    },
    {
     "name": "stdout",
     "output_type": "stream",
     "text": [
      "\t Iter [6/24]\t Loss: 0.347883\n"
     ]
    },
    {
     "name": "stdout",
     "output_type": "stream",
     "text": [
      "\t Iter [12/24]\t Loss: 0.326908\n"
     ]
    },
    {
     "name": "stdout",
     "output_type": "stream",
     "text": [
      "\t Iter [18/24]\t Loss: 0.294848\n"
     ]
    },
    {
     "name": "stderr",
     "output_type": "stream",
     "text": [
      "[I 2024-08-10 17:30:40,601] Trial 3 finished with value: 0.38930845260620117 and parameters: {'base_lr': 0.00017128952377265866}. Best is trial 2 with value: 0.38384515047073364.\n"
     ]
    },
    {
     "name": "stdout",
     "output_type": "stream",
     "text": [
      "weights_save_path: ./weights/raw/name=NaiveSampling__n_classes=10__v2_samples_per_answer=300__abs_samples_per_answer=150__source_domain=abs__base_lr=4.524410164330795e-05__domain_adaptation_method=naive__.pth\n"
     ]
    },
    {
     "name": "stdout",
     "output_type": "stream",
     "text": [
      "Number of Common Labels = 25 | n_classes = 10\n",
      "Labels: ['man', 'yes', 'no', 'brown', 'dog', '2', '1', 'gray', '3', 'food']\n",
      "V2: \tTrain size = 2400           | Val size = 600 | Total = 3000\n",
      "Abs: \tTrain size = 1200           | Val size = 300 | Total = 1500\n",
      "--------------------\n"
     ]
    },
    {
     "name": "stdout",
     "output_type": "stream",
     "text": [
      "\t Iter [0/24]\t Loss: 1.495839\n"
     ]
    },
    {
     "name": "stdout",
     "output_type": "stream",
     "text": [
      "\t Iter [6/24]\t Loss: 1.484184\n"
     ]
    },
    {
     "name": "stdout",
     "output_type": "stream",
     "text": [
      "\t Iter [12/24]\t Loss: 1.435433\n"
     ]
    },
    {
     "name": "stdout",
     "output_type": "stream",
     "text": [
      "\t Iter [18/24]\t Loss: 1.298122\n"
     ]
    },
    {
     "name": "stdout",
     "output_type": "stream",
     "text": [
      "\t Iter [0/24]\t Loss: 1.168878\n"
     ]
    },
    {
     "name": "stdout",
     "output_type": "stream",
     "text": [
      "\t Iter [6/24]\t Loss: 1.152078\n"
     ]
    },
    {
     "name": "stdout",
     "output_type": "stream",
     "text": [
      "\t Iter [12/24]\t Loss: 1.155813\n"
     ]
    },
    {
     "name": "stdout",
     "output_type": "stream",
     "text": [
      "\t Iter [18/24]\t Loss: 1.137513\n"
     ]
    },
    {
     "name": "stdout",
     "output_type": "stream",
     "text": [
      "\t Iter [0/24]\t Loss: 1.133353\n"
     ]
    },
    {
     "name": "stdout",
     "output_type": "stream",
     "text": [
      "\t Iter [6/24]\t Loss: 1.119861\n"
     ]
    },
    {
     "name": "stdout",
     "output_type": "stream",
     "text": [
      "\t Iter [12/24]\t Loss: 1.089880\n"
     ]
    },
    {
     "name": "stdout",
     "output_type": "stream",
     "text": [
      "\t Iter [18/24]\t Loss: 1.020661\n"
     ]
    },
    {
     "name": "stdout",
     "output_type": "stream",
     "text": [
      "\t Iter [0/24]\t Loss: 0.885118\n"
     ]
    },
    {
     "name": "stdout",
     "output_type": "stream",
     "text": [
      "\t Iter [6/24]\t Loss: 0.841782\n"
     ]
    },
    {
     "name": "stdout",
     "output_type": "stream",
     "text": [
      "\t Iter [12/24]\t Loss: 0.736922\n"
     ]
    },
    {
     "name": "stdout",
     "output_type": "stream",
     "text": [
      "\t Iter [18/24]\t Loss: 0.704987\n"
     ]
    },
    {
     "name": "stdout",
     "output_type": "stream",
     "text": [
      "\t Iter [0/24]\t Loss: 0.604685\n"
     ]
    },
    {
     "name": "stdout",
     "output_type": "stream",
     "text": [
      "\t Iter [6/24]\t Loss: 0.599708\n"
     ]
    },
    {
     "name": "stdout",
     "output_type": "stream",
     "text": [
      "\t Iter [12/24]\t Loss: 0.583293\n"
     ]
    },
    {
     "name": "stdout",
     "output_type": "stream",
     "text": [
      "\t Iter [18/24]\t Loss: 0.532501\n"
     ]
    },
    {
     "name": "stdout",
     "output_type": "stream",
     "text": [
      "\t Iter [0/24]\t Loss: 0.521551\n"
     ]
    },
    {
     "name": "stdout",
     "output_type": "stream",
     "text": [
      "\t Iter [6/24]\t Loss: 0.520882\n"
     ]
    },
    {
     "name": "stdout",
     "output_type": "stream",
     "text": [
      "\t Iter [12/24]\t Loss: 0.464910\n"
     ]
    },
    {
     "name": "stdout",
     "output_type": "stream",
     "text": [
      "\t Iter [18/24]\t Loss: 0.483792\n"
     ]
    },
    {
     "name": "stdout",
     "output_type": "stream",
     "text": [
      "\t Iter [0/24]\t Loss: 0.486284\n"
     ]
    },
    {
     "name": "stdout",
     "output_type": "stream",
     "text": [
      "\t Iter [6/24]\t Loss: 0.512080\n"
     ]
    },
    {
     "name": "stdout",
     "output_type": "stream",
     "text": [
      "\t Iter [12/24]\t Loss: 0.518052\n"
     ]
    },
    {
     "name": "stdout",
     "output_type": "stream",
     "text": [
      "\t Iter [18/24]\t Loss: 0.485444\n"
     ]
    },
    {
     "name": "stdout",
     "output_type": "stream",
     "text": [
      "\t Iter [0/24]\t Loss: 0.465301\n"
     ]
    },
    {
     "name": "stdout",
     "output_type": "stream",
     "text": [
      "\t Iter [6/24]\t Loss: 0.420244\n"
     ]
    },
    {
     "name": "stdout",
     "output_type": "stream",
     "text": [
      "\t Iter [12/24]\t Loss: 0.435463\n"
     ]
    },
    {
     "name": "stdout",
     "output_type": "stream",
     "text": [
      "\t Iter [18/24]\t Loss: 0.465993\n"
     ]
    },
    {
     "name": "stdout",
     "output_type": "stream",
     "text": [
      "\t Iter [0/24]\t Loss: 0.464694\n"
     ]
    },
    {
     "name": "stdout",
     "output_type": "stream",
     "text": [
      "\t Iter [6/24]\t Loss: 0.438300\n"
     ]
    },
    {
     "name": "stdout",
     "output_type": "stream",
     "text": [
      "\t Iter [12/24]\t Loss: 0.436619\n"
     ]
    },
    {
     "name": "stdout",
     "output_type": "stream",
     "text": [
      "\t Iter [18/24]\t Loss: 0.465679\n"
     ]
    },
    {
     "name": "stdout",
     "output_type": "stream",
     "text": [
      "\t Iter [0/24]\t Loss: 0.485363\n"
     ]
    },
    {
     "name": "stdout",
     "output_type": "stream",
     "text": [
      "\t Iter [6/24]\t Loss: 0.428227\n"
     ]
    },
    {
     "name": "stdout",
     "output_type": "stream",
     "text": [
      "\t Iter [12/24]\t Loss: 0.458097\n"
     ]
    },
    {
     "name": "stdout",
     "output_type": "stream",
     "text": [
      "\t Iter [18/24]\t Loss: 0.405400\n"
     ]
    },
    {
     "name": "stderr",
     "output_type": "stream",
     "text": [
      "[I 2024-08-10 17:45:58,455] Trial 4 finished with value: 0.45584821701049805 and parameters: {'base_lr': 4.524410164330795e-05}. Best is trial 2 with value: 0.38384515047073364.\n"
     ]
    },
    {
     "name": "stdout",
     "output_type": "stream",
     "text": [
      "weights_save_path: ./weights/raw/name=NaiveSampling__n_classes=10__v2_samples_per_answer=300__abs_samples_per_answer=150__source_domain=abs__base_lr=9.789886426304627e-05__domain_adaptation_method=naive__.pth\n"
     ]
    },
    {
     "name": "stdout",
     "output_type": "stream",
     "text": [
      "Number of Common Labels = 25 | n_classes = 10\n",
      "Labels: ['man', 'yes', 'no', 'brown', 'dog', '2', '1', 'gray', '3', 'food']\n",
      "V2: \tTrain size = 2400           | Val size = 600 | Total = 3000\n",
      "Abs: \tTrain size = 1200           | Val size = 300 | Total = 1500\n",
      "--------------------\n"
     ]
    },
    {
     "name": "stdout",
     "output_type": "stream",
     "text": [
      "\t Iter [0/24]\t Loss: 1.498158\n"
     ]
    },
    {
     "name": "stdout",
     "output_type": "stream",
     "text": [
      "\t Iter [6/24]\t Loss: 1.441038\n"
     ]
    },
    {
     "name": "stdout",
     "output_type": "stream",
     "text": [
      "\t Iter [12/24]\t Loss: 1.175808\n"
     ]
    },
    {
     "name": "stdout",
     "output_type": "stream",
     "text": [
      "\t Iter [18/24]\t Loss: 1.149845\n"
     ]
    },
    {
     "name": "stdout",
     "output_type": "stream",
     "text": [
      "\t Iter [0/24]\t Loss: 1.150783\n"
     ]
    },
    {
     "name": "stdout",
     "output_type": "stream",
     "text": [
      "\t Iter [6/24]\t Loss: 1.133325\n"
     ]
    },
    {
     "name": "stdout",
     "output_type": "stream",
     "text": [
      "\t Iter [12/24]\t Loss: 1.122110\n"
     ]
    },
    {
     "name": "stdout",
     "output_type": "stream",
     "text": [
      "\t Iter [18/24]\t Loss: 1.118306\n"
     ]
    },
    {
     "name": "stderr",
     "output_type": "stream",
     "text": [
      "[I 2024-08-10 17:48:57,937] Trial 5 pruned. \n"
     ]
    },
    {
     "name": "stdout",
     "output_type": "stream",
     "text": [
      "weights_save_path: ./weights/raw/name=NaiveSampling__n_classes=10__v2_samples_per_answer=300__abs_samples_per_answer=150__source_domain=abs__base_lr=0.0007339512379779837__domain_adaptation_method=naive__.pth\n"
     ]
    },
    {
     "name": "stdout",
     "output_type": "stream",
     "text": [
      "Number of Common Labels = 25 | n_classes = 10\n",
      "Labels: ['man', 'yes', 'no', 'brown', 'dog', '2', '1', 'gray', '3', 'food']\n",
      "V2: \tTrain size = 2400           | Val size = 600 | Total = 3000\n",
      "Abs: \tTrain size = 1200           | Val size = 300 | Total = 1500\n",
      "--------------------\n"
     ]
    },
    {
     "name": "stdout",
     "output_type": "stream",
     "text": [
      "\t Iter [0/24]\t Loss: 1.500117\n"
     ]
    },
    {
     "name": "stdout",
     "output_type": "stream",
     "text": [
      "\t Iter [6/24]\t Loss: 1.182253\n"
     ]
    },
    {
     "name": "stdout",
     "output_type": "stream",
     "text": [
      "\t Iter [12/24]\t Loss: 1.270965\n"
     ]
    },
    {
     "name": "stdout",
     "output_type": "stream",
     "text": [
      "\t Iter [18/24]\t Loss: 1.140519\n"
     ]
    },
    {
     "name": "stdout",
     "output_type": "stream",
     "text": [
      "\t Iter [0/24]\t Loss: 0.841811\n"
     ]
    },
    {
     "name": "stdout",
     "output_type": "stream",
     "text": [
      "\t Iter [6/24]\t Loss: 0.686976\n"
     ]
    },
    {
     "name": "stdout",
     "output_type": "stream",
     "text": [
      "\t Iter [12/24]\t Loss: 0.693402\n"
     ]
    },
    {
     "name": "stdout",
     "output_type": "stream",
     "text": [
      "\t Iter [18/24]\t Loss: 0.627953\n"
     ]
    }
   ],
   "source": [
    "import os\n",
    "os.chdir('/workspace')\n",
    "\n",
    "from optuna_training.trainer import OptunaTrainer\n",
    "\n",
    "trainer = OptunaTrainer()\n",
    "trainer.run()"
   ]
  }
 ],
 "metadata": {
  "kernelspec": {
   "display_name": "Python 3",
   "language": "python",
   "name": "python3"
  },
  "language_info": {
   "codemirror_mode": {
    "name": "ipython",
    "version": 3
   },
   "file_extension": ".py",
   "mimetype": "text/x-python",
   "name": "python",
   "nbconvert_exporter": "python",
   "pygments_lexer": "ipython3",
   "version": "3.8.10"
  },
  "papermill": {
   "default_parameters": {},
   "duration": null,
   "end_time": null,
   "environment_variables": {},
   "exception": null,
   "input_path": "optuna_training/main.ipynb",
   "output_path": "optuna_training/output.ipynb",
   "parameters": {},
   "start_time": "2024-08-10T14:39:07.677054",
   "version": "2.6.0"
  }
 },
 "nbformat": 4,
 "nbformat_minor": 5
}