{
 "cells": [
  {
   "cell_type": "markdown",
   "id": "82687e1d",
   "metadata": {},
   "source": [
    "loss was ossilating, so reduced lr in next iteration"
   ]
  },
  {
   "cell_type": "code",
   "execution_count": 1,
   "id": "8bd1078b",
   "metadata": {
    "execution": {
     "iopub.execute_input": "2024-09-04T09:11:47.677595Z",
     "iopub.status.busy": "2024-09-04T09:11:47.677410Z"
    },
    "papermill": {
     "duration": 18523.236645,
     "end_time": "2024-09-04T14:20:30.912357",
     "exception": false,
     "start_time": "2024-09-04T09:11:47.675712",
     "status": "completed"
    },
    "tags": []
   },
   "outputs": [
    {
     "name": "stdout",
     "output_type": "stream",
     "text": [
      "weights_save_path: ./weights/raw/OIGAN5sA.pth\n"
     ]
    },
    {
     "name": "stdout",
     "output_type": "stream",
     "text": [
      "Labels: ['beige', 'black', 'blue', 'brown', 'gray', 'green', 'orange', 'pink', 'red', 'red and white', 'tan', 'white', 'yellow', 'bench', 'chair', 'couch', 'floor', 'table', 'tv', 'blanket', 'book', 'frisbee', 'skateboard', 'soccer', 'baby', 'bird', 'boy', 'cat', 'dog', 'fish', 'flowers', 'girl', 'man', 'mouse', 'tree', 'woman', 'eating', 'playing', 'sitting', 'sleeping', 'standing', 'walking', 'park', 'sidewalk', 'living room', 'on table', 'sky', 'apple', 'pizza', 'sandwich', 'wine', 'food', '0', '1', '2', '3', '4', '5', '6', 'no', 'no one', 'nothing', 'yes', 'left', 'right']\n",
      "Number of Common Labels = 65 | n_classes = 65\n",
      "V2: \tTrain size = 131351             | Val size = 1625 | Total = 132976\n",
      "Abs: \tTrain size = 43837             | Val size = 1625 | Total = 45462\n",
      "--------------------\n"
     ]
    },
    {
     "name": "stdout",
     "output_type": "stream",
     "text": [
      "\t Iter [0/146]\t Loss: 3.064441\n"
     ]
    },
    {
     "name": "stdout",
     "output_type": "stream",
     "text": [
      "\t Iter [18/146]\t Loss: 1.007291\n"
     ]
    },
    {
     "name": "stdout",
     "output_type": "stream",
     "text": [
      "\t Iter [36/146]\t Loss: 0.912915\n"
     ]
    },
    {
     "name": "stdout",
     "output_type": "stream",
     "text": [
      "\t Iter [54/146]\t Loss: 0.855832\n"
     ]
    },
    {
     "name": "stdout",
     "output_type": "stream",
     "text": [
      "\t Iter [72/146]\t Loss: 0.878532\n"
     ]
    },
    {
     "name": "stdout",
     "output_type": "stream",
     "text": [
      "\t Iter [90/146]\t Loss: 0.834486\n"
     ]
    },
    {
     "name": "stdout",
     "output_type": "stream",
     "text": [
      "\t Iter [108/146]\t Loss: 0.819211\n"
     ]
    },
    {
     "name": "stdout",
     "output_type": "stream",
     "text": [
      "\t Iter [126/146]\t Loss: 0.822124\n"
     ]
    },
    {
     "name": "stdout",
     "output_type": "stream",
     "text": [
      "\t Iter [144/146]\t Loss: 0.792515\n"
     ]
    },
    {
     "name": "stdout",
     "output_type": "stream",
     "text": [
      "Epoch [1/30]\t                         Avg Train Loss: 0.941785\t                         Avg Eval Loss: 3.814107\t                         Avg Domain Accuracy: 0.51\t                         Avg Label Type Accuracy: 0.20\t                         Avg Total Eval Accuracy: 0.03\n"
     ]
    },
    {
     "name": "stdout",
     "output_type": "stream",
     "text": [
      "\t Iter [0/146]\t Loss: 0.795057\n"
     ]
    },
    {
     "name": "stdout",
     "output_type": "stream",
     "text": [
      "\t Iter [18/146]\t Loss: 0.794433\n"
     ]
    },
    {
     "name": "stdout",
     "output_type": "stream",
     "text": [
      "\t Iter [36/146]\t Loss: 0.817977\n"
     ]
    },
    {
     "name": "stdout",
     "output_type": "stream",
     "text": [
      "\t Iter [54/146]\t Loss: 0.790548\n"
     ]
    },
    {
     "name": "stdout",
     "output_type": "stream",
     "text": [
      "\t Iter [72/146]\t Loss: 0.775105\n"
     ]
    },
    {
     "name": "stdout",
     "output_type": "stream",
     "text": [
      "\t Iter [90/146]\t Loss: 0.770674\n"
     ]
    },
    {
     "name": "stdout",
     "output_type": "stream",
     "text": [
      "\t Iter [108/146]\t Loss: 0.773803\n"
     ]
    },
    {
     "name": "stdout",
     "output_type": "stream",
     "text": [
      "\t Iter [126/146]\t Loss: 0.787727\n"
     ]
    },
    {
     "name": "stdout",
     "output_type": "stream",
     "text": [
      "\t Iter [144/146]\t Loss: 0.777916\n"
     ]
    },
    {
     "name": "stdout",
     "output_type": "stream",
     "text": [
      "Epoch [2/30]\t                         Avg Train Loss: 0.788995\t                         Avg Eval Loss: 4.045645\t                         Avg Domain Accuracy: 0.51\t                         Avg Label Type Accuracy: 0.20\t                         Avg Total Eval Accuracy: 0.02\n"
     ]
    },
    {
     "name": "stdout",
     "output_type": "stream",
     "text": [
      "\t Iter [0/146]\t Loss: 0.779470\n"
     ]
    },
    {
     "name": "stdout",
     "output_type": "stream",
     "text": [
      "\t Iter [18/146]\t Loss: 0.757127\n"
     ]
    },
    {
     "name": "stdout",
     "output_type": "stream",
     "text": [
      "\t Iter [36/146]\t Loss: 0.752365\n"
     ]
    },
    {
     "name": "stdout",
     "output_type": "stream",
     "text": [
      "\t Iter [54/146]\t Loss: 0.753564\n"
     ]
    },
    {
     "name": "stdout",
     "output_type": "stream",
     "text": [
      "\t Iter [72/146]\t Loss: 0.769428\n"
     ]
    },
    {
     "name": "stdout",
     "output_type": "stream",
     "text": [
      "\t Iter [90/146]\t Loss: 0.758336\n"
     ]
    },
    {
     "name": "stdout",
     "output_type": "stream",
     "text": [
      "\t Iter [108/146]\t Loss: 0.753297\n"
     ]
    },
    {
     "name": "stdout",
     "output_type": "stream",
     "text": [
      "\t Iter [126/146]\t Loss: 0.773732\n"
     ]
    },
    {
     "name": "stdout",
     "output_type": "stream",
     "text": [
      "\t Iter [144/146]\t Loss: 0.754960\n"
     ]
    },
    {
     "name": "stdout",
     "output_type": "stream",
     "text": [
      "Epoch [3/30]\t                         Avg Train Loss: 0.766030\t                         Avg Eval Loss: 4.029860\t                         Avg Domain Accuracy: 0.49\t                         Avg Label Type Accuracy: 0.21\t                         Avg Total Eval Accuracy: 0.02\n"
     ]
    },
    {
     "name": "stdout",
     "output_type": "stream",
     "text": [
      "\t Iter [0/146]\t Loss: 0.743349\n"
     ]
    },
    {
     "name": "stdout",
     "output_type": "stream",
     "text": [
      "\t Iter [18/146]\t Loss: 0.755517\n"
     ]
    },
    {
     "name": "stdout",
     "output_type": "stream",
     "text": [
      "\t Iter [36/146]\t Loss: 0.742782\n"
     ]
    },
    {
     "name": "stdout",
     "output_type": "stream",
     "text": [
      "\t Iter [54/146]\t Loss: 0.748150\n"
     ]
    },
    {
     "name": "stdout",
     "output_type": "stream",
     "text": [
      "\t Iter [72/146]\t Loss: 0.753480\n"
     ]
    },
    {
     "name": "stdout",
     "output_type": "stream",
     "text": [
      "\t Iter [90/146]\t Loss: 0.756778\n"
     ]
    },
    {
     "name": "stdout",
     "output_type": "stream",
     "text": [
      "\t Iter [108/146]\t Loss: 0.758590\n"
     ]
    },
    {
     "name": "stdout",
     "output_type": "stream",
     "text": [
      "\t Iter [126/146]\t Loss: 0.753977\n"
     ]
    },
    {
     "name": "stdout",
     "output_type": "stream",
     "text": [
      "\t Iter [144/146]\t Loss: 0.760285\n"
     ]
    },
    {
     "name": "stdout",
     "output_type": "stream",
     "text": [
      "Epoch [4/30]\t                         Avg Train Loss: 0.750512\t                         Avg Eval Loss: 4.152596\t                         Avg Domain Accuracy: 0.51\t                         Avg Label Type Accuracy: 0.21\t                         Avg Total Eval Accuracy: 0.02\n"
     ]
    },
    {
     "name": "stdout",
     "output_type": "stream",
     "text": [
      "\t Iter [0/146]\t Loss: 0.739634\n"
     ]
    },
    {
     "name": "stdout",
     "output_type": "stream",
     "text": [
      "\t Iter [18/146]\t Loss: 0.741266\n"
     ]
    },
    {
     "name": "stdout",
     "output_type": "stream",
     "text": [
      "\t Iter [36/146]\t Loss: 0.743258\n"
     ]
    },
    {
     "name": "stdout",
     "output_type": "stream",
     "text": [
      "\t Iter [54/146]\t Loss: 0.733165\n"
     ]
    },
    {
     "name": "stdout",
     "output_type": "stream",
     "text": [
      "\t Iter [72/146]\t Loss: 0.740806\n"
     ]
    },
    {
     "name": "stdout",
     "output_type": "stream",
     "text": [
      "\t Iter [90/146]\t Loss: 0.737907\n"
     ]
    },
    {
     "name": "stdout",
     "output_type": "stream",
     "text": [
      "\t Iter [108/146]\t Loss: 0.731390\n"
     ]
    },
    {
     "name": "stdout",
     "output_type": "stream",
     "text": [
      "\t Iter [126/146]\t Loss: 0.740360\n"
     ]
    },
    {
     "name": "stdout",
     "output_type": "stream",
     "text": [
      "\t Iter [144/146]\t Loss: 0.731619\n"
     ]
    },
    {
     "name": "stdout",
     "output_type": "stream",
     "text": [
      "Epoch [5/30]\t                         Avg Train Loss: 0.739735\t                         Avg Eval Loss: 4.151862\t                         Avg Domain Accuracy: 0.49\t                         Avg Label Type Accuracy: 0.21\t                         Avg Total Eval Accuracy: 0.02\n"
     ]
    },
    {
     "name": "stdout",
     "output_type": "stream",
     "text": [
      "\t Iter [0/146]\t Loss: 0.724561\n"
     ]
    },
    {
     "name": "stdout",
     "output_type": "stream",
     "text": [
      "\t Iter [18/146]\t Loss: 0.729483\n"
     ]
    },
    {
     "name": "stdout",
     "output_type": "stream",
     "text": [
      "\t Iter [36/146]\t Loss: 0.730323\n"
     ]
    },
    {
     "name": "stdout",
     "output_type": "stream",
     "text": [
      "\t Iter [54/146]\t Loss: 0.743002\n"
     ]
    },
    {
     "name": "stdout",
     "output_type": "stream",
     "text": [
      "\t Iter [72/146]\t Loss: 0.725782\n"
     ]
    },
    {
     "name": "stdout",
     "output_type": "stream",
     "text": [
      "\t Iter [90/146]\t Loss: 0.728861\n"
     ]
    },
    {
     "name": "stdout",
     "output_type": "stream",
     "text": [
      "\t Iter [108/146]\t Loss: 0.736702\n"
     ]
    }
   ],
   "source": [
    "import os\n",
    "os.chdir('/workspace')\n",
    "from trainer import * \n",
    "\n",
    "\n",
    "label_type_50 = {\n",
    "    'colors':        ['beige', 'black', 'blue', 'brown', 'gray', 'green', 'orange', 'pink', 'red', 'red and white', 'tan', 'white', 'yellow'],\n",
    "    'objects':       ['bench', 'chair', 'couch', 'floor', 'table', 'tv', 'blanket', 'book', 'frisbee', 'skateboard', 'soccer'],\n",
    "    'living-things': ['baby', 'bird', 'boy', 'cat', 'dog', 'fish', 'flowers', 'girl', 'man', 'mouse', 'tree', 'woman'],\n",
    "    'actions':       ['eating', 'playing', 'sitting', 'sleeping', 'standing', 'walking'],\n",
    "    'locations':     ['park', 'sidewalk', 'living room', 'on table', 'sky'],\n",
    "    'foods':         ['apple', 'pizza', 'sandwich', 'wine', 'food'],\n",
    "    'numbers':       ['0', '1', '2', '3', '4', '5', '6'],\n",
    "    'responses':     ['no', 'no one', 'nothing', 'yes'],\n",
    "    'directions':    ['left', 'right'],\n",
    "}\n",
    "\n",
    "label_type_20 = {\n",
    "    'colors':        ['beige', 'black', 'blue', 'brown', 'gray', 'green', 'orange', 'pink', 'red', 'red and white', 'tan', 'white', 'yellow'],\n",
    "    'objects':       ['bench', 'chair', 'couch', 'floor', 'table', 'tv', 'blanket', 'book', 'frisbee', 'skateboard', 'soccer', 'bike', 'car', 'bottle', 'cup', 'plate'],\n",
    "    'living-things': ['baby', 'bird', 'boy', 'cat', 'dog', 'fish', 'flowers', 'girl', 'man', 'mouse', 'tree', 'woman', 'duck', 'eagle', 'mushrooms'],\n",
    "    'actions':       ['eating', 'playing', 'sitting', 'sleeping', 'standing', 'walking', 'running', 'jumping', 'drinking'],\n",
    "    'locations':     ['park', 'sidewalk', 'living room', 'on table', 'sky', 'on floor', 'on grass'],\n",
    "    'foods':         ['apple', 'pizza', 'sandwich', 'wine', 'food', 'cheese', 'hot dog', 'bread', 'steak'],\n",
    "    'numbers':       ['0', '1', '2', '3', '4', '5', '6', '7', '8', '9', '10', '11'],\n",
    "    'responses':     ['no', 'no one', 'nothing', 'yes'],\n",
    "    'directions':    ['left', 'right'],\n",
    "    'times':         ['morning', 'afternoon', 'evening', 'night'],\n",
    "    'weather':       ['sunny', 'clouds', 'sunset', 'rainy'],\n",
    "    'patterns':      ['checkered', 'floral'],\n",
    "}\n",
    "\n",
    "\n",
    "samples_per_answer = 50\n",
    "label_type_to_labels = label_type_50\n",
    "n_labels = 0\n",
    "for k in label_type_to_labels:\n",
    "    n_labels += len(label_type_to_labels[k])\n",
    "\n",
    "\n",
    "cfg = {\n",
    "    \"name\": \"DANN\",\n",
    "    \n",
    "    ### DataLoader ###\n",
    "    \"n_classes\": n_labels,\n",
    "    \"n_types\": len(label_type_to_labels),\n",
    "    \n",
    "    'label_type_to_labels': label_type_to_labels,\n",
    "    \n",
    "    \"v2_samples_per_answer\": samples_per_answer,\n",
    "    \"abs_samples_per_answer\": samples_per_answer,\n",
    "    \n",
    "    \"v2_samples_per_answer_train\": samples_per_answer // 2,\n",
    "    \"abs_samples_per_answer_train\": samples_per_answer // 2,\n",
    "    \n",
    "    \"v2_samples_per_answer_val\": samples_per_answer // 2,\n",
    "    \"abs_samples_per_answer_val\": samples_per_answer // 2,\n",
    "    \n",
    "    \"source_domain\": \"v2\",\n",
    "    \n",
    "    ## Allow Min Samples\n",
    "    \"min_samples_mode\": True,  # will use atleast samples_per_answer per label\n",
    "    \n",
    "    ### VLModel ###\n",
    "    \"image_encoder\": \"facebook/dinov2-base\",\n",
    "    \"text_encoder\": \"bert-base-uncased\",\n",
    "    \n",
    "    ## Embedder\n",
    "    \"num_attn_heads\": 8,\n",
    "    \"fusion_mode\": \"cat\",\n",
    "    \"num_stacked_attn\": 1,\n",
    "    \"criss_cross__drop_p\": 0.0,\n",
    "    \"post_concat__drop_p\": 0.0,\n",
    "    \"embed_attn__add_residual\": False,\n",
    "    \"embed_attn__drop_p\": 0.0,\n",
    "    \n",
    "    ## Label Type\n",
    "    'use_label_type_classifier': True,\n",
    "    # 'use_label_type_classifier': False,\n",
    "    'append_label_type_logits': False,\n",
    "    'give_location_of_labels_in_label_type': True,\n",
    "    \n",
    "    ## Label Classifier\n",
    "    \"label_classifier__use_bn\": True,\n",
    "    \"label_classifier__drop_p\": 0.0,\n",
    "    \"label_classifier__repeat_layers\": [0, 0],\n",
    "    \n",
    "    ## Domain Classifier\n",
    "    \"domain_classifier__use_bn\": True,\n",
    "    \"domain_classifier__drop_p\": 0.5,\n",
    "    \"domain_classifier__repeat_layers\": [2, 2],\n",
    "    \n",
    "    ### Objective ###\n",
    "    \"domain_adaptation_method\": \"domain_adversarial\",  # 'naive', 'importance_sampling', 'domain_adversarial'\n",
    "    \n",
    "    ### Trainer ###\n",
    "    \"train_modes\": ['DANN', 'label_type'],  # ['DANN', 'label_type', 'label']\n",
    "    \"relaxation_period\": -1,\n",
    "    \"epochs\": 30,\n",
    "    \"batch_size\": 900,\n",
    "    \"base_lr\": 1e-4,\n",
    "    \"weight_decay\": 5e-4,\n",
    "    \n",
    "    ### Logging ###\n",
    "    # \"print_logs\": False,\n",
    "    \"print_logs\": True,\n",
    "    \"show_plot\": True,\n",
    "    \"weights_save_root\": \"./weights/raw\",\n",
    "}\n",
    "\n",
    "if True:\n",
    "    # v2\n",
    "    cfg[\"source_domain\"] = \"v2\"\n",
    "    trainer = DATrainer(cfg, vqa_v2, vqa_abs)\n",
    "    v2_ckpt_path = cfg[\"weights_save_path\"]\n",
    "\n",
    "    trainer.train(show_plot=True)\n",
    "\n",
    "    # abs\n",
    "    cfg[\"source_domain\"] = \"abs\"\n",
    "    trainer = DATrainer(cfg, vqa_v2, vqa_abs)\n",
    "    abs_ckpt_path = cfg[\"weights_save_path\"]\n",
    "\n",
    "    trainer.train(show_plot=False)"
   ]
  }
 ],
 "metadata": {
  "kernelspec": {
   "display_name": "base",
   "language": "python",
   "name": "python3"
  },
  "language_info": {
   "codemirror_mode": {
    "name": "ipython",
    "version": 3
   },
   "file_extension": ".py",
   "mimetype": "text/x-python",
   "name": "python",
   "nbconvert_exporter": "python",
   "pygments_lexer": "ipython3",
   "version": "3.10.14"
  },
  "papermill": {
   "default_parameters": {},
   "duration": 18524.192404,
   "end_time": "2024-09-04T14:20:31.088790",
   "environment_variables": {},
   "exception": null,
   "input_path": "notebooks/tmp.ipynb",
   "output_path": "notebooks/results/65-classes-00.ipynb",
   "parameters": {},
   "start_time": "2024-09-04T09:11:46.896386",
   "version": "2.6.0"
  }
 },
 "nbformat": 4,
 "nbformat_minor": 5
}
