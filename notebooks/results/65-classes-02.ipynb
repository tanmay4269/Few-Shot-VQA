{
 "cells": [
  {
   "cell_type": "markdown",
   "id": "2cffd281",
   "metadata": {},
   "source": [
    "things be overfitting huh, adding bn from now"
   ]
  },
  {
   "cell_type": "code",
   "execution_count": 1,
   "id": "01b8ad41",
   "metadata": {
    "execution": {
     "iopub.execute_input": "2024-09-04T14:41:15.358476Z",
     "iopub.status.busy": "2024-09-04T14:41:15.358264Z"
    },
    "papermill": {
     "duration": 95403.840113,
     "end_time": "2024-09-05T17:11:19.196604",
     "exception": false,
     "start_time": "2024-09-04T14:41:15.356491",
     "status": "completed"
    },
    "tags": []
   },
   "outputs": [
    {
     "name": "stdout",
     "output_type": "stream",
     "text": [
      "weights_save_path: ./weights/raw/pKqoGdSZ.pth\n"
     ]
    },
    {
     "name": "stdout",
     "output_type": "stream",
     "text": [
      "Labels: ['beige', 'black', 'blue', 'brown', 'gray', 'green', 'orange', 'pink', 'red', 'red and white', 'tan', 'white', 'yellow', 'bench', 'chair', 'couch', 'floor', 'table', 'tv', 'blanket', 'book', 'frisbee', 'skateboard', 'soccer', 'baby', 'bird', 'boy', 'cat', 'dog', 'fish', 'flowers', 'girl', 'man', 'mouse', 'tree', 'woman', 'eating', 'playing', 'sitting', 'sleeping', 'standing', 'walking', 'park', 'sidewalk', 'living room', 'on table', 'sky', 'apple', 'pizza', 'sandwich', 'wine', 'food', '0', '1', '2', '3', '4', '5', '6', 'no', 'no one', 'nothing', 'yes', 'left', 'right']\n",
      "Number of Common Labels = 65 | n_classes = 65\n",
      "V2: \tTrain size = 131351             | Val size = 1625 | Total = 132976\n",
      "Abs: \tTrain size = 43837             | Val size = 1625 | Total = 45462\n",
      "--------------------\n"
     ]
    },
    {
     "name": "stdout",
     "output_type": "stream",
     "text": [
      "\t Iter [0/146]\t Loss: 7.119611\n"
     ]
    },
    {
     "name": "stdout",
     "output_type": "stream",
     "text": [
      "\t Iter [18/146]\t Loss: 4.916213\n"
     ]
    },
    {
     "name": "stdout",
     "output_type": "stream",
     "text": [
      "\t Iter [36/146]\t Loss: 4.036317\n"
     ]
    },
    {
     "name": "stdout",
     "output_type": "stream",
     "text": [
      "\t Iter [54/146]\t Loss: 3.573305\n"
     ]
    },
    {
     "name": "stdout",
     "output_type": "stream",
     "text": [
      "\t Iter [72/146]\t Loss: 3.082012\n"
     ]
    },
    {
     "name": "stdout",
     "output_type": "stream",
     "text": [
      "\t Iter [90/146]\t Loss: 2.895205\n"
     ]
    },
    {
     "name": "stdout",
     "output_type": "stream",
     "text": [
      "\t Iter [108/146]\t Loss: 2.680716\n"
     ]
    },
    {
     "name": "stdout",
     "output_type": "stream",
     "text": [
      "\t Iter [126/146]\t Loss: 2.472099\n"
     ]
    },
    {
     "name": "stdout",
     "output_type": "stream",
     "text": [
      "\t Iter [144/146]\t Loss: 2.413175\n"
     ]
    },
    {
     "name": "stdout",
     "output_type": "stream",
     "text": [
      "Epoch [1/30]\t                         Avg Train Loss: 3.578559\t                         Avg Eval Loss: 5.778776\t                         Avg Domain Accuracy: 0.50\t                         Avg Label Type Accuracy: 0.25\t                         Avg Total Eval Accuracy: 0.03\n"
     ]
    },
    {
     "name": "stdout",
     "output_type": "stream",
     "text": [
      "\t Iter [0/146]\t Loss: 2.409028\n"
     ]
    },
    {
     "name": "stdout",
     "output_type": "stream",
     "text": [
      "\t Iter [18/146]\t Loss: 2.359752\n"
     ]
    },
    {
     "name": "stdout",
     "output_type": "stream",
     "text": [
      "\t Iter [36/146]\t Loss: 2.454511\n"
     ]
    },
    {
     "name": "stdout",
     "output_type": "stream",
     "text": [
      "\t Iter [54/146]\t Loss: 2.309144\n"
     ]
    },
    {
     "name": "stdout",
     "output_type": "stream",
     "text": [
      "\t Iter [72/146]\t Loss: 2.275740\n"
     ]
    },
    {
     "name": "stdout",
     "output_type": "stream",
     "text": [
      "\t Iter [90/146]\t Loss: 2.288324\n"
     ]
    },
    {
     "name": "stdout",
     "output_type": "stream",
     "text": [
      "\t Iter [108/146]\t Loss: 2.260186\n"
     ]
    },
    {
     "name": "stdout",
     "output_type": "stream",
     "text": [
      "\t Iter [126/146]\t Loss: 2.259262\n"
     ]
    },
    {
     "name": "stdout",
     "output_type": "stream",
     "text": [
      "\t Iter [144/146]\t Loss: 2.231460\n"
     ]
    },
    {
     "name": "stdout",
     "output_type": "stream",
     "text": [
      "Epoch [2/30]\t                         Avg Train Loss: 2.308993\t                         Avg Eval Loss: 4.994314\t                         Avg Domain Accuracy: 0.51\t                         Avg Label Type Accuracy: 0.28\t                         Avg Total Eval Accuracy: 0.04\n"
     ]
    },
    {
     "name": "stdout",
     "output_type": "stream",
     "text": [
      "\t Iter [0/146]\t Loss: 2.231356\n"
     ]
    },
    {
     "name": "stdout",
     "output_type": "stream",
     "text": [
      "\t Iter [18/146]\t Loss: 2.233315\n"
     ]
    },
    {
     "name": "stdout",
     "output_type": "stream",
     "text": [
      "\t Iter [36/146]\t Loss: 2.200492\n"
     ]
    },
    {
     "name": "stdout",
     "output_type": "stream",
     "text": [
      "\t Iter [54/146]\t Loss: 2.157811\n"
     ]
    },
    {
     "name": "stdout",
     "output_type": "stream",
     "text": [
      "\t Iter [72/146]\t Loss: 2.116127\n"
     ]
    },
    {
     "name": "stdout",
     "output_type": "stream",
     "text": [
      "\t Iter [90/146]\t Loss: 2.152866\n"
     ]
    },
    {
     "name": "stdout",
     "output_type": "stream",
     "text": [
      "\t Iter [108/146]\t Loss: 2.179548\n"
     ]
    },
    {
     "name": "stdout",
     "output_type": "stream",
     "text": [
      "\t Iter [126/146]\t Loss: 2.044904\n"
     ]
    },
    {
     "name": "stdout",
     "output_type": "stream",
     "text": [
      "\t Iter [144/146]\t Loss: 2.134395\n"
     ]
    },
    {
     "name": "stdout",
     "output_type": "stream",
     "text": [
      "Epoch [3/30]\t                         Avg Train Loss: 2.182532\t                         Avg Eval Loss: 4.503516\t                         Avg Domain Accuracy: 0.50\t                         Avg Label Type Accuracy: 0.33\t                         Avg Total Eval Accuracy: 0.05\n"
     ]
    },
    {
     "name": "stdout",
     "output_type": "stream",
     "text": [
      "\t Iter [0/146]\t Loss: 2.169643\n"
     ]
    },
    {
     "name": "stdout",
     "output_type": "stream",
     "text": [
      "\t Iter [18/146]\t Loss: 2.073316\n"
     ]
    },
    {
     "name": "stdout",
     "output_type": "stream",
     "text": [
      "\t Iter [36/146]\t Loss: 2.101677\n"
     ]
    },
    {
     "name": "stdout",
     "output_type": "stream",
     "text": [
      "\t Iter [54/146]\t Loss: 2.102740\n"
     ]
    },
    {
     "name": "stdout",
     "output_type": "stream",
     "text": [
      "\t Iter [72/146]\t Loss: 2.132583\n"
     ]
    },
    {
     "name": "stdout",
     "output_type": "stream",
     "text": [
      "\t Iter [90/146]\t Loss: 2.062340\n"
     ]
    },
    {
     "name": "stdout",
     "output_type": "stream",
     "text": [
      "\t Iter [108/146]\t Loss: 2.110258\n"
     ]
    },
    {
     "name": "stdout",
     "output_type": "stream",
     "text": [
      "\t Iter [126/146]\t Loss: 2.128659\n"
     ]
    },
    {
     "name": "stdout",
     "output_type": "stream",
     "text": [
      "\t Iter [144/146]\t Loss: 2.091486\n"
     ]
    },
    {
     "name": "stdout",
     "output_type": "stream",
     "text": [
      "Epoch [4/30]\t                         Avg Train Loss: 2.108854\t                         Avg Eval Loss: 4.370068\t                         Avg Domain Accuracy: 0.50\t                         Avg Label Type Accuracy: 0.35\t                         Avg Total Eval Accuracy: 0.05\n"
     ]
    },
    {
     "name": "stdout",
     "output_type": "stream",
     "text": [
      "\t Iter [0/146]\t Loss: 2.105207\n"
     ]
    },
    {
     "name": "stdout",
     "output_type": "stream",
     "text": [
      "\t Iter [18/146]\t Loss: 2.089621\n"
     ]
    },
    {
     "name": "stdout",
     "output_type": "stream",
     "text": [
      "\t Iter [36/146]\t Loss: 2.036347\n"
     ]
    },
    {
     "name": "stdout",
     "output_type": "stream",
     "text": [
      "\t Iter [54/146]\t Loss: 2.043027\n"
     ]
    },
    {
     "name": "stdout",
     "output_type": "stream",
     "text": [
      "\t Iter [72/146]\t Loss: 2.070965\n"
     ]
    },
    {
     "name": "stdout",
     "output_type": "stream",
     "text": [
      "\t Iter [90/146]\t Loss: 2.024595\n"
     ]
    },
    {
     "name": "stdout",
     "output_type": "stream",
     "text": [
      "\t Iter [108/146]\t Loss: 2.029393\n"
     ]
    },
    {
     "name": "stdout",
     "output_type": "stream",
     "text": [
      "\t Iter [126/146]\t Loss: 2.037952\n"
     ]
    },
    {
     "name": "stdout",
     "output_type": "stream",
     "text": [
      "\t Iter [144/146]\t Loss: 2.035997\n"
     ]
    },
    {
     "name": "stdout",
     "output_type": "stream",
     "text": [
      "Epoch [5/30]\t                         Avg Train Loss: 2.055711\t                         Avg Eval Loss: 4.110300\t                         Avg Domain Accuracy: 0.51\t                         Avg Label Type Accuracy: 0.38\t                         Avg Total Eval Accuracy: 0.06\n"
     ]
    },
    {
     "name": "stdout",
     "output_type": "stream",
     "text": [
      "\t Iter [0/146]\t Loss: 2.001853\n"
     ]
    },
    {
     "name": "stdout",
     "output_type": "stream",
     "text": [
      "\t Iter [18/146]\t Loss: 2.016031\n"
     ]
    },
    {
     "name": "stdout",
     "output_type": "stream",
     "text": [
      "\t Iter [36/146]\t Loss: 2.010086\n"
     ]
    },
    {
     "name": "stdout",
     "output_type": "stream",
     "text": [
      "\t Iter [54/146]\t Loss: 2.018804\n"
     ]
    },
    {
     "name": "stdout",
     "output_type": "stream",
     "text": [
      "\t Iter [72/146]\t Loss: 2.005392\n"
     ]
    },
    {
     "name": "stdout",
     "output_type": "stream",
     "text": [
      "\t Iter [90/146]\t Loss: 1.992561\n"
     ]
    },
    {
     "name": "stdout",
     "output_type": "stream",
     "text": [
      "\t Iter [108/146]\t Loss: 2.040307\n"
     ]
    },
    {
     "name": "stdout",
     "output_type": "stream",
     "text": [
      "\t Iter [126/146]\t Loss: 1.998017\n"
     ]
    },
    {
     "name": "stdout",
     "output_type": "stream",
     "text": [
      "\t Iter [144/146]\t Loss: 2.061475\n"
     ]
    },
    {
     "name": "stdout",
     "output_type": "stream",
     "text": [
      "Epoch [6/30]\t                         Avg Train Loss: 2.007508\t                         Avg Eval Loss: 4.012194\t                         Avg Domain Accuracy: 0.49\t                         Avg Label Type Accuracy: 0.38\t                         Avg Total Eval Accuracy: 0.07\n"
     ]
    },
    {
     "name": "stdout",
     "output_type": "stream",
     "text": [
      "\t Iter [0/146]\t Loss: 1.986115\n"
     ]
    },
    {
     "name": "stdout",
     "output_type": "stream",
     "text": [
      "\t Iter [18/146]\t Loss: 2.030674\n"
     ]
    },
    {
     "name": "stdout",
     "output_type": "stream",
     "text": [
      "\t Iter [36/146]\t Loss: 1.982897\n"
     ]
    },
    {
     "name": "stdout",
     "output_type": "stream",
     "text": [
      "\t Iter [54/146]\t Loss: 1.948594\n"
     ]
    },
    {
     "name": "stdout",
     "output_type": "stream",
     "text": [
      "\t Iter [72/146]\t Loss: 1.944238\n"
     ]
    },
    {
     "name": "stdout",
     "output_type": "stream",
     "text": [
      "\t Iter [90/146]\t Loss: 1.976650\n"
     ]
    },
    {
     "name": "stdout",
     "output_type": "stream",
     "text": [
      "\t Iter [108/146]\t Loss: 1.967270\n"
     ]
    },
    {
     "name": "stdout",
     "output_type": "stream",
     "text": [
      "\t Iter [126/146]\t Loss: 1.993847\n"
     ]
    },
    {
     "name": "stdout",
     "output_type": "stream",
     "text": [
      "\t Iter [144/146]\t Loss: 2.008976\n"
     ]
    },
    {
     "name": "stdout",
     "output_type": "stream",
     "text": [
      "Epoch [7/30]\t                         Avg Train Loss: 1.977373\t                         Avg Eval Loss: 4.023865\t                         Avg Domain Accuracy: 0.51\t                         Avg Label Type Accuracy: 0.38\t                         Avg Total Eval Accuracy: 0.08\n"
     ]
    },
    {
     "name": "stdout",
     "output_type": "stream",
     "text": [
      "\t Iter [0/146]\t Loss: 1.972166\n"
     ]
    },
    {
     "name": "stdout",
     "output_type": "stream",
     "text": [
      "\t Iter [18/146]\t Loss: 1.941824\n"
     ]
    },
    {
     "name": "stdout",
     "output_type": "stream",
     "text": [
      "\t Iter [36/146]\t Loss: 1.996831\n"
     ]
    },
    {
     "name": "stdout",
     "output_type": "stream",
     "text": [
      "\t Iter [54/146]\t Loss: 1.978898\n"
     ]
    },
    {
     "name": "stdout",
     "output_type": "stream",
     "text": [
      "\t Iter [72/146]\t Loss: 1.912933\n"
     ]
    },
    {
     "name": "stdout",
     "output_type": "stream",
     "text": [
      "\t Iter [90/146]\t Loss: 1.956225\n"
     ]
    },
    {
     "name": "stdout",
     "output_type": "stream",
     "text": [
      "\t Iter [108/146]\t Loss: 1.986956\n"
     ]
    },
    {
     "name": "stdout",
     "output_type": "stream",
     "text": [
      "\t Iter [126/146]\t Loss: 1.932319\n"
     ]
    },
    {
     "name": "stdout",
     "output_type": "stream",
     "text": [
      "\t Iter [144/146]\t Loss: 1.935185\n"
     ]
    },
    {
     "name": "stdout",
     "output_type": "stream",
     "text": [
      "Epoch [8/30]\t                         Avg Train Loss: 1.953006\t                         Avg Eval Loss: 3.969285\t                         Avg Domain Accuracy: 0.51\t                         Avg Label Type Accuracy: 0.39\t                         Avg Total Eval Accuracy: 0.08\n"
     ]
    },
    {
     "name": "stdout",
     "output_type": "stream",
     "text": [
      "\t Iter [0/146]\t Loss: 1.983487\n"
     ]
    },
    {
     "name": "stdout",
     "output_type": "stream",
     "text": [
      "\t Iter [18/146]\t Loss: 1.910947\n"
     ]
    },
    {
     "name": "stdout",
     "output_type": "stream",
     "text": [
      "\t Iter [36/146]\t Loss: 1.962516\n"
     ]
    },
    {
     "name": "stdout",
     "output_type": "stream",
     "text": [
      "\t Iter [54/146]\t Loss: 1.896447\n"
     ]
    },
    {
     "name": "stdout",
     "output_type": "stream",
     "text": [
      "\t Iter [72/146]\t Loss: 1.932946\n"
     ]
    },
    {
     "name": "stdout",
     "output_type": "stream",
     "text": [
      "\t Iter [90/146]\t Loss: 1.946427\n"
     ]
    },
    {
     "name": "stdout",
     "output_type": "stream",
     "text": [
      "\t Iter [108/146]\t Loss: 1.936871\n"
     ]
    },
    {
     "name": "stdout",
     "output_type": "stream",
     "text": [
      "\t Iter [126/146]\t Loss: 1.908360\n"
     ]
    },
    {
     "name": "stdout",
     "output_type": "stream",
     "text": [
      "\t Iter [144/146]\t Loss: 1.908099\n"
     ]
    },
    {
     "name": "stdout",
     "output_type": "stream",
     "text": [
      "Epoch [9/30]\t                         Avg Train Loss: 1.928536\t                         Avg Eval Loss: 3.829929\t                         Avg Domain Accuracy: 0.50\t                         Avg Label Type Accuracy: 0.39\t                         Avg Total Eval Accuracy: 0.09\n"
     ]
    },
    {
     "name": "stdout",
     "output_type": "stream",
     "text": [
      "\t Iter [0/146]\t Loss: 1.925025\n"
     ]
    },
    {
     "name": "stdout",
     "output_type": "stream",
     "text": [
      "\t Iter [18/146]\t Loss: 1.899775\n"
     ]
    },
    {
     "name": "stdout",
     "output_type": "stream",
     "text": [
      "\t Iter [36/146]\t Loss: 1.924773\n"
     ]
    },
    {
     "name": "stdout",
     "output_type": "stream",
     "text": [
      "\t Iter [54/146]\t Loss: 1.973881\n"
     ]
    },
    {
     "name": "stdout",
     "output_type": "stream",
     "text": [
      "\t Iter [72/146]\t Loss: 1.906794\n"
     ]
    },
    {
     "name": "stdout",
     "output_type": "stream",
     "text": [
      "\t Iter [90/146]\t Loss: 1.932795\n"
     ]
    },
    {
     "name": "stdout",
     "output_type": "stream",
     "text": [
      "\t Iter [108/146]\t Loss: 1.879753\n"
     ]
    },
    {
     "name": "stdout",
     "output_type": "stream",
     "text": [
      "\t Iter [126/146]\t Loss: 1.915262\n"
     ]
    },
    {
     "name": "stdout",
     "output_type": "stream",
     "text": [
      "\t Iter [144/146]\t Loss: 1.953176\n"
     ]
    },
    {
     "name": "stdout",
     "output_type": "stream",
     "text": [
      "Epoch [10/30]\t                         Avg Train Loss: 1.909900\t                         Avg Eval Loss: 3.818885\t                         Avg Domain Accuracy: 0.49\t                         Avg Label Type Accuracy: 0.40\t                         Avg Total Eval Accuracy: 0.09\n"
     ]
    },
    {
     "name": "stdout",
     "output_type": "stream",
     "text": [
      "\t Iter [0/146]\t Loss: 1.904257\n"
     ]
    },
    {
     "name": "stdout",
     "output_type": "stream",
     "text": [
      "\t Iter [18/146]\t Loss: 1.883547\n"
     ]
    },
    {
     "name": "stdout",
     "output_type": "stream",
     "text": [
      "\t Iter [36/146]\t Loss: 1.899574\n"
     ]
    },
    {
     "name": "stdout",
     "output_type": "stream",
     "text": [
      "\t Iter [54/146]\t Loss: 1.889256\n"
     ]
    },
    {
     "name": "stdout",
     "output_type": "stream",
     "text": [
      "\t Iter [72/146]\t Loss: 1.885647\n"
     ]
    },
    {
     "name": "stdout",
     "output_type": "stream",
     "text": [
      "\t Iter [90/146]\t Loss: 1.893409\n"
     ]
    },
    {
     "name": "stdout",
     "output_type": "stream",
     "text": [
      "\t Iter [108/146]\t Loss: 1.890548\n"
     ]
    },
    {
     "name": "stdout",
     "output_type": "stream",
     "text": [
      "\t Iter [126/146]\t Loss: 1.832431\n"
     ]
    },
    {
     "name": "stdout",
     "output_type": "stream",
     "text": [
      "\t Iter [144/146]\t Loss: 1.904074\n"
     ]
    },
    {
     "data": {
      "image/png": "[encoded data removed]",
      "text/plain": [
       "<Figure size 1200x600 with 2 Axes>"
      ]
     },
     "metadata": {},
     "output_type": "display_data"
    },
    {
     "name": "stdout",
     "output_type": "stream",
     "text": [
      "Epoch [11/30]\t                         Avg Train Loss: 1.898087\t                         Avg Eval Loss: 3.780290\t                         Avg Domain Accuracy: 0.49\t                         Avg Label Type Accuracy: 0.39\t                         Avg Total Eval Accuracy: 0.10\n"
     ]
    },
    {
     "name": "stdout",
     "output_type": "stream",
     "text": [
      "\t Iter [0/146]\t Loss: 1.909092\n"
     ]
    },
    {
     "name": "stdout",
     "output_type": "stream",
     "text": [
      "\t Iter [18/146]\t Loss: 1.915440\n"
     ]
    },
    {
     "name": "stdout",
     "output_type": "stream",
     "text": [
      "\t Iter [36/146]\t Loss: 1.860561\n"
     ]
    },
    {
     "name": "stdout",
     "output_type": "stream",
     "text": [
      "\t Iter [54/146]\t Loss: 1.881924\n"
     ]
    },
    {
     "name": "stdout",
     "output_type": "stream",
     "text": [
      "\t Iter [72/146]\t Loss: 1.842313\n"
     ]
    },
    {
     "name": "stdout",
     "output_type": "stream",
     "text": [
      "\t Iter [90/146]\t Loss: 1.890104\n"
     ]
    },
    {
     "name": "stdout",
     "output_type": "stream",
     "text": [
      "\t Iter [108/146]\t Loss: 1.854205\n"
     ]
    },
    {
     "name": "stdout",
     "output_type": "stream",
     "text": [
      "\t Iter [126/146]\t Loss: 1.912799\n"
     ]
    },
    {
     "name": "stdout",
     "output_type": "stream",
     "text": [
      "\t Iter [144/146]\t Loss: 1.848523\n"
     ]
    },
    {
     "name": "stdout",
     "output_type": "stream",
     "text": [
      "Epoch [12/30]\t                         Avg Train Loss: 1.882829\t                         Avg Eval Loss: 3.815615\t                         Avg Domain Accuracy: 0.51\t                         Avg Label Type Accuracy: 0.40\t                         Avg Total Eval Accuracy: 0.10\n"
     ]
    },
    {
     "name": "stdout",
     "output_type": "stream",
     "text": [
      "\t Iter [0/146]\t Loss: 1.865623\n"
     ]
    },
    {
     "name": "stdout",
     "output_type": "stream",
     "text": [
      "\t Iter [18/146]\t Loss: 1.882159\n"
     ]
    },
    {
     "name": "stdout",
     "output_type": "stream",
     "text": [
      "\t Iter [36/146]\t Loss: 1.862285\n"
     ]
    },
    {
     "name": "stdout",
     "output_type": "stream",
     "text": [
      "\t Iter [54/146]\t Loss: 1.814848\n"
     ]
    },
    {
     "name": "stdout",
     "output_type": "stream",
     "text": [
      "\t Iter [72/146]\t Loss: 1.857998\n"
     ]
    },
    {
     "name": "stdout",
     "output_type": "stream",
     "text": [
      "\t Iter [90/146]\t Loss: 1.891479\n"
     ]
    },
    {
     "name": "stdout",
     "output_type": "stream",
     "text": [
      "\t Iter [108/146]\t Loss: 1.860676\n"
     ]
    },
    {
     "name": "stdout",
     "output_type": "stream",
     "text": [
      "\t Iter [126/146]\t Loss: 1.881496\n"
     ]
    },
    {
     "name": "stdout",
     "output_type": "stream",
     "text": [
      "\t Iter [144/146]\t Loss: 1.933227\n"
     ]
    },
    {
     "name": "stdout",
     "output_type": "stream",
     "text": [
      "Epoch [13/30]\t                         Avg Train Loss: 1.872087\t                         Avg Eval Loss: 3.777000\t                         Avg Domain Accuracy: 0.51\t                         Avg Label Type Accuracy: 0.40\t                         Avg Total Eval Accuracy: 0.10\n"
     ]
    },
    {
     "name": "stdout",
     "output_type": "stream",
     "text": [
      "\t Iter [0/146]\t Loss: 1.817264\n"
     ]
    },
    {
     "name": "stdout",
     "output_type": "stream",
     "text": [
      "\t Iter [18/146]\t Loss: 1.876766\n"
     ]
    },
    {
     "name": "stdout",
     "output_type": "stream",
     "text": [
      "\t Iter [36/146]\t Loss: 1.837012\n"
     ]
    },
    {
     "name": "stdout",
     "output_type": "stream",
     "text": [
      "\t Iter [54/146]\t Loss: 1.844696\n"
     ]
    },
    {
     "name": "stdout",
     "output_type": "stream",
     "text": [
      "\t Iter [72/146]\t Loss: 1.837888\n"
     ]
    },
    {
     "name": "stdout",
     "output_type": "stream",
     "text": [
      "\t Iter [90/146]\t Loss: 1.859759\n"
     ]
    },
    {
     "name": "stdout",
     "output_type": "stream",
     "text": [
      "\t Iter [108/146]\t Loss: 1.893790\n"
     ]
    },
    {
     "name": "stdout",
     "output_type": "stream",
     "text": [
      "\t Iter [126/146]\t Loss: 1.834311\n"
     ]
    },
    {
     "name": "stdout",
     "output_type": "stream",
     "text": [
      "\t Iter [144/146]\t Loss: 1.908574\n"
     ]
    },
    {
     "name": "stdout",
     "output_type": "stream",
     "text": [
      "Epoch [14/30]\t                         Avg Train Loss: 1.864276\t                         Avg Eval Loss: 3.737178\t                         Avg Domain Accuracy: 0.49\t                         Avg Label Type Accuracy: 0.39\t                         Avg Total Eval Accuracy: 0.11\n"
     ]
    },
    {
     "name": "stdout",
     "output_type": "stream",
     "text": [
      "\t Iter [0/146]\t Loss: 1.856723\n"
     ]
    },
    {
     "name": "stdout",
     "output_type": "stream",
     "text": [
      "\t Iter [18/146]\t Loss: 1.886556\n"
     ]
    },
    {
     "name": "stdout",
     "output_type": "stream",
     "text": [
      "\t Iter [36/146]\t Loss: 1.839198\n"
     ]
    },
    {
     "name": "stdout",
     "output_type": "stream",
     "text": [
      "\t Iter [54/146]\t Loss: 1.876063\n"
     ]
    },
    {
     "name": "stdout",
     "output_type": "stream",
     "text": [
      "\t Iter [72/146]\t Loss: 1.890796\n"
     ]
    },
    {
     "name": "stdout",
     "output_type": "stream",
     "text": [
      "\t Iter [90/146]\t Loss: 1.811538\n"
     ]
    },
    {
     "name": "stdout",
     "output_type": "stream",
     "text": [
      "\t Iter [108/146]\t Loss: 1.890378\n"
     ]
    },
    {
     "name": "stdout",
     "output_type": "stream",
     "text": [
      "\t Iter [126/146]\t Loss: 1.830830\n"
     ]
    },
    {
     "name": "stdout",
     "output_type": "stream",
     "text": [
      "\t Iter [144/146]\t Loss: 1.813065\n"
     ]
    },
    {
     "name": "stdout",
     "output_type": "stream",
     "text": [
      "Epoch [15/30]\t                         Avg Train Loss: 1.853234\t                         Avg Eval Loss: 3.800802\t                         Avg Domain Accuracy: 0.51\t                         Avg Label Type Accuracy: 0.40\t                         Avg Total Eval Accuracy: 0.11\n"
     ]
    },
    {
     "name": "stdout",
     "output_type": "stream",
     "text": [
      "\t Iter [0/146]\t Loss: 1.880415\n"
     ]
    },
    {
     "name": "stdout",
     "output_type": "stream",
     "text": [
      "\t Iter [18/146]\t Loss: 1.824641\n"
     ]
    },
    {
     "name": "stdout",
     "output_type": "stream",
     "text": [
      "\t Iter [36/146]\t Loss: 1.870623\n"
     ]
    },
    {
     "name": "stdout",
     "output_type": "stream",
     "text": [
      "\t Iter [54/146]\t Loss: 1.906496\n"
     ]
    },
    {
     "name": "stdout",
     "output_type": "stream",
     "text": [
      "\t Iter [72/146]\t Loss: 1.848157\n"
     ]
    },
    {
     "name": "stdout",
     "output_type": "stream",
     "text": [
      "\t Iter [90/146]\t Loss: 1.823555\n"
     ]
    },
    {
     "name": "stdout",
     "output_type": "stream",
     "text": [
      "\t Iter [108/146]\t Loss: 1.877735\n"
     ]
    },
    {
     "name": "stdout",
     "output_type": "stream",
     "text": [
      "\t Iter [126/146]\t Loss: 1.791203\n"
     ]
    },
    {
     "name": "stdout",
     "output_type": "stream",
     "text": [
      "\t Iter [144/146]\t Loss: 1.858224\n"
     ]
    },
    {
     "name": "stdout",
     "output_type": "stream",
     "text": [
      "Epoch [16/30]\t                         Avg Train Loss: 1.846067\t                         Avg Eval Loss: 3.773949\t                         Avg Domain Accuracy: 0.51\t                         Avg Label Type Accuracy: 0.39\t                         Avg Total Eval Accuracy: 0.11\n"
     ]
    },
    {
     "name": "stdout",
     "output_type": "stream",
     "text": [
      "\t Iter [0/146]\t Loss: 1.826866\n"
     ]
    },
    {
     "name": "stdout",
     "output_type": "stream",
     "text": [
      "\t Iter [18/146]\t Loss: 1.864877\n"
     ]
    },
    {
     "name": "stdout",
     "output_type": "stream",
     "text": [
      "\t Iter [36/146]\t Loss: 1.853138\n"
     ]
    },
    {
     "name": "stdout",
     "output_type": "stream",
     "text": [
      "\t Iter [54/146]\t Loss: 1.815849\n"
     ]
    },
    {
     "name": "stdout",
     "output_type": "stream",
     "text": [
      "\t Iter [72/146]\t Loss: 1.844769\n"
     ]
    },
    {
     "name": "stdout",
     "output_type": "stream",
     "text": [
      "\t Iter [90/146]\t Loss: 1.852389\n"
     ]
    },
    {
     "name": "stdout",
     "output_type": "stream",
     "text": [
      "\t Iter [108/146]\t Loss: 1.862295\n"
     ]
    },
    {
     "name": "stdout",
     "output_type": "stream",
     "text": [
      "\t Iter [126/146]\t Loss: 1.794901\n"
     ]
    },
    {
     "name": "stdout",
     "output_type": "stream",
     "text": [
      "\t Iter [144/146]\t Loss: 1.824097\n"
     ]
    },
    {
     "name": "stdout",
     "output_type": "stream",
     "text": [
      "Epoch [17/30]\t                         Avg Train Loss: 1.839126\t                         Avg Eval Loss: 3.802560\t                         Avg Domain Accuracy: 0.49\t                         Avg Label Type Accuracy: 0.40\t                         Avg Total Eval Accuracy: 0.11\n"
     ]
    },
    {
     "name": "stdout",
     "output_type": "stream",
     "text": [
      "\t Iter [0/146]\t Loss: 1.835224\n"
     ]
    },
    {
     "name": "stdout",
     "output_type": "stream",
     "text": [
      "\t Iter [18/146]\t Loss: 1.837154\n"
     ]
    },
    {
     "name": "stdout",
     "output_type": "stream",
     "text": [
      "\t Iter [36/146]\t Loss: 1.824098\n"
     ]
    },
    {
     "name": "stdout",
     "output_type": "stream",
     "text": [
      "\t Iter [54/146]\t Loss: 1.827389\n"
     ]
    },
    {
     "name": "stdout",
     "output_type": "stream",
     "text": [
      "\t Iter [72/146]\t Loss: 1.867596\n"
     ]
    },
    {
     "name": "stdout",
     "output_type": "stream",
     "text": [
      "\t Iter [90/146]\t Loss: 1.849154\n"
     ]
    },
    {
     "name": "stdout",
     "output_type": "stream",
     "text": [
      "\t Iter [108/146]\t Loss: 1.801211\n"
     ]
    },
    {
     "name": "stdout",
     "output_type": "stream",
     "text": [
      "\t Iter [126/146]\t Loss: 1.822726\n"
     ]
    },
    {
     "name": "stdout",
     "output_type": "stream",
     "text": [
      "\t Iter [144/146]\t Loss: 1.845245\n"
     ]
    },
    {
     "name": "stdout",
     "output_type": "stream",
     "text": [
      "Epoch [18/30]\t                         Avg Train Loss: 1.830483\t                         Avg Eval Loss: 3.819072\t                         Avg Domain Accuracy: 0.49\t                         Avg Label Type Accuracy: 0.39\t                         Avg Total Eval Accuracy: 0.11\n"
     ]
    },
    {
     "name": "stdout",
     "output_type": "stream",
     "text": [
      "\t Iter [0/146]\t Loss: 1.825581\n"
     ]
    },
    {
     "name": "stdout",
     "output_type": "stream",
     "text": [
      "\t Iter [18/146]\t Loss: 1.840544\n"
     ]
    },
    {
     "name": "stdout",
     "output_type": "stream",
     "text": [
      "\t Iter [36/146]\t Loss: 1.806181\n"
     ]
    },
    {
     "name": "stdout",
     "output_type": "stream",
     "text": [
      "\t Iter [54/146]\t Loss: 1.884057\n"
     ]
    },
    {
     "name": "stdout",
     "output_type": "stream",
     "text": [
      "\t Iter [72/146]\t Loss: 1.801172\n"
     ]
    },
    {
     "name": "stdout",
     "output_type": "stream",
     "text": [
      "\t Iter [90/146]\t Loss: 1.796187\n"
     ]
    },
    {
     "name": "stdout",
     "output_type": "stream",
     "text": [
      "\t Iter [108/146]\t Loss: 1.860864\n"
     ]
    },
    {
     "name": "stdout",
     "output_type": "stream",
     "text": [
      "\t Iter [126/146]\t Loss: 1.838409\n"
     ]
    },
    {
     "name": "stdout",
     "output_type": "stream",
     "text": [
      "\t Iter [144/146]\t Loss: 1.827709\n"
     ]
    },
    {
     "name": "stdout",
     "output_type": "stream",
     "text": [
      "Epoch [19/30]\t                         Avg Train Loss: 1.825629\t                         Avg Eval Loss: 3.743192\t                         Avg Domain Accuracy: 0.50\t                         Avg Label Type Accuracy: 0.40\t                         Avg Total Eval Accuracy: 0.11\n"
     ]
    },
    {
     "name": "stdout",
     "output_type": "stream",
     "text": [
      "\t Iter [0/146]\t Loss: 1.801748\n"
     ]
    },
    {
     "name": "stdout",
     "output_type": "stream",
     "text": [
      "\t Iter [18/146]\t Loss: 1.822942\n"
     ]
    },
    {
     "name": "stdout",
     "output_type": "stream",
     "text": [
      "\t Iter [36/146]\t Loss: 1.812967\n"
     ]
    },
    {
     "name": "stdout",
     "output_type": "stream",
     "text": [
      "\t Iter [54/146]\t Loss: 1.791035\n"
     ]
    },
    {
     "name": "stdout",
     "output_type": "stream",
     "text": [
      "\t Iter [72/146]\t Loss: 1.859778\n"
     ]
    },
    {
     "name": "stdout",
     "output_type": "stream",
     "text": [
      "\t Iter [90/146]\t Loss: 1.820281\n"
     ]
    },
    {
     "name": "stdout",
     "output_type": "stream",
     "text": [
      "\t Iter [108/146]\t Loss: 1.810012\n"
     ]
    },
    {
     "name": "stdout",
     "output_type": "stream",
     "text": [
      "\t Iter [126/146]\t Loss: 1.832623\n"
     ]
    },
    {
     "name": "stdout",
     "output_type": "stream",
     "text": [
      "\t Iter [144/146]\t Loss: 1.883433\n"
     ]
    },
    {
     "name": "stdout",
     "output_type": "stream",
     "text": [
      "Epoch [20/30]\t                         Avg Train Loss: 1.819880\t                         Avg Eval Loss: 3.790441\t                         Avg Domain Accuracy: 0.51\t                         Avg Label Type Accuracy: 0.40\t                         Avg Total Eval Accuracy: 0.11\n"
     ]
    },
    {
     "name": "stdout",
     "output_type": "stream",
     "text": [
      "\t Iter [0/146]\t Loss: 1.809067\n"
     ]
    },
    {
     "name": "stdout",
     "output_type": "stream",
     "text": [
      "\t Iter [18/146]\t Loss: 1.791360\n"
     ]
    },
    {
     "name": "stdout",
     "output_type": "stream",
     "text": [
      "\t Iter [36/146]\t Loss: 1.786366\n"
     ]
    },
    {
     "name": "stdout",
     "output_type": "stream",
     "text": [
      "\t Iter [54/146]\t Loss: 1.813280\n"
     ]
    },
    {
     "name": "stdout",
     "output_type": "stream",
     "text": [
      "\t Iter [72/146]\t Loss: 1.789386\n"
     ]
    },
    {
     "name": "stdout",
     "output_type": "stream",
     "text": [
      "\t Iter [90/146]\t Loss: 1.816088\n"
     ]
    },
    {
     "name": "stdout",
     "output_type": "stream",
     "text": [
      "\t Iter [108/146]\t Loss: 1.815356\n"
     ]
    },
    {
     "name": "stdout",
     "output_type": "stream",
     "text": [
      "\t Iter [126/146]\t Loss: 1.758368\n"
     ]
    },
    {
     "name": "stdout",
     "output_type": "stream",
     "text": [
      "\t Iter [144/146]\t Loss: 1.836409\n"
     ]
    },
    {
     "data": {
      "image/png": "[encoded data removed]",
      "text/plain": [
       "<Figure size 1200x600 with 2 Axes>"
      ]
     },
     "metadata": {},
     "output_type": "display_data"
    },
    {
     "name": "stdout",
     "output_type": "stream",
     "text": [
      "Epoch [21/30]\t                         Avg Train Loss: 1.813590\t                         Avg Eval Loss: 3.807479\t                         Avg Domain Accuracy: 0.49\t                         Avg Label Type Accuracy: 0.40\t                         Avg Total Eval Accuracy: 0.11\n"
     ]
    },
    {
     "name": "stdout",
     "output_type": "stream",
     "text": [
      "\t Iter [0/146]\t Loss: 1.817881\n"
     ]
    },
    {
     "name": "stdout",
     "output_type": "stream",
     "text": [
      "\t Iter [18/146]\t Loss: 1.819808\n"
     ]
    },
    {
     "name": "stdout",
     "output_type": "stream",
     "text": [
      "\t Iter [36/146]\t Loss: 1.779009\n"
     ]
    },
    {
     "name": "stdout",
     "output_type": "stream",
     "text": [
      "\t Iter [54/146]\t Loss: 1.800558\n"
     ]
    },
    {
     "name": "stdout",
     "output_type": "stream",
     "text": [
      "\t Iter [72/146]\t Loss: 1.785231\n"
     ]
    },
    {
     "name": "stdout",
     "output_type": "stream",
     "text": [
      "\t Iter [90/146]\t Loss: 1.830867\n"
     ]
    },
    {
     "name": "stdout",
     "output_type": "stream",
     "text": [
      "\t Iter [108/146]\t Loss: 1.813245\n"
     ]
    },
    {
     "name": "stdout",
     "output_type": "stream",
     "text": [
      "\t Iter [126/146]\t Loss: 1.790828\n"
     ]
    },
    {
     "name": "stdout",
     "output_type": "stream",
     "text": [
      "\t Iter [144/146]\t Loss: 1.816354\n"
     ]
    },
    {
     "name": "stdout",
     "output_type": "stream",
     "text": [
      "Epoch [22/30]\t                         Avg Train Loss: 1.807303\t                         Avg Eval Loss: 3.841225\t                         Avg Domain Accuracy: 0.49\t                         Avg Label Type Accuracy: 0.40\t                         Avg Total Eval Accuracy: 0.11\n"
     ]
    },
    {
     "name": "stdout",
     "output_type": "stream",
     "text": [
      "\t Iter [0/146]\t Loss: 1.758263\n"
     ]
    },
    {
     "name": "stdout",
     "output_type": "stream",
     "text": [
      "\t Iter [18/146]\t Loss: 1.792731\n"
     ]
    },
    {
     "name": "stdout",
     "output_type": "stream",
     "text": [
      "\t Iter [36/146]\t Loss: 1.800613\n"
     ]
    },
    {
     "name": "stdout",
     "output_type": "stream",
     "text": [
      "\t Iter [54/146]\t Loss: 1.807584\n"
     ]
    },
    {
     "name": "stdout",
     "output_type": "stream",
     "text": [
      "\t Iter [72/146]\t Loss: 1.792148\n"
     ]
    },
    {
     "name": "stdout",
     "output_type": "stream",
     "text": [
      "\t Iter [90/146]\t Loss: 1.792684\n"
     ]
    },
    {
     "name": "stdout",
     "output_type": "stream",
     "text": [
      "\t Iter [108/146]\t Loss: 1.815807\n"
     ]
    },
    {
     "name": "stdout",
     "output_type": "stream",
     "text": [
      "\t Iter [126/146]\t Loss: 1.790888\n"
     ]
    },
    {
     "name": "stdout",
     "output_type": "stream",
     "text": [
      "\t Iter [144/146]\t Loss: 1.790872\n"
     ]
    },
    {
     "name": "stdout",
     "output_type": "stream",
     "text": [
      "Epoch [23/30]\t                         Avg Train Loss: 1.804486\t                         Avg Eval Loss: 3.786981\t                         Avg Domain Accuracy: 0.50\t                         Avg Label Type Accuracy: 0.40\t                         Avg Total Eval Accuracy: 0.12\n"
     ]
    },
    {
     "name": "stdout",
     "output_type": "stream",
     "text": [
      "\t Iter [0/146]\t Loss: 1.799443\n"
     ]
    },
    {
     "name": "stdout",
     "output_type": "stream",
     "text": [
      "\t Iter [18/146]\t Loss: 1.783120\n"
     ]
    },
    {
     "name": "stdout",
     "output_type": "stream",
     "text": [
      "\t Iter [36/146]\t Loss: 1.783309\n"
     ]
    },
    {
     "name": "stdout",
     "output_type": "stream",
     "text": [
      "\t Iter [54/146]\t Loss: 1.813132\n"
     ]
    },
    {
     "name": "stdout",
     "output_type": "stream",
     "text": [
      "\t Iter [72/146]\t Loss: 1.794613\n"
     ]
    },
    {
     "name": "stdout",
     "output_type": "stream",
     "text": [
      "\t Iter [90/146]\t Loss: 1.765622\n"
     ]
    },
    {
     "name": "stdout",
     "output_type": "stream",
     "text": [
      "\t Iter [108/146]\t Loss: 1.804536\n"
     ]
    },
    {
     "name": "stdout",
     "output_type": "stream",
     "text": [
      "\t Iter [126/146]\t Loss: 1.791464\n"
     ]
    },
    {
     "name": "stdout",
     "output_type": "stream",
     "text": [
      "\t Iter [144/146]\t Loss: 1.799019\n"
     ]
    },
    {
     "name": "stdout",
     "output_type": "stream",
     "text": [
      "Epoch [24/30]\t                         Avg Train Loss: 1.799626\t                         Avg Eval Loss: 3.769517\t                         Avg Domain Accuracy: 0.49\t                         Avg Label Type Accuracy: 0.40\t                         Avg Total Eval Accuracy: 0.12\n"
     ]
    },
    {
     "name": "stdout",
     "output_type": "stream",
     "text": [
      "\t Iter [0/146]\t Loss: 1.802531\n"
     ]
    },
    {
     "name": "stdout",
     "output_type": "stream",
     "text": [
      "\t Iter [18/146]\t Loss: 1.814383\n"
     ]
    },
    {
     "name": "stdout",
     "output_type": "stream",
     "text": [
      "\t Iter [36/146]\t Loss: 1.826933\n"
     ]
    },
    {
     "name": "stdout",
     "output_type": "stream",
     "text": [
      "\t Iter [54/146]\t Loss: 1.773877\n"
     ]
    },
    {
     "name": "stdout",
     "output_type": "stream",
     "text": [
      "\t Iter [72/146]\t Loss: 1.771857\n"
     ]
    },
    {
     "name": "stdout",
     "output_type": "stream",
     "text": [
      "\t Iter [90/146]\t Loss: 1.799282\n"
     ]
    },
    {
     "name": "stdout",
     "output_type": "stream",
     "text": [
      "\t Iter [108/146]\t Loss: 1.776104\n"
     ]
    },
    {
     "name": "stdout",
     "output_type": "stream",
     "text": [
      "\t Iter [126/146]\t Loss: 1.811557\n"
     ]
    },
    {
     "name": "stdout",
     "output_type": "stream",
     "text": [
      "\t Iter [144/146]\t Loss: 1.803122\n"
     ]
    },
    {
     "name": "stdout",
     "output_type": "stream",
     "text": [
      "Epoch [25/30]\t                         Avg Train Loss: 1.792844\t                         Avg Eval Loss: 3.846818\t                         Avg Domain Accuracy: 0.50\t                         Avg Label Type Accuracy: 0.40\t                         Avg Total Eval Accuracy: 0.12\n"
     ]
    },
    {
     "name": "stdout",
     "output_type": "stream",
     "text": [
      "\t Iter [0/146]\t Loss: 1.783148\n"
     ]
    },
    {
     "name": "stdout",
     "output_type": "stream",
     "text": [
      "\t Iter [18/146]\t Loss: 1.785492\n"
     ]
    },
    {
     "name": "stdout",
     "output_type": "stream",
     "text": [
      "\t Iter [36/146]\t Loss: 1.798012\n"
     ]
    },
    {
     "name": "stdout",
     "output_type": "stream",
     "text": [
      "\t Iter [54/146]\t Loss: 1.801629\n"
     ]
    },
    {
     "name": "stdout",
     "output_type": "stream",
     "text": [
      "\t Iter [72/146]\t Loss: 1.793508\n"
     ]
    },
    {
     "name": "stdout",
     "output_type": "stream",
     "text": [
      "\t Iter [90/146]\t Loss: 1.787547\n"
     ]
    },
    {
     "name": "stdout",
     "output_type": "stream",
     "text": [
      "\t Iter [108/146]\t Loss: 1.815753\n"
     ]
    },
    {
     "name": "stdout",
     "output_type": "stream",
     "text": [
      "\t Iter [126/146]\t Loss: 1.770991\n"
     ]
    },
    {
     "name": "stdout",
     "output_type": "stream",
     "text": [
      "\t Iter [144/146]\t Loss: 1.822250\n"
     ]
    },
    {
     "name": "stdout",
     "output_type": "stream",
     "text": [
      "Epoch [26/30]\t                         Avg Train Loss: 1.790483\t                         Avg Eval Loss: 3.826487\t                         Avg Domain Accuracy: 0.48\t                         Avg Label Type Accuracy: 0.41\t                         Avg Total Eval Accuracy: 0.12\n"
     ]
    },
    {
     "name": "stdout",
     "output_type": "stream",
     "text": [
      "\t Iter [0/146]\t Loss: 1.828700\n"
     ]
    },
    {
     "name": "stdout",
     "output_type": "stream",
     "text": [
      "\t Iter [18/146]\t Loss: 1.771658\n"
     ]
    },
    {
     "name": "stdout",
     "output_type": "stream",
     "text": [
      "\t Iter [36/146]\t Loss: 1.759353\n"
     ]
    },
    {
     "name": "stdout",
     "output_type": "stream",
     "text": [
      "\t Iter [54/146]\t Loss: 1.762316\n"
     ]
    },
    {
     "name": "stdout",
     "output_type": "stream",
     "text": [
      "\t Iter [72/146]\t Loss: 1.780627\n"
     ]
    },
    {
     "name": "stdout",
     "output_type": "stream",
     "text": [
      "\t Iter [90/146]\t Loss: 1.820189\n"
     ]
    },
    {
     "name": "stdout",
     "output_type": "stream",
     "text": [
      "\t Iter [108/146]\t Loss: 1.809009\n"
     ]
    },
    {
     "name": "stdout",
     "output_type": "stream",
     "text": [
      "\t Iter [126/146]\t Loss: 1.829095\n"
     ]
    },
    {
     "name": "stdout",
     "output_type": "stream",
     "text": [
      "\t Iter [144/146]\t Loss: 1.835540\n"
     ]
    },
    {
     "name": "stdout",
     "output_type": "stream",
     "text": [
      "Epoch [27/30]\t                         Avg Train Loss: 1.785833\t                         Avg Eval Loss: 3.829882\t                         Avg Domain Accuracy: 0.49\t                         Avg Label Type Accuracy: 0.40\t                         Avg Total Eval Accuracy: 0.12\n"
     ]
    },
    {
     "name": "stdout",
     "output_type": "stream",
     "text": [
      "\t Iter [0/146]\t Loss: 1.776471\n"
     ]
    },
    {
     "name": "stdout",
     "output_type": "stream",
     "text": [
      "\t Iter [18/146]\t Loss: 1.829823\n"
     ]
    },
    {
     "name": "stdout",
     "output_type": "stream",
     "text": [
      "\t Iter [36/146]\t Loss: 1.752046\n"
     ]
    },
    {
     "name": "stdout",
     "output_type": "stream",
     "text": [
      "\t Iter [54/146]\t Loss: 1.782939\n"
     ]
    },
    {
     "name": "stdout",
     "output_type": "stream",
     "text": [
      "\t Iter [72/146]\t Loss: 1.746284\n"
     ]
    },
    {
     "name": "stdout",
     "output_type": "stream",
     "text": [
      "\t Iter [90/146]\t Loss: 1.792073\n"
     ]
    },
    {
     "name": "stdout",
     "output_type": "stream",
     "text": [
      "\t Iter [108/146]\t Loss: 1.762305\n"
     ]
    },
    {
     "name": "stdout",
     "output_type": "stream",
     "text": [
      "\t Iter [126/146]\t Loss: 1.812208\n"
     ]
    },
    {
     "name": "stdout",
     "output_type": "stream",
     "text": [
      "\t Iter [144/146]\t Loss: 1.763429\n"
     ]
    },
    {
     "name": "stdout",
     "output_type": "stream",
     "text": [
      "Epoch [28/30]\t                         Avg Train Loss: 1.783272\t                         Avg Eval Loss: 3.841565\t                         Avg Domain Accuracy: 0.51\t                         Avg Label Type Accuracy: 0.40\t                         Avg Total Eval Accuracy: 0.12\n"
     ]
    },
    {
     "name": "stdout",
     "output_type": "stream",
     "text": [
      "\t Iter [0/146]\t Loss: 1.752288\n"
     ]
    },
    {
     "name": "stdout",
     "output_type": "stream",
     "text": [
      "\t Iter [18/146]\t Loss: 1.762899\n"
     ]
    },
    {
     "name": "stdout",
     "output_type": "stream",
     "text": [
      "\t Iter [36/146]\t Loss: 1.797793\n"
     ]
    },
    {
     "name": "stdout",
     "output_type": "stream",
     "text": [
      "\t Iter [54/146]\t Loss: 1.793316\n"
     ]
    },
    {
     "name": "stdout",
     "output_type": "stream",
     "text": [
      "\t Iter [72/146]\t Loss: 1.759171\n"
     ]
    },
    {
     "name": "stdout",
     "output_type": "stream",
     "text": [
      "\t Iter [90/146]\t Loss: 1.866776\n"
     ]
    },
    {
     "name": "stdout",
     "output_type": "stream",
     "text": [
      "\t Iter [108/146]\t Loss: 1.771462\n"
     ]
    },
    {
     "name": "stdout",
     "output_type": "stream",
     "text": [
      "\t Iter [126/146]\t Loss: 1.785095\n"
     ]
    },
    {
     "name": "stdout",
     "output_type": "stream",
     "text": [
      "\t Iter [144/146]\t Loss: 1.745618\n"
     ]
    },
    {
     "name": "stdout",
     "output_type": "stream",
     "text": [
      "Epoch [29/30]\t                         Avg Train Loss: 1.781055\t                         Avg Eval Loss: 3.843021\t                         Avg Domain Accuracy: 0.52\t                         Avg Label Type Accuracy: 0.40\t                         Avg Total Eval Accuracy: 0.12\n"
     ]
    },
    {
     "name": "stdout",
     "output_type": "stream",
     "text": [
      "\t Iter [0/146]\t Loss: 1.771278\n"
     ]
    },
    {
     "name": "stdout",
     "output_type": "stream",
     "text": [
      "\t Iter [18/146]\t Loss: 1.813308\n"
     ]
    },
    {
     "name": "stdout",
     "output_type": "stream",
     "text": [
      "\t Iter [36/146]\t Loss: 1.802780\n"
     ]
    },
    {
     "name": "stdout",
     "output_type": "stream",
     "text": [
      "\t Iter [54/146]\t Loss: 1.812420\n"
     ]
    },
    {
     "name": "stdout",
     "output_type": "stream",
     "text": [
      "\t Iter [72/146]\t Loss: 1.791288\n"
     ]
    },
    {
     "name": "stdout",
     "output_type": "stream",
     "text": [
      "\t Iter [90/146]\t Loss: 1.767721\n"
     ]
    },
    {
     "name": "stdout",
     "output_type": "stream",
     "text": [
      "\t Iter [108/146]\t Loss: 1.774087\n"
     ]
    },
    {
     "name": "stdout",
     "output_type": "stream",
     "text": [
      "\t Iter [126/146]\t Loss: 1.842632\n"
     ]
    },
    {
     "name": "stdout",
     "output_type": "stream",
     "text": [
      "\t Iter [144/146]\t Loss: 1.785867\n"
     ]
    },
    {
     "name": "stdout",
     "output_type": "stream",
     "text": [
      "Epoch [30/30]\t                         Avg Train Loss: 1.777945\t                         Avg Eval Loss: 3.789037\t                         Avg Domain Accuracy: 0.51\t                         Avg Label Type Accuracy: 0.40\t                         Avg Total Eval Accuracy: 0.12\n"
     ]
    },
    {
     "data": {
      "image/png": "[encoded data removed]",
      "text/plain": [
       "<Figure size 1200x600 with 2 Axes>"
      ]
     },
     "metadata": {},
     "output_type": "display_data"
    },
    {
     "name": "stdout",
     "output_type": "stream",
     "text": [
      "weights_save_path: ./weights/raw/jkDrjMsp.pth\n"
     ]
    },
    {
     "name": "stdout",
     "output_type": "stream",
     "text": [
      "Labels: ['beige', 'black', 'blue', 'brown', 'gray', 'green', 'orange', 'pink', 'red', 'red and white', 'tan', 'white', 'yellow', 'bench', 'chair', 'couch', 'floor', 'table', 'tv', 'blanket', 'book', 'frisbee', 'skateboard', 'soccer', 'baby', 'bird', 'boy', 'cat', 'dog', 'fish', 'flowers', 'girl', 'man', 'mouse', 'tree', 'woman', 'eating', 'playing', 'sitting', 'sleeping', 'standing', 'walking', 'park', 'sidewalk', 'living room', 'on table', 'sky', 'apple', 'pizza', 'sandwich', 'wine', 'food', '0', '1', '2', '3', '4', '5', '6', 'no', 'no one', 'nothing', 'yes', 'left', 'right']\n",
      "Number of Common Labels = 65 | n_classes = 65\n",
      "V2: \tTrain size = 131351             | Val size = 1625 | Total = 132976\n",
      "Abs: \tTrain size = 43837             | Val size = 1625 | Total = 45462\n",
      "--------------------\n"
     ]
    },
    {
     "name": "stdout",
     "output_type": "stream",
     "text": [
      "\t Iter [0/146]\t Loss: 7.128255\n"
     ]
    },
    {
     "name": "stdout",
     "output_type": "stream",
     "text": [
      "\t Iter [18/146]\t Loss: 4.913200\n"
     ]
    }
   ],
   "source": [
    "import os\n",
    "os.chdir('/workspace')\n",
    "from trainer import * \n",
    "\n",
    "\n",
    "label_type_50 = {\n",
    "    'colors':        ['beige', 'black', 'blue', 'brown', 'gray', 'green', 'orange', 'pink', 'red', 'red and white', 'tan', 'white', 'yellow'],\n",
    "    'objects':       ['bench', 'chair', 'couch', 'floor', 'table', 'tv', 'blanket', 'book', 'frisbee', 'skateboard', 'soccer'],\n",
    "    'living-things': ['baby', 'bird', 'boy', 'cat', 'dog', 'fish', 'flowers', 'girl', 'man', 'mouse', 'tree', 'woman'],\n",
    "    'actions':       ['eating', 'playing', 'sitting', 'sleeping', 'standing', 'walking'],\n",
    "    'locations':     ['park', 'sidewalk', 'living room', 'on table', 'sky'],\n",
    "    'foods':         ['apple', 'pizza', 'sandwich', 'wine', 'food'],\n",
    "    'numbers':       ['0', '1', '2', '3', '4', '5', '6'],\n",
    "    'responses':     ['no', 'no one', 'nothing', 'yes'],\n",
    "    'directions':    ['left', 'right'],\n",
    "}\n",
    "\n",
    "label_type_20 = {\n",
    "    'colors':        ['beige', 'black', 'blue', 'brown', 'gray', 'green', 'orange', 'pink', 'red', 'red and white', 'tan', 'white', 'yellow'],\n",
    "    'objects':       ['bench', 'chair', 'couch', 'floor', 'table', 'tv', 'blanket', 'book', 'frisbee', 'skateboard', 'soccer', 'bike', 'car', 'bottle', 'cup', 'plate'],\n",
    "    'living-things': ['baby', 'bird', 'boy', 'cat', 'dog', 'fish', 'flowers', 'girl', 'man', 'mouse', 'tree', 'woman', 'duck', 'eagle', 'mushrooms'],\n",
    "    'actions':       ['eating', 'playing', 'sitting', 'sleeping', 'standing', 'walking', 'running', 'jumping', 'drinking'],\n",
    "    'locations':     ['park', 'sidewalk', 'living room', 'on table', 'sky', 'on floor', 'on grass'],\n",
    "    'foods':         ['apple', 'pizza', 'sandwich', 'wine', 'food', 'cheese', 'hot dog', 'bread', 'steak'],\n",
    "    'numbers':       ['0', '1', '2', '3', '4', '5', '6', '7', '8', '9', '10', '11'],\n",
    "    'responses':     ['no', 'no one', 'nothing', 'yes'],\n",
    "    'directions':    ['left', 'right'],\n",
    "    'times':         ['morning', 'afternoon', 'evening', 'night'],\n",
    "    'weather':       ['sunny', 'clouds', 'sunset', 'rainy'],\n",
    "    'patterns':      ['checkered', 'floral'],\n",
    "}\n",
    "\n",
    "\n",
    "samples_per_answer = 50\n",
    "label_type_to_labels = label_type_50\n",
    "n_labels = 0\n",
    "for k in label_type_to_labels:\n",
    "    n_labels += len(label_type_to_labels[k])\n",
    "\n",
    "\n",
    "cfg = {\n",
    "    \"name\": \"DANN\",\n",
    "    \n",
    "    ### DataLoader ###\n",
    "    \"n_classes\": n_labels,\n",
    "    \"n_types\": len(label_type_to_labels),\n",
    "    \n",
    "    'label_type_to_labels': label_type_to_labels,\n",
    "    \n",
    "    \"v2_samples_per_answer\": samples_per_answer,\n",
    "    \"abs_samples_per_answer\": samples_per_answer,\n",
    "    \n",
    "    \"v2_samples_per_answer_train\": samples_per_answer // 2,\n",
    "    \"abs_samples_per_answer_train\": samples_per_answer // 2,\n",
    "    \n",
    "    \"v2_samples_per_answer_val\": samples_per_answer // 2,\n",
    "    \"abs_samples_per_answer_val\": samples_per_answer // 2,\n",
    "    \n",
    "    \"source_domain\": \"v2\",\n",
    "    \n",
    "    ## Allow Min Samples\n",
    "    \"min_samples_mode\": True,  # will use atleast samples_per_answer per label\n",
    "    \n",
    "    ### VLModel ###\n",
    "    \"image_encoder\": \"facebook/dinov2-base\",\n",
    "    \"text_encoder\": \"bert-base-uncased\",\n",
    "    \n",
    "    ## Embedder\n",
    "    \"num_attn_heads\": 8,\n",
    "    \"fusion_mode\": \"cat\",\n",
    "    \"num_stacked_attn\": 1,\n",
    "    \"criss_cross__drop_p\": 0.0,\n",
    "    \"post_concat__drop_p\": 0.0,\n",
    "    \"embed_attn__add_residual\": False,\n",
    "    \"embed_attn__drop_p\": 0.0,\n",
    "    \n",
    "    ## Label Type\n",
    "    'use_label_type_classifier': True,\n",
    "    # 'use_label_type_classifier': False,\n",
    "    'append_label_type_logits': False,\n",
    "    'give_location_of_labels_in_label_type': True,\n",
    "    \n",
    "    ## Label Classifier\n",
    "    \"label_classifier__use_bn\": False,\n",
    "    \"label_classifier__drop_p\": 0.0,\n",
    "    \"label_classifier__repeat_layers\": [0, 0],\n",
    "    \n",
    "    ## Domain Classifier\n",
    "    \"domain_classifier__use_bn\": True,\n",
    "    \"domain_classifier__drop_p\": 0.5,\n",
    "    \"domain_classifier__repeat_layers\": [2, 2],\n",
    "    \n",
    "    ### Objective ###\n",
    "    \"domain_adaptation_method\": \"domain_adversarial\",  # 'naive', 'importance_sampling', 'domain_adversarial'\n",
    "    \"train_modes\": ['DANN', 'label_type', 'label'],  # ['DANN', 'label_type', 'label']\n",
    "    \n",
    "    ### Trainer ###\n",
    "    \"relaxation_period\": 2,\n",
    "    \"epochs\": 30,\n",
    "    \"batch_size\": 900,\n",
    "    \"base_lr\": 1e-4,\n",
    "    \"weight_decay\": 5e-4,\n",
    "    \n",
    "    ### Logging ###\n",
    "    # \"print_logs\": False,\n",
    "    \"print_logs\": True,\n",
    "    \"show_plot\": True,\n",
    "    \"weights_save_root\": \"./weights/raw\",\n",
    "}\n",
    "\n",
    "if True:\n",
    "    # v2\n",
    "    cfg[\"source_domain\"] = \"v2\"\n",
    "    trainer = DATrainer(cfg, vqa_v2, vqa_abs)\n",
    "    v2_ckpt_path = cfg[\"weights_save_path\"]\n",
    "\n",
    "    trainer.train(show_plot=True)\n",
    "\n",
    "    # abs\n",
    "    cfg[\"source_domain\"] = \"abs\"\n",
    "    trainer = DATrainer(cfg, vqa_v2, vqa_abs)\n",
    "    abs_ckpt_path = cfg[\"weights_save_path\"]\n",
    "\n",
    "    trainer.train(show_plot=False)"
   ]
  }
 ],
 "metadata": {
  "kernelspec": {
   "display_name": "base",
   "language": "python",
   "name": "python3"
  },
  "language_info": {
   "codemirror_mode": {
    "name": "ipython",
    "version": 3
   },
   "file_extension": ".py",
   "mimetype": "text/x-python",
   "name": "python",
   "nbconvert_exporter": "python",
   "pygments_lexer": "ipython3",
   "version": "3.10.14"
  },
  "papermill": {
   "default_parameters": {},
   "duration": 95404.818896,
   "end_time": "2024-09-05T17:11:19.389702",
   "environment_variables": {},
   "exception": null,
   "input_path": "notebooks/tmp.ipynb",
   "output_path": "notebooks/results/65-classes-02.ipynb",
   "parameters": {},
   "start_time": "2024-09-04T14:41:14.570806",
   "version": "2.6.0"
  }
 },
 "nbformat": 4,
 "nbformat_minor": 5
}
