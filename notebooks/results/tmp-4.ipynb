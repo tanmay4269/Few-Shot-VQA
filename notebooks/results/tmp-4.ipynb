{
 "cells": [
  {
   "cell_type": "code",
   "execution_count": 1,
   "id": "cedbb431",
   "metadata": {
    "execution": {
     "iopub.execute_input": "2024-08-28T09:33:10.715594Z",
     "iopub.status.busy": "2024-08-28T09:33:10.714811Z"
    },
    "papermill": {
     "duration": null,
     "end_time": null,
     "exception": false,
     "start_time": "2024-08-28T09:33:10.712530",
     "status": "running"
    },
    "tags": []
   },
   "outputs": [
    {
     "name": "stdout",
     "output_type": "stream",
     "text": [
      "weights_save_path: ./weights/raw/P37MFd5o.pth\n"
     ]
    },
    {
     "name": "stdout",
     "output_type": "stream",
     "text": [
      "Labels: ['yes', 'no', 'red', 'blue']\n",
      "Number of Common Labels = 4 | n_classes = 4\n",
      "V2: \tTrain size = 1000             | Val size = 200 | Total = 1200\n",
      "Abs: \tTrain size = 600             | Val size = 200 | Total = 800\n",
      "--------------------\n"
     ]
    },
    {
     "name": "stdout",
     "output_type": "stream",
     "text": [
      "\t Iter [0/7]\t Loss: 0.917785\n"
     ]
    },
    {
     "name": "stdout",
     "output_type": "stream",
     "text": [
      "\t Iter [1/7]\t Loss: 0.907680\n"
     ]
    },
    {
     "name": "stdout",
     "output_type": "stream",
     "text": [
      "\t Iter [2/7]\t Loss: 0.900139\n"
     ]
    },
    {
     "name": "stdout",
     "output_type": "stream",
     "text": [
      "\t Iter [3/7]\t Loss: 0.905354\n"
     ]
    },
    {
     "name": "stdout",
     "output_type": "stream",
     "text": [
      "\t Iter [4/7]\t Loss: 0.900815\n"
     ]
    },
    {
     "name": "stdout",
     "output_type": "stream",
     "text": [
      "\t Iter [5/7]\t Loss: 0.886447\n"
     ]
    },
    {
     "name": "stdout",
     "output_type": "stream",
     "text": [
      "\t Iter [6/7]\t Loss: 0.883091\n"
     ]
    },
    {
     "name": "stdout",
     "output_type": "stream",
     "text": [
      "Epoch [1/30]\t                         Avg Train Loss: 0.900187\t                         Avg Eval Loss: 0.907251\t                         Avg Domain Accuracy: 0.49\t                         Avg Label Type Accuracy: 0.53\t                         Avg Total Eval Accuracy: 0.52\n"
     ]
    },
    {
     "name": "stdout",
     "output_type": "stream",
     "text": [
      "\t Iter [0/7]\t Loss: 0.871971\n"
     ]
    },
    {
     "name": "stdout",
     "output_type": "stream",
     "text": [
      "\t Iter [1/7]\t Loss: 0.802243\n"
     ]
    },
    {
     "name": "stdout",
     "output_type": "stream",
     "text": [
      "\t Iter [2/7]\t Loss: 0.894592\n"
     ]
    },
    {
     "name": "stdout",
     "output_type": "stream",
     "text": [
      "\t Iter [3/7]\t Loss: 0.870375\n"
     ]
    },
    {
     "name": "stdout",
     "output_type": "stream",
     "text": [
      "\t Iter [4/7]\t Loss: 0.812580\n"
     ]
    },
    {
     "name": "stdout",
     "output_type": "stream",
     "text": [
      "\t Iter [5/7]\t Loss: 0.666123\n"
     ]
    },
    {
     "name": "stdout",
     "output_type": "stream",
     "text": [
      "\t Iter [6/7]\t Loss: 0.605494\n"
     ]
    },
    {
     "name": "stdout",
     "output_type": "stream",
     "text": [
      "Epoch [2/30]\t                         Avg Train Loss: 0.789054\t                         Avg Eval Loss: 0.666506\t                         Avg Domain Accuracy: 0.47\t                         Avg Label Type Accuracy: 0.62\t                         Avg Total Eval Accuracy: 0.26\n"
     ]
    },
    {
     "name": "stdout",
     "output_type": "stream",
     "text": [
      "\t Iter [0/7]\t Loss: 0.559877\n"
     ]
    },
    {
     "name": "stdout",
     "output_type": "stream",
     "text": [
      "\t Iter [1/7]\t Loss: 0.610372\n"
     ]
    },
    {
     "name": "stdout",
     "output_type": "stream",
     "text": [
      "\t Iter [2/7]\t Loss: 0.621880\n"
     ]
    },
    {
     "name": "stdout",
     "output_type": "stream",
     "text": [
      "\t Iter [3/7]\t Loss: 0.611984\n"
     ]
    },
    {
     "name": "stdout",
     "output_type": "stream",
     "text": [
      "\t Iter [4/7]\t Loss: 0.615073\n"
     ]
    },
    {
     "name": "stdout",
     "output_type": "stream",
     "text": [
      "\t Iter [5/7]\t Loss: 0.539841\n"
     ]
    },
    {
     "name": "stdout",
     "output_type": "stream",
     "text": [
      "\t Iter [6/7]\t Loss: 0.584358\n"
     ]
    },
    {
     "name": "stdout",
     "output_type": "stream",
     "text": [
      "Epoch [3/30]\t                         Avg Train Loss: 0.591912\t                         Avg Eval Loss: 0.530792\t                         Avg Domain Accuracy: 0.49\t                         Avg Label Type Accuracy: 0.62\t                         Avg Total Eval Accuracy: 0.50\n"
     ]
    },
    {
     "name": "stdout",
     "output_type": "stream",
     "text": [
      "\t Iter [0/7]\t Loss: 0.566212\n"
     ]
    },
    {
     "name": "stdout",
     "output_type": "stream",
     "text": [
      "\t Iter [1/7]\t Loss: 0.561514\n"
     ]
    },
    {
     "name": "stdout",
     "output_type": "stream",
     "text": [
      "\t Iter [2/7]\t Loss: 0.568485\n"
     ]
    },
    {
     "name": "stdout",
     "output_type": "stream",
     "text": [
      "\t Iter [3/7]\t Loss: 0.563277\n"
     ]
    },
    {
     "name": "stdout",
     "output_type": "stream",
     "text": [
      "\t Iter [4/7]\t Loss: 0.575116\n"
     ]
    },
    {
     "name": "stdout",
     "output_type": "stream",
     "text": [
      "\t Iter [5/7]\t Loss: 0.545474\n"
     ]
    },
    {
     "name": "stdout",
     "output_type": "stream",
     "text": [
      "\t Iter [6/7]\t Loss: 0.544601\n"
     ]
    },
    {
     "name": "stdout",
     "output_type": "stream",
     "text": [
      "Epoch [4/30]\t                         Avg Train Loss: 0.560669\t                         Avg Eval Loss: 0.605700\t                         Avg Domain Accuracy: 0.47\t                         Avg Label Type Accuracy: 0.62\t                         Avg Total Eval Accuracy: 0.49\n"
     ]
    },
    {
     "name": "stdout",
     "output_type": "stream",
     "text": [
      "\t Iter [0/7]\t Loss: 0.548863\n"
     ]
    },
    {
     "name": "stdout",
     "output_type": "stream",
     "text": [
      "\t Iter [1/7]\t Loss: 0.530060\n"
     ]
    },
    {
     "name": "stdout",
     "output_type": "stream",
     "text": [
      "\t Iter [2/7]\t Loss: 0.555255\n"
     ]
    },
    {
     "name": "stdout",
     "output_type": "stream",
     "text": [
      "\t Iter [3/7]\t Loss: 0.544862\n"
     ]
    },
    {
     "name": "stdout",
     "output_type": "stream",
     "text": [
      "\t Iter [4/7]\t Loss: 0.553083\n"
     ]
    },
    {
     "name": "stdout",
     "output_type": "stream",
     "text": [
      "\t Iter [5/7]\t Loss: 0.541112\n"
     ]
    },
    {
     "name": "stdout",
     "output_type": "stream",
     "text": [
      "\t Iter [6/7]\t Loss: 0.546722\n"
     ]
    },
    {
     "name": "stdout",
     "output_type": "stream",
     "text": [
      "Epoch [5/30]\t                         Avg Train Loss: 0.545708\t                         Avg Eval Loss: 0.576161\t                         Avg Domain Accuracy: 0.48\t                         Avg Label Type Accuracy: 0.62\t                         Avg Total Eval Accuracy: 0.51\n"
     ]
    },
    {
     "name": "stdout",
     "output_type": "stream",
     "text": [
      "\t Iter [0/7]\t Loss: 0.545622\n"
     ]
    },
    {
     "name": "stdout",
     "output_type": "stream",
     "text": [
      "\t Iter [1/7]\t Loss: 0.540055\n"
     ]
    },
    {
     "name": "stdout",
     "output_type": "stream",
     "text": [
      "\t Iter [2/7]\t Loss: 0.531952\n"
     ]
    },
    {
     "name": "stdout",
     "output_type": "stream",
     "text": [
      "\t Iter [3/7]\t Loss: 0.547015\n"
     ]
    },
    {
     "name": "stdout",
     "output_type": "stream",
     "text": [
      "\t Iter [4/7]\t Loss: 0.553140\n"
     ]
    },
    {
     "name": "stdout",
     "output_type": "stream",
     "text": [
      "\t Iter [5/7]\t Loss: 0.540562\n"
     ]
    },
    {
     "name": "stdout",
     "output_type": "stream",
     "text": [
      "\t Iter [6/7]\t Loss: 0.566305\n"
     ]
    },
    {
     "name": "stdout",
     "output_type": "stream",
     "text": [
      "Epoch [6/30]\t                         Avg Train Loss: 0.546379\t                         Avg Eval Loss: 0.548721\t                         Avg Domain Accuracy: 0.52\t                         Avg Label Type Accuracy: 0.62\t                         Avg Total Eval Accuracy: 0.50\n"
     ]
    },
    {
     "name": "stdout",
     "output_type": "stream",
     "text": [
      "\t Iter [0/7]\t Loss: 0.556090\n"
     ]
    },
    {
     "name": "stdout",
     "output_type": "stream",
     "text": [
      "\t Iter [1/7]\t Loss: 0.542048\n"
     ]
    },
    {
     "name": "stdout",
     "output_type": "stream",
     "text": [
      "\t Iter [2/7]\t Loss: 0.550495\n"
     ]
    },
    {
     "name": "stdout",
     "output_type": "stream",
     "text": [
      "\t Iter [3/7]\t Loss: 0.539659\n"
     ]
    },
    {
     "name": "stdout",
     "output_type": "stream",
     "text": [
      "\t Iter [4/7]\t Loss: 0.528788\n"
     ]
    },
    {
     "name": "stdout",
     "output_type": "stream",
     "text": [
      "\t Iter [5/7]\t Loss: 0.541294\n"
     ]
    },
    {
     "name": "stdout",
     "output_type": "stream",
     "text": [
      "\t Iter [6/7]\t Loss: 0.548601\n"
     ]
    },
    {
     "name": "stdout",
     "output_type": "stream",
     "text": [
      "Epoch [7/30]\t                         Avg Train Loss: 0.543854\t                         Avg Eval Loss: 0.560646\t                         Avg Domain Accuracy: 0.49\t                         Avg Label Type Accuracy: 0.62\t                         Avg Total Eval Accuracy: 0.25\n"
     ]
    },
    {
     "name": "stdout",
     "output_type": "stream",
     "text": [
      "\t Iter [0/7]\t Loss: 0.537303\n"
     ]
    },
    {
     "name": "stdout",
     "output_type": "stream",
     "text": [
      "\t Iter [1/7]\t Loss: 0.532428\n"
     ]
    },
    {
     "name": "stdout",
     "output_type": "stream",
     "text": [
      "\t Iter [2/7]\t Loss: 0.545433\n"
     ]
    },
    {
     "name": "stdout",
     "output_type": "stream",
     "text": [
      "\t Iter [3/7]\t Loss: 0.534700\n"
     ]
    },
    {
     "name": "stdout",
     "output_type": "stream",
     "text": [
      "\t Iter [4/7]\t Loss: 0.533480\n"
     ]
    },
    {
     "name": "stdout",
     "output_type": "stream",
     "text": [
      "\t Iter [5/7]\t Loss: 0.545957\n"
     ]
    },
    {
     "name": "stdout",
     "output_type": "stream",
     "text": [
      "\t Iter [6/7]\t Loss: 0.541623\n"
     ]
    },
    {
     "name": "stdout",
     "output_type": "stream",
     "text": [
      "Epoch [8/30]\t                         Avg Train Loss: 0.538703\t                         Avg Eval Loss: 0.553549\t                         Avg Domain Accuracy: 0.48\t                         Avg Label Type Accuracy: 0.62\t                         Avg Total Eval Accuracy: 0.24\n"
     ]
    },
    {
     "name": "stdout",
     "output_type": "stream",
     "text": [
      "\t Iter [0/7]\t Loss: 0.544463\n"
     ]
    },
    {
     "name": "stdout",
     "output_type": "stream",
     "text": [
      "\t Iter [1/7]\t Loss: 0.539003\n"
     ]
    },
    {
     "name": "stdout",
     "output_type": "stream",
     "text": [
      "\t Iter [2/7]\t Loss: 0.532954\n"
     ]
    },
    {
     "name": "stdout",
     "output_type": "stream",
     "text": [
      "\t Iter [3/7]\t Loss: 0.528386\n"
     ]
    },
    {
     "name": "stdout",
     "output_type": "stream",
     "text": [
      "\t Iter [4/7]\t Loss: 0.532554\n"
     ]
    },
    {
     "name": "stdout",
     "output_type": "stream",
     "text": [
      "\t Iter [5/7]\t Loss: 0.538460\n"
     ]
    },
    {
     "name": "stdout",
     "output_type": "stream",
     "text": [
      "\t Iter [6/7]\t Loss: 0.541579\n"
     ]
    },
    {
     "name": "stdout",
     "output_type": "stream",
     "text": [
      "Epoch [9/30]\t                         Avg Train Loss: 0.536771\t                         Avg Eval Loss: 0.545614\t                         Avg Domain Accuracy: 0.49\t                         Avg Label Type Accuracy: 0.62\t                         Avg Total Eval Accuracy: 0.43\n"
     ]
    },
    {
     "name": "stdout",
     "output_type": "stream",
     "text": [
      "\t Iter [0/7]\t Loss: 0.535582\n"
     ]
    },
    {
     "name": "stdout",
     "output_type": "stream",
     "text": [
      "\t Iter [1/7]\t Loss: 0.530123\n"
     ]
    },
    {
     "name": "stdout",
     "output_type": "stream",
     "text": [
      "\t Iter [2/7]\t Loss: 0.543139\n"
     ]
    },
    {
     "name": "stdout",
     "output_type": "stream",
     "text": [
      "\t Iter [3/7]\t Loss: 0.522694\n"
     ]
    },
    {
     "name": "stdout",
     "output_type": "stream",
     "text": [
      "\t Iter [4/7]\t Loss: 0.534337\n"
     ]
    },
    {
     "name": "stdout",
     "output_type": "stream",
     "text": [
      "\t Iter [5/7]\t Loss: 0.532604\n"
     ]
    },
    {
     "name": "stdout",
     "output_type": "stream",
     "text": [
      "\t Iter [6/7]\t Loss: 0.513804\n"
     ]
    },
    {
     "name": "stdout",
     "output_type": "stream",
     "text": [
      "Epoch [10/30]\t                         Avg Train Loss: 0.530326\t                         Avg Eval Loss: 0.560776\t                         Avg Domain Accuracy: 0.52\t                         Avg Label Type Accuracy: 0.62\t                         Avg Total Eval Accuracy: 0.40\n"
     ]
    },
    {
     "name": "stdout",
     "output_type": "stream",
     "text": [
      "\t Iter [0/7]\t Loss: 0.530396\n"
     ]
    },
    {
     "name": "stdout",
     "output_type": "stream",
     "text": [
      "\t Iter [1/7]\t Loss: 0.529253\n"
     ]
    },
    {
     "name": "stdout",
     "output_type": "stream",
     "text": [
      "\t Iter [2/7]\t Loss: 0.535107\n"
     ]
    },
    {
     "name": "stdout",
     "output_type": "stream",
     "text": [
      "\t Iter [3/7]\t Loss: 0.525550\n"
     ]
    },
    {
     "name": "stdout",
     "output_type": "stream",
     "text": [
      "\t Iter [4/7]\t Loss: 0.514588\n"
     ]
    },
    {
     "name": "stdout",
     "output_type": "stream",
     "text": [
      "\t Iter [5/7]\t Loss: 0.530732\n"
     ]
    },
    {
     "name": "stdout",
     "output_type": "stream",
     "text": [
      "\t Iter [6/7]\t Loss: 0.526581\n"
     ]
    },
    {
     "data": {
      "image/png": "[encoded data removed]",
      "text/plain": [
       "<Figure size 1200x600 with 2 Axes>"
      ]
     },
     "metadata": {},
     "output_type": "display_data"
    },
    {
     "name": "stdout",
     "output_type": "stream",
     "text": [
      "Epoch [11/30]\t                         Avg Train Loss: 0.527458\t                         Avg Eval Loss: 0.566079\t                         Avg Domain Accuracy: 0.49\t                         Avg Label Type Accuracy: 0.62\t                         Avg Total Eval Accuracy: 0.28\n"
     ]
    },
    {
     "name": "stdout",
     "output_type": "stream",
     "text": [
      "\t Iter [0/7]\t Loss: 0.524197\n"
     ]
    },
    {
     "name": "stdout",
     "output_type": "stream",
     "text": [
      "\t Iter [1/7]\t Loss: 0.533013\n"
     ]
    },
    {
     "name": "stdout",
     "output_type": "stream",
     "text": [
      "\t Iter [2/7]\t Loss: 0.539639\n"
     ]
    },
    {
     "name": "stdout",
     "output_type": "stream",
     "text": [
      "\t Iter [3/7]\t Loss: 0.518626\n"
     ]
    },
    {
     "name": "stdout",
     "output_type": "stream",
     "text": [
      "\t Iter [4/7]\t Loss: 0.530136\n"
     ]
    },
    {
     "name": "stdout",
     "output_type": "stream",
     "text": [
      "\t Iter [5/7]\t Loss: 0.539989\n"
     ]
    },
    {
     "name": "stdout",
     "output_type": "stream",
     "text": [
      "\t Iter [6/7]\t Loss: 0.525623\n"
     ]
    },
    {
     "name": "stdout",
     "output_type": "stream",
     "text": [
      "Epoch [12/30]\t                         Avg Train Loss: 0.530175\t                         Avg Eval Loss: 0.547989\t                         Avg Domain Accuracy: 0.50\t                         Avg Label Type Accuracy: 0.62\t                         Avg Total Eval Accuracy: 0.44\n"
     ]
    },
    {
     "name": "stdout",
     "output_type": "stream",
     "text": [
      "\t Iter [0/7]\t Loss: 0.516488\n"
     ]
    },
    {
     "name": "stdout",
     "output_type": "stream",
     "text": [
      "\t Iter [1/7]\t Loss: 0.517567\n"
     ]
    },
    {
     "name": "stdout",
     "output_type": "stream",
     "text": [
      "\t Iter [2/7]\t Loss: 0.518563\n"
     ]
    },
    {
     "name": "stdout",
     "output_type": "stream",
     "text": [
      "\t Iter [3/7]\t Loss: 0.529606\n"
     ]
    },
    {
     "name": "stdout",
     "output_type": "stream",
     "text": [
      "\t Iter [4/7]\t Loss: 0.533815\n"
     ]
    },
    {
     "name": "stdout",
     "output_type": "stream",
     "text": [
      "\t Iter [5/7]\t Loss: 0.519141\n"
     ]
    },
    {
     "name": "stdout",
     "output_type": "stream",
     "text": [
      "\t Iter [6/7]\t Loss: 0.529058\n"
     ]
    },
    {
     "name": "stdout",
     "output_type": "stream",
     "text": [
      "Epoch [13/30]\t                         Avg Train Loss: 0.523463\t                         Avg Eval Loss: 0.519066\t                         Avg Domain Accuracy: 0.49\t                         Avg Label Type Accuracy: 0.62\t                         Avg Total Eval Accuracy: 0.45\n"
     ]
    },
    {
     "name": "stdout",
     "output_type": "stream",
     "text": [
      "\t Iter [0/7]\t Loss: 0.520633\n"
     ]
    },
    {
     "name": "stdout",
     "output_type": "stream",
     "text": [
      "\t Iter [1/7]\t Loss: 0.539001\n"
     ]
    },
    {
     "name": "stdout",
     "output_type": "stream",
     "text": [
      "\t Iter [2/7]\t Loss: 0.522889\n"
     ]
    },
    {
     "name": "stdout",
     "output_type": "stream",
     "text": [
      "\t Iter [3/7]\t Loss: 0.525709\n"
     ]
    },
    {
     "name": "stdout",
     "output_type": "stream",
     "text": [
      "\t Iter [4/7]\t Loss: 0.524124\n"
     ]
    },
    {
     "name": "stdout",
     "output_type": "stream",
     "text": [
      "\t Iter [5/7]\t Loss: 0.521001\n"
     ]
    },
    {
     "name": "stdout",
     "output_type": "stream",
     "text": [
      "\t Iter [6/7]\t Loss: 0.524799\n"
     ]
    },
    {
     "name": "stdout",
     "output_type": "stream",
     "text": [
      "Epoch [14/30]\t                         Avg Train Loss: 0.525451\t                         Avg Eval Loss: 0.579429\t                         Avg Domain Accuracy: 0.56\t                         Avg Label Type Accuracy: 0.62\t                         Avg Total Eval Accuracy: 0.45\n"
     ]
    },
    {
     "name": "stdout",
     "output_type": "stream",
     "text": [
      "\t Iter [0/7]\t Loss: 0.519445\n"
     ]
    },
    {
     "name": "stdout",
     "output_type": "stream",
     "text": [
      "\t Iter [1/7]\t Loss: 0.509148\n"
     ]
    },
    {
     "name": "stdout",
     "output_type": "stream",
     "text": [
      "\t Iter [2/7]\t Loss: 0.521355\n"
     ]
    },
    {
     "name": "stdout",
     "output_type": "stream",
     "text": [
      "\t Iter [3/7]\t Loss: 0.514611\n"
     ]
    },
    {
     "name": "stdout",
     "output_type": "stream",
     "text": [
      "\t Iter [4/7]\t Loss: 0.511366\n"
     ]
    },
    {
     "name": "stdout",
     "output_type": "stream",
     "text": [
      "\t Iter [5/7]\t Loss: 0.511792\n"
     ]
    },
    {
     "name": "stdout",
     "output_type": "stream",
     "text": [
      "\t Iter [6/7]\t Loss: 0.508345\n"
     ]
    },
    {
     "name": "stdout",
     "output_type": "stream",
     "text": [
      "Epoch [15/30]\t                         Avg Train Loss: 0.513723\t                         Avg Eval Loss: 0.536031\t                         Avg Domain Accuracy: 0.50\t                         Avg Label Type Accuracy: 0.62\t                         Avg Total Eval Accuracy: 0.40\n"
     ]
    },
    {
     "name": "stdout",
     "output_type": "stream",
     "text": [
      "\t Iter [0/7]\t Loss: 0.509369\n"
     ]
    },
    {
     "name": "stdout",
     "output_type": "stream",
     "text": [
      "\t Iter [1/7]\t Loss: 0.511211\n"
     ]
    },
    {
     "name": "stdout",
     "output_type": "stream",
     "text": [
      "\t Iter [2/7]\t Loss: 0.501158\n"
     ]
    },
    {
     "name": "stdout",
     "output_type": "stream",
     "text": [
      "\t Iter [3/7]\t Loss: 0.510321\n"
     ]
    },
    {
     "name": "stdout",
     "output_type": "stream",
     "text": [
      "\t Iter [4/7]\t Loss: 0.508025\n"
     ]
    },
    {
     "name": "stdout",
     "output_type": "stream",
     "text": [
      "\t Iter [5/7]\t Loss: 0.501402\n"
     ]
    },
    {
     "name": "stdout",
     "output_type": "stream",
     "text": [
      "\t Iter [6/7]\t Loss: 0.500713\n"
     ]
    },
    {
     "name": "stdout",
     "output_type": "stream",
     "text": [
      "Epoch [16/30]\t                         Avg Train Loss: 0.506028\t                         Avg Eval Loss: 0.536928\t                         Avg Domain Accuracy: 0.49\t                         Avg Label Type Accuracy: 0.62\t                         Avg Total Eval Accuracy: 0.48\n"
     ]
    },
    {
     "name": "stdout",
     "output_type": "stream",
     "text": [
      "\t Iter [0/7]\t Loss: 0.505943\n"
     ]
    },
    {
     "name": "stdout",
     "output_type": "stream",
     "text": [
      "\t Iter [1/7]\t Loss: 0.505303\n"
     ]
    },
    {
     "name": "stdout",
     "output_type": "stream",
     "text": [
      "\t Iter [2/7]\t Loss: 0.506575\n"
     ]
    },
    {
     "name": "stdout",
     "output_type": "stream",
     "text": [
      "\t Iter [3/7]\t Loss: 0.510636\n"
     ]
    },
    {
     "name": "stdout",
     "output_type": "stream",
     "text": [
      "\t Iter [4/7]\t Loss: 0.491817\n"
     ]
    },
    {
     "name": "stdout",
     "output_type": "stream",
     "text": [
      "\t Iter [5/7]\t Loss: 0.495637\n"
     ]
    },
    {
     "name": "stdout",
     "output_type": "stream",
     "text": [
      "\t Iter [6/7]\t Loss: 0.498810\n"
     ]
    },
    {
     "name": "stdout",
     "output_type": "stream",
     "text": [
      "Epoch [17/30]\t                         Avg Train Loss: 0.502103\t                         Avg Eval Loss: 0.552112\t                         Avg Domain Accuracy: 0.49\t                         Avg Label Type Accuracy: 0.62\t                         Avg Total Eval Accuracy: 0.42\n"
     ]
    },
    {
     "name": "stdout",
     "output_type": "stream",
     "text": [
      "\t Iter [0/7]\t Loss: 0.505652\n"
     ]
    },
    {
     "name": "stdout",
     "output_type": "stream",
     "text": [
      "\t Iter [1/7]\t Loss: 0.492745\n"
     ]
    },
    {
     "name": "stdout",
     "output_type": "stream",
     "text": [
      "\t Iter [2/7]\t Loss: 0.498494\n"
     ]
    },
    {
     "name": "stdout",
     "output_type": "stream",
     "text": [
      "\t Iter [3/7]\t Loss: 0.480311\n"
     ]
    },
    {
     "name": "stdout",
     "output_type": "stream",
     "text": [
      "\t Iter [4/7]\t Loss: 0.509472\n"
     ]
    },
    {
     "name": "stdout",
     "output_type": "stream",
     "text": [
      "\t Iter [5/7]\t Loss: 0.493359\n"
     ]
    },
    {
     "name": "stdout",
     "output_type": "stream",
     "text": [
      "\t Iter [6/7]\t Loss: 0.482805\n"
     ]
    },
    {
     "name": "stdout",
     "output_type": "stream",
     "text": [
      "Epoch [18/30]\t                         Avg Train Loss: 0.494691\t                         Avg Eval Loss: 0.601209\t                         Avg Domain Accuracy: 0.51\t                         Avg Label Type Accuracy: 0.62\t                         Avg Total Eval Accuracy: 0.46\n"
     ]
    },
    {
     "name": "stdout",
     "output_type": "stream",
     "text": [
      "\t Iter [0/7]\t Loss: 0.486392\n"
     ]
    },
    {
     "name": "stdout",
     "output_type": "stream",
     "text": [
      "\t Iter [1/7]\t Loss: 0.484819\n"
     ]
    },
    {
     "name": "stdout",
     "output_type": "stream",
     "text": [
      "\t Iter [2/7]\t Loss: 0.474529\n"
     ]
    },
    {
     "name": "stdout",
     "output_type": "stream",
     "text": [
      "\t Iter [3/7]\t Loss: 0.486806\n"
     ]
    },
    {
     "name": "stdout",
     "output_type": "stream",
     "text": [
      "\t Iter [4/7]\t Loss: 0.484958\n"
     ]
    },
    {
     "name": "stdout",
     "output_type": "stream",
     "text": [
      "\t Iter [5/7]\t Loss: 0.465019\n"
     ]
    },
    {
     "name": "stdout",
     "output_type": "stream",
     "text": [
      "\t Iter [6/7]\t Loss: 0.467602\n"
     ]
    },
    {
     "name": "stdout",
     "output_type": "stream",
     "text": [
      "Epoch [19/30]\t                         Avg Train Loss: 0.478589\t                         Avg Eval Loss: 0.574403\t                         Avg Domain Accuracy: 0.48\t                         Avg Label Type Accuracy: 0.62\t                         Avg Total Eval Accuracy: 0.49\n"
     ]
    },
    {
     "name": "stdout",
     "output_type": "stream",
     "text": [
      "\t Iter [0/7]\t Loss: 0.469529\n"
     ]
    },
    {
     "name": "stdout",
     "output_type": "stream",
     "text": [
      "\t Iter [1/7]\t Loss: 0.466889\n"
     ]
    },
    {
     "name": "stdout",
     "output_type": "stream",
     "text": [
      "\t Iter [2/7]\t Loss: 0.483067\n"
     ]
    },
    {
     "name": "stdout",
     "output_type": "stream",
     "text": [
      "\t Iter [3/7]\t Loss: 0.462373\n"
     ]
    },
    {
     "name": "stdout",
     "output_type": "stream",
     "text": [
      "\t Iter [4/7]\t Loss: 0.446701\n"
     ]
    },
    {
     "name": "stdout",
     "output_type": "stream",
     "text": [
      "\t Iter [5/7]\t Loss: 0.468736\n"
     ]
    },
    {
     "name": "stdout",
     "output_type": "stream",
     "text": [
      "\t Iter [6/7]\t Loss: 0.447385\n"
     ]
    },
    {
     "name": "stdout",
     "output_type": "stream",
     "text": [
      "Epoch [20/30]\t                         Avg Train Loss: 0.463526\t                         Avg Eval Loss: 0.621728\t                         Avg Domain Accuracy: 0.49\t                         Avg Label Type Accuracy: 0.62\t                         Avg Total Eval Accuracy: 0.44\n"
     ]
    },
    {
     "name": "stdout",
     "output_type": "stream",
     "text": [
      "\t Iter [0/7]\t Loss: 0.466194\n"
     ]
    },
    {
     "name": "stdout",
     "output_type": "stream",
     "text": [
      "\t Iter [1/7]\t Loss: 0.457380\n"
     ]
    },
    {
     "name": "stdout",
     "output_type": "stream",
     "text": [
      "\t Iter [2/7]\t Loss: 0.445778\n"
     ]
    },
    {
     "name": "stdout",
     "output_type": "stream",
     "text": [
      "\t Iter [3/7]\t Loss: 0.456591\n"
     ]
    },
    {
     "name": "stdout",
     "output_type": "stream",
     "text": [
      "\t Iter [4/7]\t Loss: 0.439736\n"
     ]
    },
    {
     "name": "stdout",
     "output_type": "stream",
     "text": [
      "\t Iter [5/7]\t Loss: 0.452980\n"
     ]
    },
    {
     "name": "stdout",
     "output_type": "stream",
     "text": [
      "\t Iter [6/7]\t Loss: 0.452680\n"
     ]
    },
    {
     "data": {
      "image/png": "[encoded data removed]",
      "text/plain": [
       "<Figure size 1200x600 with 2 Axes>"
      ]
     },
     "metadata": {},
     "output_type": "display_data"
    },
    {
     "name": "stdout",
     "output_type": "stream",
     "text": [
      "Epoch [21/30]\t                         Avg Train Loss: 0.453048\t                         Avg Eval Loss: 0.738421\t                         Avg Domain Accuracy: 0.50\t                         Avg Label Type Accuracy: 0.62\t                         Avg Total Eval Accuracy: 0.45\n"
     ]
    },
    {
     "name": "stdout",
     "output_type": "stream",
     "text": [
      "\t Iter [0/7]\t Loss: 0.453264\n"
     ]
    },
    {
     "name": "stdout",
     "output_type": "stream",
     "text": [
      "\t Iter [1/7]\t Loss: 0.469608\n"
     ]
    },
    {
     "name": "stdout",
     "output_type": "stream",
     "text": [
      "\t Iter [2/7]\t Loss: 0.442259\n"
     ]
    },
    {
     "name": "stdout",
     "output_type": "stream",
     "text": [
      "\t Iter [3/7]\t Loss: 0.447631\n"
     ]
    },
    {
     "name": "stdout",
     "output_type": "stream",
     "text": [
      "\t Iter [4/7]\t Loss: 0.432883\n"
     ]
    },
    {
     "name": "stdout",
     "output_type": "stream",
     "text": [
      "\t Iter [5/7]\t Loss: 0.445745\n"
     ]
    },
    {
     "name": "stdout",
     "output_type": "stream",
     "text": [
      "\t Iter [6/7]\t Loss: 0.448574\n"
     ]
    },
    {
     "name": "stdout",
     "output_type": "stream",
     "text": [
      "Epoch [22/30]\t                         Avg Train Loss: 0.448566\t                         Avg Eval Loss: 0.693063\t                         Avg Domain Accuracy: 0.50\t                         Avg Label Type Accuracy: 0.62\t                         Avg Total Eval Accuracy: 0.43\n"
     ]
    },
    {
     "name": "stdout",
     "output_type": "stream",
     "text": [
      "\t Iter [0/7]\t Loss: 0.437884\n"
     ]
    },
    {
     "name": "stdout",
     "output_type": "stream",
     "text": [
      "\t Iter [1/7]\t Loss: 0.455546\n"
     ]
    },
    {
     "name": "stdout",
     "output_type": "stream",
     "text": [
      "\t Iter [2/7]\t Loss: 0.451392\n"
     ]
    },
    {
     "name": "stdout",
     "output_type": "stream",
     "text": [
      "\t Iter [3/7]\t Loss: 0.433066\n"
     ]
    },
    {
     "name": "stdout",
     "output_type": "stream",
     "text": [
      "\t Iter [4/7]\t Loss: 0.459244\n"
     ]
    },
    {
     "name": "stdout",
     "output_type": "stream",
     "text": [
      "\t Iter [5/7]\t Loss: 0.440980\n"
     ]
    },
    {
     "name": "stdout",
     "output_type": "stream",
     "text": [
      "\t Iter [6/7]\t Loss: 0.449805\n"
     ]
    },
    {
     "name": "stdout",
     "output_type": "stream",
     "text": [
      "Epoch [23/30]\t                         Avg Train Loss: 0.446845\t                         Avg Eval Loss: 0.742542\t                         Avg Domain Accuracy: 0.49\t                         Avg Label Type Accuracy: 0.62\t                         Avg Total Eval Accuracy: 0.43\n"
     ]
    },
    {
     "name": "stdout",
     "output_type": "stream",
     "text": [
      "\t Iter [0/7]\t Loss: 0.431466\n"
     ]
    },
    {
     "name": "stdout",
     "output_type": "stream",
     "text": [
      "\t Iter [1/7]\t Loss: 0.430179\n"
     ]
    },
    {
     "name": "stdout",
     "output_type": "stream",
     "text": [
      "\t Iter [2/7]\t Loss: 0.451001\n"
     ]
    },
    {
     "name": "stdout",
     "output_type": "stream",
     "text": [
      "\t Iter [3/7]\t Loss: 0.424933\n"
     ]
    },
    {
     "name": "stdout",
     "output_type": "stream",
     "text": [
      "\t Iter [4/7]\t Loss: 0.437400\n"
     ]
    },
    {
     "name": "stdout",
     "output_type": "stream",
     "text": [
      "\t Iter [5/7]\t Loss: 0.441748\n"
     ]
    },
    {
     "name": "stdout",
     "output_type": "stream",
     "text": [
      "\t Iter [6/7]\t Loss: 0.451226\n"
     ]
    },
    {
     "name": "stdout",
     "output_type": "stream",
     "text": [
      "Epoch [24/30]\t                         Avg Train Loss: 0.438279\t                         Avg Eval Loss: 0.708245\t                         Avg Domain Accuracy: 0.48\t                         Avg Label Type Accuracy: 0.62\t                         Avg Total Eval Accuracy: 0.44\n"
     ]
    },
    {
     "name": "stdout",
     "output_type": "stream",
     "text": [
      "\t Iter [0/7]\t Loss: 0.421142\n"
     ]
    },
    {
     "name": "stdout",
     "output_type": "stream",
     "text": [
      "\t Iter [1/7]\t Loss: 0.441177\n"
     ]
    },
    {
     "name": "stdout",
     "output_type": "stream",
     "text": [
      "\t Iter [2/7]\t Loss: 0.413684\n"
     ]
    },
    {
     "name": "stdout",
     "output_type": "stream",
     "text": [
      "\t Iter [3/7]\t Loss: 0.438738\n"
     ]
    },
    {
     "name": "stdout",
     "output_type": "stream",
     "text": [
      "\t Iter [4/7]\t Loss: 0.437390\n"
     ]
    },
    {
     "name": "stdout",
     "output_type": "stream",
     "text": [
      "\t Iter [5/7]\t Loss: 0.418382\n"
     ]
    },
    {
     "name": "stdout",
     "output_type": "stream",
     "text": [
      "\t Iter [6/7]\t Loss: 0.431386\n"
     ]
    },
    {
     "name": "stdout",
     "output_type": "stream",
     "text": [
      "Epoch [25/30]\t                         Avg Train Loss: 0.428843\t                         Avg Eval Loss: 0.722585\t                         Avg Domain Accuracy: 0.48\t                         Avg Label Type Accuracy: 0.62\t                         Avg Total Eval Accuracy: 0.47\n"
     ]
    },
    {
     "name": "stdout",
     "output_type": "stream",
     "text": [
      "\t Iter [0/7]\t Loss: 0.406058\n"
     ]
    },
    {
     "name": "stdout",
     "output_type": "stream",
     "text": [
      "\t Iter [1/7]\t Loss: 0.425580\n"
     ]
    },
    {
     "name": "stdout",
     "output_type": "stream",
     "text": [
      "\t Iter [2/7]\t Loss: 0.433980\n"
     ]
    },
    {
     "name": "stdout",
     "output_type": "stream",
     "text": [
      "\t Iter [3/7]\t Loss: 0.435011\n"
     ]
    },
    {
     "name": "stdout",
     "output_type": "stream",
     "text": [
      "\t Iter [4/7]\t Loss: 0.411569\n"
     ]
    },
    {
     "name": "stdout",
     "output_type": "stream",
     "text": [
      "\t Iter [5/7]\t Loss: 0.425237\n"
     ]
    },
    {
     "name": "stdout",
     "output_type": "stream",
     "text": [
      "\t Iter [6/7]\t Loss: 0.428917\n"
     ]
    },
    {
     "name": "stdout",
     "output_type": "stream",
     "text": [
      "Epoch [26/30]\t                         Avg Train Loss: 0.423765\t                         Avg Eval Loss: 0.755815\t                         Avg Domain Accuracy: 0.52\t                         Avg Label Type Accuracy: 0.62\t                         Avg Total Eval Accuracy: 0.42\n"
     ]
    },
    {
     "name": "stdout",
     "output_type": "stream",
     "text": [
      "\t Iter [0/7]\t Loss: 0.418270\n"
     ]
    },
    {
     "name": "stdout",
     "output_type": "stream",
     "text": [
      "\t Iter [1/7]\t Loss: 0.419369\n"
     ]
    },
    {
     "name": "stdout",
     "output_type": "stream",
     "text": [
      "\t Iter [2/7]\t Loss: 0.419930\n"
     ]
    },
    {
     "name": "stdout",
     "output_type": "stream",
     "text": [
      "\t Iter [3/7]\t Loss: 0.425172\n"
     ]
    },
    {
     "name": "stdout",
     "output_type": "stream",
     "text": [
      "\t Iter [4/7]\t Loss: 0.422418\n"
     ]
    },
    {
     "name": "stdout",
     "output_type": "stream",
     "text": [
      "\t Iter [5/7]\t Loss: 0.409356\n"
     ]
    },
    {
     "name": "stdout",
     "output_type": "stream",
     "text": [
      "\t Iter [6/7]\t Loss: 0.412034\n"
     ]
    },
    {
     "name": "stdout",
     "output_type": "stream",
     "text": [
      "Epoch [27/30]\t                         Avg Train Loss: 0.418078\t                         Avg Eval Loss: 0.849440\t                         Avg Domain Accuracy: 0.49\t                         Avg Label Type Accuracy: 0.62\t                         Avg Total Eval Accuracy: 0.43\n"
     ]
    },
    {
     "name": "stdout",
     "output_type": "stream",
     "text": [
      "\t Iter [0/7]\t Loss: 0.415685\n"
     ]
    },
    {
     "name": "stdout",
     "output_type": "stream",
     "text": [
      "\t Iter [1/7]\t Loss: 0.414614\n"
     ]
    },
    {
     "name": "stdout",
     "output_type": "stream",
     "text": [
      "\t Iter [2/7]\t Loss: 0.415152\n"
     ]
    },
    {
     "name": "stdout",
     "output_type": "stream",
     "text": [
      "\t Iter [3/7]\t Loss: 0.414411\n"
     ]
    },
    {
     "name": "stdout",
     "output_type": "stream",
     "text": [
      "\t Iter [4/7]\t Loss: 0.404249\n"
     ]
    },
    {
     "name": "stdout",
     "output_type": "stream",
     "text": [
      "\t Iter [5/7]\t Loss: 0.400332\n"
     ]
    },
    {
     "name": "stdout",
     "output_type": "stream",
     "text": [
      "\t Iter [6/7]\t Loss: 0.431330\n"
     ]
    },
    {
     "name": "stdout",
     "output_type": "stream",
     "text": [
      "Epoch [28/30]\t                         Avg Train Loss: 0.413682\t                         Avg Eval Loss: 0.838289\t                         Avg Domain Accuracy: 0.51\t                         Avg Label Type Accuracy: 0.62\t                         Avg Total Eval Accuracy: 0.41\n"
     ]
    },
    {
     "name": "stdout",
     "output_type": "stream",
     "text": [
      "\t Iter [0/7]\t Loss: 0.412440\n"
     ]
    },
    {
     "name": "stdout",
     "output_type": "stream",
     "text": [
      "\t Iter [1/7]\t Loss: 0.409140\n"
     ]
    },
    {
     "name": "stdout",
     "output_type": "stream",
     "text": [
      "\t Iter [2/7]\t Loss: 0.407586\n"
     ]
    },
    {
     "name": "stdout",
     "output_type": "stream",
     "text": [
      "\t Iter [3/7]\t Loss: 0.388833\n"
     ]
    },
    {
     "name": "stdout",
     "output_type": "stream",
     "text": [
      "\t Iter [4/7]\t Loss: 0.410973\n"
     ]
    },
    {
     "name": "stdout",
     "output_type": "stream",
     "text": [
      "\t Iter [5/7]\t Loss: 0.409888\n"
     ]
    },
    {
     "name": "stdout",
     "output_type": "stream",
     "text": [
      "\t Iter [6/7]\t Loss: 0.399953\n"
     ]
    },
    {
     "name": "stdout",
     "output_type": "stream",
     "text": [
      "Epoch [29/30]\t                         Avg Train Loss: 0.405545\t                         Avg Eval Loss: 0.827217\t                         Avg Domain Accuracy: 0.51\t                         Avg Label Type Accuracy: 0.62\t                         Avg Total Eval Accuracy: 0.43\n"
     ]
    },
    {
     "name": "stdout",
     "output_type": "stream",
     "text": [
      "\t Iter [0/7]\t Loss: 0.395679\n"
     ]
    },
    {
     "name": "stdout",
     "output_type": "stream",
     "text": [
      "\t Iter [1/7]\t Loss: 0.403678\n"
     ]
    },
    {
     "name": "stdout",
     "output_type": "stream",
     "text": [
      "\t Iter [2/7]\t Loss: 0.413649\n"
     ]
    },
    {
     "name": "stdout",
     "output_type": "stream",
     "text": [
      "\t Iter [3/7]\t Loss: 0.413583\n"
     ]
    },
    {
     "name": "stdout",
     "output_type": "stream",
     "text": [
      "\t Iter [4/7]\t Loss: 0.401861\n"
     ]
    },
    {
     "name": "stdout",
     "output_type": "stream",
     "text": [
      "\t Iter [5/7]\t Loss: 0.397615\n"
     ]
    },
    {
     "name": "stdout",
     "output_type": "stream",
     "text": [
      "\t Iter [6/7]\t Loss: 0.408601\n"
     ]
    },
    {
     "name": "stdout",
     "output_type": "stream",
     "text": [
      "Epoch [30/30]\t                         Avg Train Loss: 0.404952\t                         Avg Eval Loss: 0.871485\t                         Avg Domain Accuracy: 0.50\t                         Avg Label Type Accuracy: 0.62\t                         Avg Total Eval Accuracy: 0.43\n"
     ]
    },
    {
     "data": {
      "image/png": "[encoded data removed]",
      "text/plain": [
       "<Figure size 1200x600 with 2 Axes>"
      ]
     },
     "metadata": {},
     "output_type": "display_data"
    },
    {
     "name": "stdout",
     "output_type": "stream",
     "text": [
      "weights_save_path: ./weights/raw/z2o0fQli.pth\n"
     ]
    },
    {
     "name": "stdout",
     "output_type": "stream",
     "text": [
      "Labels: ['yes', 'no', 'red', 'blue']\n",
      "Number of Common Labels = 4 | n_classes = 4\n",
      "V2: \tTrain size = 1000             | Val size = 200 | Total = 1200\n",
      "Abs: \tTrain size = 600             | Val size = 200 | Total = 800\n",
      "--------------------\n"
     ]
    },
    {
     "name": "stdout",
     "output_type": "stream",
     "text": [
      "\t Iter [0/7]\t Loss: 0.914271\n"
     ]
    },
    {
     "name": "stdout",
     "output_type": "stream",
     "text": [
      "\t Iter [1/7]\t Loss: 0.896108\n"
     ]
    },
    {
     "name": "stdout",
     "output_type": "stream",
     "text": [
      "\t Iter [2/7]\t Loss: 0.889313\n"
     ]
    },
    {
     "name": "stdout",
     "output_type": "stream",
     "text": [
      "\t Iter [3/7]\t Loss: 0.893728\n"
     ]
    },
    {
     "name": "stdout",
     "output_type": "stream",
     "text": [
      "\t Iter [4/7]\t Loss: 0.877196\n"
     ]
    },
    {
     "name": "stdout",
     "output_type": "stream",
     "text": [
      "\t Iter [5/7]\t Loss: 0.868151\n"
     ]
    },
    {
     "name": "stdout",
     "output_type": "stream",
     "text": [
      "\t Iter [6/7]\t Loss: 0.849353\n"
     ]
    },
    {
     "name": "stdout",
     "output_type": "stream",
     "text": [
      "Epoch [1/30]\t                         Avg Train Loss: 0.884017\t                         Avg Eval Loss: 0.839646\t                         Avg Domain Accuracy: 0.50\t                         Avg Label Type Accuracy: 0.38\t                         Avg Total Eval Accuracy: 0.27\n"
     ]
    },
    {
     "name": "stdout",
     "output_type": "stream",
     "text": [
      "\t Iter [0/7]\t Loss: 0.866640\n"
     ]
    },
    {
     "name": "stdout",
     "output_type": "stream",
     "text": [
      "\t Iter [1/7]\t Loss: 0.800427\n"
     ]
    },
    {
     "name": "stdout",
     "output_type": "stream",
     "text": [
      "\t Iter [2/7]\t Loss: 0.706867\n"
     ]
    },
    {
     "name": "stdout",
     "output_type": "stream",
     "text": [
      "\t Iter [3/7]\t Loss: 0.648168\n"
     ]
    },
    {
     "name": "stdout",
     "output_type": "stream",
     "text": [
      "\t Iter [4/7]\t Loss: 0.571717\n"
     ]
    },
    {
     "name": "stdout",
     "output_type": "stream",
     "text": [
      "\t Iter [5/7]\t Loss: 0.544824\n"
     ]
    },
    {
     "name": "stdout",
     "output_type": "stream",
     "text": [
      "\t Iter [6/7]\t Loss: 0.613875\n"
     ]
    },
    {
     "name": "stdout",
     "output_type": "stream",
     "text": [
      "Epoch [2/30]\t                         Avg Train Loss: 0.678931\t                         Avg Eval Loss: 0.561684\t                         Avg Domain Accuracy: 0.50\t                         Avg Label Type Accuracy: 0.62\t                         Avg Total Eval Accuracy: 0.25\n"
     ]
    },
    {
     "name": "stdout",
     "output_type": "stream",
     "text": [
      "\t Iter [0/7]\t Loss: 0.538263\n"
     ]
    },
    {
     "name": "stdout",
     "output_type": "stream",
     "text": [
      "\t Iter [1/7]\t Loss: 0.695675\n"
     ]
    },
    {
     "name": "stdout",
     "output_type": "stream",
     "text": [
      "\t Iter [2/7]\t Loss: 0.567367\n"
     ]
    },
    {
     "name": "stdout",
     "output_type": "stream",
     "text": [
      "\t Iter [3/7]\t Loss: 0.584708\n"
     ]
    },
    {
     "name": "stdout",
     "output_type": "stream",
     "text": [
      "\t Iter [4/7]\t Loss: 0.553060\n"
     ]
    },
    {
     "name": "stdout",
     "output_type": "stream",
     "text": [
      "\t Iter [5/7]\t Loss: 0.578712\n"
     ]
    },
    {
     "name": "stdout",
     "output_type": "stream",
     "text": [
      "\t Iter [6/7]\t Loss: 0.550450\n"
     ]
    },
    {
     "name": "stdout",
     "output_type": "stream",
     "text": [
      "Epoch [3/30]\t                         Avg Train Loss: 0.581176\t                         Avg Eval Loss: 0.591551\t                         Avg Domain Accuracy: 0.54\t                         Avg Label Type Accuracy: 0.62\t                         Avg Total Eval Accuracy: 0.25\n"
     ]
    },
    {
     "name": "stdout",
     "output_type": "stream",
     "text": [
      "\t Iter [0/7]\t Loss: 0.543608\n"
     ]
    },
    {
     "name": "stdout",
     "output_type": "stream",
     "text": [
      "\t Iter [1/7]\t Loss: 0.548305\n"
     ]
    },
    {
     "name": "stdout",
     "output_type": "stream",
     "text": [
      "\t Iter [2/7]\t Loss: 0.548190\n"
     ]
    },
    {
     "name": "stdout",
     "output_type": "stream",
     "text": [
      "\t Iter [3/7]\t Loss: 0.549331\n"
     ]
    },
    {
     "name": "stdout",
     "output_type": "stream",
     "text": [
      "\t Iter [4/7]\t Loss: 0.558917\n"
     ]
    },
    {
     "name": "stdout",
     "output_type": "stream",
     "text": [
      "\t Iter [5/7]\t Loss: 0.566123\n"
     ]
    },
    {
     "name": "stdout",
     "output_type": "stream",
     "text": [
      "\t Iter [6/7]\t Loss: 0.553850\n"
     ]
    },
    {
     "name": "stdout",
     "output_type": "stream",
     "text": [
      "Epoch [4/30]\t                         Avg Train Loss: 0.552618\t                         Avg Eval Loss: 0.554346\t                         Avg Domain Accuracy: 0.52\t                         Avg Label Type Accuracy: 0.62\t                         Avg Total Eval Accuracy: 0.25\n"
     ]
    },
    {
     "name": "stdout",
     "output_type": "stream",
     "text": [
      "\t Iter [0/7]\t Loss: 0.535964\n"
     ]
    },
    {
     "name": "stdout",
     "output_type": "stream",
     "text": [
      "\t Iter [1/7]\t Loss: 0.536365\n"
     ]
    },
    {
     "name": "stdout",
     "output_type": "stream",
     "text": [
      "\t Iter [2/7]\t Loss: 0.530931\n"
     ]
    },
    {
     "name": "stdout",
     "output_type": "stream",
     "text": [
      "\t Iter [3/7]\t Loss: 0.546187\n"
     ]
    },
    {
     "name": "stdout",
     "output_type": "stream",
     "text": [
      "\t Iter [4/7]\t Loss: 0.544690\n"
     ]
    },
    {
     "name": "stdout",
     "output_type": "stream",
     "text": [
      "\t Iter [5/7]\t Loss: 0.547455\n"
     ]
    },
    {
     "name": "stdout",
     "output_type": "stream",
     "text": [
      "\t Iter [6/7]\t Loss: 0.548631\n"
     ]
    },
    {
     "name": "stdout",
     "output_type": "stream",
     "text": [
      "Epoch [5/30]\t                         Avg Train Loss: 0.541460\t                         Avg Eval Loss: 0.558997\t                         Avg Domain Accuracy: 0.52\t                         Avg Label Type Accuracy: 0.62\t                         Avg Total Eval Accuracy: 0.25\n"
     ]
    },
    {
     "name": "stdout",
     "output_type": "stream",
     "text": [
      "\t Iter [0/7]\t Loss: 0.549373\n"
     ]
    },
    {
     "name": "stdout",
     "output_type": "stream",
     "text": [
      "\t Iter [1/7]\t Loss: 0.553021\n"
     ]
    },
    {
     "name": "stdout",
     "output_type": "stream",
     "text": [
      "\t Iter [2/7]\t Loss: 0.529737\n"
     ]
    },
    {
     "name": "stdout",
     "output_type": "stream",
     "text": [
      "\t Iter [3/7]\t Loss: 0.536098\n"
     ]
    },
    {
     "name": "stdout",
     "output_type": "stream",
     "text": [
      "\t Iter [4/7]\t Loss: 0.535572\n"
     ]
    },
    {
     "name": "stdout",
     "output_type": "stream",
     "text": [
      "\t Iter [5/7]\t Loss: 0.521691\n"
     ]
    },
    {
     "name": "stdout",
     "output_type": "stream",
     "text": [
      "\t Iter [6/7]\t Loss: 0.536266\n"
     ]
    },
    {
     "name": "stdout",
     "output_type": "stream",
     "text": [
      "Epoch [6/30]\t                         Avg Train Loss: 0.537394\t                         Avg Eval Loss: 0.575290\t                         Avg Domain Accuracy: 0.49\t                         Avg Label Type Accuracy: 0.62\t                         Avg Total Eval Accuracy: 0.50\n"
     ]
    },
    {
     "name": "stdout",
     "output_type": "stream",
     "text": [
      "\t Iter [0/7]\t Loss: 0.539105\n"
     ]
    },
    {
     "name": "stdout",
     "output_type": "stream",
     "text": [
      "\t Iter [1/7]\t Loss: 0.530777\n"
     ]
    },
    {
     "name": "stdout",
     "output_type": "stream",
     "text": [
      "\t Iter [2/7]\t Loss: 0.532207\n"
     ]
    },
    {
     "name": "stdout",
     "output_type": "stream",
     "text": [
      "\t Iter [3/7]\t Loss: 0.544791\n"
     ]
    },
    {
     "name": "stdout",
     "output_type": "stream",
     "text": [
      "\t Iter [4/7]\t Loss: 0.528669\n"
     ]
    },
    {
     "name": "stdout",
     "output_type": "stream",
     "text": [
      "\t Iter [5/7]\t Loss: 0.535316\n"
     ]
    },
    {
     "name": "stdout",
     "output_type": "stream",
     "text": [
      "\t Iter [6/7]\t Loss: 0.535295\n"
     ]
    },
    {
     "name": "stdout",
     "output_type": "stream",
     "text": [
      "Epoch [7/30]\t                         Avg Train Loss: 0.535166\t                         Avg Eval Loss: 0.548862\t                         Avg Domain Accuracy: 0.52\t                         Avg Label Type Accuracy: 0.62\t                         Avg Total Eval Accuracy: 0.25\n"
     ]
    },
    {
     "name": "stdout",
     "output_type": "stream",
     "text": [
      "\t Iter [0/7]\t Loss: 0.526824\n"
     ]
    },
    {
     "name": "stdout",
     "output_type": "stream",
     "text": [
      "\t Iter [1/7]\t Loss: 0.533057\n"
     ]
    },
    {
     "name": "stdout",
     "output_type": "stream",
     "text": [
      "\t Iter [2/7]\t Loss: 0.540014\n"
     ]
    },
    {
     "name": "stdout",
     "output_type": "stream",
     "text": [
      "\t Iter [3/7]\t Loss: 0.522036\n"
     ]
    },
    {
     "name": "stdout",
     "output_type": "stream",
     "text": [
      "\t Iter [4/7]\t Loss: 0.535724\n"
     ]
    },
    {
     "name": "stdout",
     "output_type": "stream",
     "text": [
      "\t Iter [5/7]\t Loss: 0.534170\n"
     ]
    },
    {
     "name": "stdout",
     "output_type": "stream",
     "text": [
      "\t Iter [6/7]\t Loss: 0.537984\n"
     ]
    },
    {
     "name": "stdout",
     "output_type": "stream",
     "text": [
      "Epoch [8/30]\t                         Avg Train Loss: 0.532830\t                         Avg Eval Loss: 0.537750\t                         Avg Domain Accuracy: 0.51\t                         Avg Label Type Accuracy: 0.62\t                         Avg Total Eval Accuracy: 0.26\n"
     ]
    },
    {
     "name": "stdout",
     "output_type": "stream",
     "text": [
      "\t Iter [0/7]\t Loss: 0.526714\n"
     ]
    },
    {
     "name": "stdout",
     "output_type": "stream",
     "text": [
      "\t Iter [1/7]\t Loss: 0.527690\n"
     ]
    },
    {
     "name": "stdout",
     "output_type": "stream",
     "text": [
      "\t Iter [2/7]\t Loss: 0.533906\n"
     ]
    },
    {
     "name": "stdout",
     "output_type": "stream",
     "text": [
      "\t Iter [3/7]\t Loss: 0.533581\n"
     ]
    },
    {
     "name": "stdout",
     "output_type": "stream",
     "text": [
      "\t Iter [4/7]\t Loss: 0.537000\n"
     ]
    },
    {
     "name": "stdout",
     "output_type": "stream",
     "text": [
      "\t Iter [5/7]\t Loss: 0.531055\n"
     ]
    },
    {
     "name": "stdout",
     "output_type": "stream",
     "text": [
      "\t Iter [6/7]\t Loss: 0.527847\n"
     ]
    },
    {
     "name": "stdout",
     "output_type": "stream",
     "text": [
      "Epoch [9/30]\t                         Avg Train Loss: 0.531113\t                         Avg Eval Loss: 0.540837\t                         Avg Domain Accuracy: 0.51\t                         Avg Label Type Accuracy: 0.62\t                         Avg Total Eval Accuracy: 0.43\n"
     ]
    },
    {
     "name": "stdout",
     "output_type": "stream",
     "text": [
      "\t Iter [0/7]\t Loss: 0.533374\n"
     ]
    },
    {
     "name": "stdout",
     "output_type": "stream",
     "text": [
      "\t Iter [1/7]\t Loss: 0.538361\n"
     ]
    },
    {
     "name": "stdout",
     "output_type": "stream",
     "text": [
      "\t Iter [2/7]\t Loss: 0.531599\n"
     ]
    },
    {
     "name": "stdout",
     "output_type": "stream",
     "text": [
      "\t Iter [3/7]\t Loss: 0.536293\n"
     ]
    },
    {
     "name": "stdout",
     "output_type": "stream",
     "text": [
      "\t Iter [4/7]\t Loss: 0.536476\n"
     ]
    },
    {
     "name": "stdout",
     "output_type": "stream",
     "text": [
      "\t Iter [5/7]\t Loss: 0.530870\n"
     ]
    },
    {
     "name": "stdout",
     "output_type": "stream",
     "text": [
      "\t Iter [6/7]\t Loss: 0.559566\n"
     ]
    },
    {
     "name": "stdout",
     "output_type": "stream",
     "text": [
      "Epoch [10/30]\t                         Avg Train Loss: 0.538077\t                         Avg Eval Loss: 0.538453\t                         Avg Domain Accuracy: 0.48\t                         Avg Label Type Accuracy: 0.62\t                         Avg Total Eval Accuracy: 0.37\n"
     ]
    },
    {
     "name": "stdout",
     "output_type": "stream",
     "text": [
      "\t Iter [0/7]\t Loss: 0.541382\n"
     ]
    },
    {
     "name": "stdout",
     "output_type": "stream",
     "text": [
      "\t Iter [1/7]\t Loss: 0.524801\n"
     ]
    },
    {
     "name": "stdout",
     "output_type": "stream",
     "text": [
      "\t Iter [2/7]\t Loss: 0.530909\n"
     ]
    },
    {
     "name": "stdout",
     "output_type": "stream",
     "text": [
      "\t Iter [3/7]\t Loss: 0.537544\n"
     ]
    },
    {
     "name": "stdout",
     "output_type": "stream",
     "text": [
      "\t Iter [4/7]\t Loss: 0.523325\n"
     ]
    },
    {
     "name": "stdout",
     "output_type": "stream",
     "text": [
      "\t Iter [5/7]\t Loss: 0.546141\n"
     ]
    },
    {
     "name": "stdout",
     "output_type": "stream",
     "text": [
      "\t Iter [6/7]\t Loss: 0.520598\n"
     ]
    },
    {
     "name": "stdout",
     "output_type": "stream",
     "text": [
      "Epoch [11/30]\t                         Avg Train Loss: 0.532100\t                         Avg Eval Loss: 0.556557\t                         Avg Domain Accuracy: 0.50\t                         Avg Label Type Accuracy: 0.62\t                         Avg Total Eval Accuracy: 0.31\n"
     ]
    },
    {
     "name": "stdout",
     "output_type": "stream",
     "text": [
      "\t Iter [0/7]\t Loss: 0.528063\n"
     ]
    },
    {
     "name": "stdout",
     "output_type": "stream",
     "text": [
      "\t Iter [1/7]\t Loss: 0.524655\n"
     ]
    },
    {
     "name": "stdout",
     "output_type": "stream",
     "text": [
      "\t Iter [2/7]\t Loss: 0.531853\n"
     ]
    },
    {
     "name": "stdout",
     "output_type": "stream",
     "text": [
      "\t Iter [3/7]\t Loss: 0.527379\n"
     ]
    },
    {
     "name": "stdout",
     "output_type": "stream",
     "text": [
      "\t Iter [4/7]\t Loss: 0.536034\n"
     ]
    },
    {
     "name": "stdout",
     "output_type": "stream",
     "text": [
      "\t Iter [5/7]\t Loss: 0.536569\n"
     ]
    },
    {
     "name": "stdout",
     "output_type": "stream",
     "text": [
      "\t Iter [6/7]\t Loss: 0.526900\n"
     ]
    },
    {
     "name": "stdout",
     "output_type": "stream",
     "text": [
      "Epoch [12/30]\t                         Avg Train Loss: 0.530208\t                         Avg Eval Loss: 0.555720\t                         Avg Domain Accuracy: 0.48\t                         Avg Label Type Accuracy: 0.62\t                         Avg Total Eval Accuracy: 0.38\n"
     ]
    },
    {
     "name": "stdout",
     "output_type": "stream",
     "text": [
      "\t Iter [0/7]\t Loss: 0.523756\n"
     ]
    },
    {
     "name": "stdout",
     "output_type": "stream",
     "text": [
      "\t Iter [1/7]\t Loss: 0.517287\n"
     ]
    },
    {
     "name": "stdout",
     "output_type": "stream",
     "text": [
      "\t Iter [2/7]\t Loss: 0.520248\n"
     ]
    },
    {
     "name": "stdout",
     "output_type": "stream",
     "text": [
      "\t Iter [3/7]\t Loss: 0.515827\n"
     ]
    },
    {
     "name": "stdout",
     "output_type": "stream",
     "text": [
      "\t Iter [4/7]\t Loss: 0.523559\n"
     ]
    },
    {
     "name": "stdout",
     "output_type": "stream",
     "text": [
      "\t Iter [5/7]\t Loss: 0.533422\n"
     ]
    },
    {
     "name": "stdout",
     "output_type": "stream",
     "text": [
      "\t Iter [6/7]\t Loss: 0.528381\n"
     ]
    },
    {
     "name": "stdout",
     "output_type": "stream",
     "text": [
      "Epoch [13/30]\t                         Avg Train Loss: 0.523211\t                         Avg Eval Loss: 0.538587\t                         Avg Domain Accuracy: 0.50\t                         Avg Label Type Accuracy: 0.62\t                         Avg Total Eval Accuracy: 0.44\n"
     ]
    },
    {
     "name": "stdout",
     "output_type": "stream",
     "text": [
      "\t Iter [0/7]\t Loss: 0.527839\n"
     ]
    },
    {
     "name": "stdout",
     "output_type": "stream",
     "text": [
      "\t Iter [1/7]\t Loss: 0.520764\n"
     ]
    },
    {
     "name": "stdout",
     "output_type": "stream",
     "text": [
      "\t Iter [2/7]\t Loss: 0.515093\n"
     ]
    },
    {
     "name": "stdout",
     "output_type": "stream",
     "text": [
      "\t Iter [3/7]\t Loss: 0.520246\n"
     ]
    },
    {
     "name": "stdout",
     "output_type": "stream",
     "text": [
      "\t Iter [4/7]\t Loss: 0.516710\n"
     ]
    },
    {
     "name": "stdout",
     "output_type": "stream",
     "text": [
      "\t Iter [5/7]\t Loss: 0.508377\n"
     ]
    },
    {
     "name": "stdout",
     "output_type": "stream",
     "text": [
      "\t Iter [6/7]\t Loss: 0.500273\n"
     ]
    },
    {
     "name": "stdout",
     "output_type": "stream",
     "text": [
      "Epoch [14/30]\t                         Avg Train Loss: 0.515615\t                         Avg Eval Loss: 0.539761\t                         Avg Domain Accuracy: 0.47\t                         Avg Label Type Accuracy: 0.62\t                         Avg Total Eval Accuracy: 0.36\n"
     ]
    },
    {
     "name": "stdout",
     "output_type": "stream",
     "text": [
      "\t Iter [0/7]\t Loss: 0.513188\n"
     ]
    },
    {
     "name": "stdout",
     "output_type": "stream",
     "text": [
      "\t Iter [1/7]\t Loss: 0.487565\n"
     ]
    },
    {
     "name": "stdout",
     "output_type": "stream",
     "text": [
      "\t Iter [2/7]\t Loss: 0.538694\n"
     ]
    },
    {
     "name": "stdout",
     "output_type": "stream",
     "text": [
      "\t Iter [3/7]\t Loss: 0.506302\n"
     ]
    },
    {
     "name": "stdout",
     "output_type": "stream",
     "text": [
      "\t Iter [4/7]\t Loss: 0.528816\n"
     ]
    },
    {
     "name": "stdout",
     "output_type": "stream",
     "text": [
      "\t Iter [5/7]\t Loss: 0.535973\n"
     ]
    },
    {
     "name": "stdout",
     "output_type": "stream",
     "text": [
      "\t Iter [6/7]\t Loss: 0.514013\n"
     ]
    },
    {
     "name": "stdout",
     "output_type": "stream",
     "text": [
      "Epoch [15/30]\t                         Avg Train Loss: 0.517793\t                         Avg Eval Loss: 0.536124\t                         Avg Domain Accuracy: 0.48\t                         Avg Label Type Accuracy: 0.62\t                         Avg Total Eval Accuracy: 0.43\n"
     ]
    },
    {
     "name": "stdout",
     "output_type": "stream",
     "text": [
      "\t Iter [0/7]\t Loss: 0.520378\n"
     ]
    },
    {
     "name": "stdout",
     "output_type": "stream",
     "text": [
      "\t Iter [1/7]\t Loss: 0.500269\n"
     ]
    },
    {
     "name": "stdout",
     "output_type": "stream",
     "text": [
      "\t Iter [2/7]\t Loss: 0.504812\n"
     ]
    },
    {
     "name": "stdout",
     "output_type": "stream",
     "text": [
      "\t Iter [3/7]\t Loss: 0.508253\n"
     ]
    },
    {
     "name": "stdout",
     "output_type": "stream",
     "text": [
      "\t Iter [4/7]\t Loss: 0.512264\n"
     ]
    },
    {
     "name": "stdout",
     "output_type": "stream",
     "text": [
      "\t Iter [5/7]\t Loss: 0.500697\n"
     ]
    },
    {
     "name": "stdout",
     "output_type": "stream",
     "text": [
      "\t Iter [6/7]\t Loss: 0.500718\n"
     ]
    },
    {
     "name": "stdout",
     "output_type": "stream",
     "text": [
      "Epoch [16/30]\t                         Avg Train Loss: 0.506770\t                         Avg Eval Loss: 0.520057\t                         Avg Domain Accuracy: 0.47\t                         Avg Label Type Accuracy: 0.62\t                         Avg Total Eval Accuracy: 0.47\n"
     ]
    },
    {
     "name": "stdout",
     "output_type": "stream",
     "text": [
      "\t Iter [0/7]\t Loss: 0.488321\n"
     ]
    },
    {
     "name": "stdout",
     "output_type": "stream",
     "text": [
      "\t Iter [1/7]\t Loss: 0.500524\n"
     ]
    },
    {
     "name": "stdout",
     "output_type": "stream",
     "text": [
      "\t Iter [2/7]\t Loss: 0.503237\n"
     ]
    },
    {
     "name": "stdout",
     "output_type": "stream",
     "text": [
      "\t Iter [3/7]\t Loss: 0.507312\n"
     ]
    },
    {
     "name": "stdout",
     "output_type": "stream",
     "text": [
      "\t Iter [4/7]\t Loss: 0.489705\n"
     ]
    },
    {
     "name": "stdout",
     "output_type": "stream",
     "text": [
      "\t Iter [5/7]\t Loss: 0.485914\n"
     ]
    },
    {
     "name": "stdout",
     "output_type": "stream",
     "text": [
      "\t Iter [6/7]\t Loss: 0.513467\n"
     ]
    },
    {
     "name": "stdout",
     "output_type": "stream",
     "text": [
      "Epoch [17/30]\t                         Avg Train Loss: 0.498354\t                         Avg Eval Loss: 0.572496\t                         Avg Domain Accuracy: 0.51\t                         Avg Label Type Accuracy: 0.62\t                         Avg Total Eval Accuracy: 0.43\n"
     ]
    },
    {
     "name": "stdout",
     "output_type": "stream",
     "text": [
      "\t Iter [0/7]\t Loss: 0.490204\n"
     ]
    },
    {
     "name": "stdout",
     "output_type": "stream",
     "text": [
      "\t Iter [1/7]\t Loss: 0.479856\n"
     ]
    },
    {
     "name": "stdout",
     "output_type": "stream",
     "text": [
      "\t Iter [2/7]\t Loss: 0.485887\n"
     ]
    },
    {
     "name": "stdout",
     "output_type": "stream",
     "text": [
      "\t Iter [3/7]\t Loss: 0.489908\n"
     ]
    },
    {
     "name": "stdout",
     "output_type": "stream",
     "text": [
      "\t Iter [4/7]\t Loss: 0.497341\n"
     ]
    },
    {
     "name": "stdout",
     "output_type": "stream",
     "text": [
      "\t Iter [5/7]\t Loss: 0.490474\n"
     ]
    },
    {
     "name": "stdout",
     "output_type": "stream",
     "text": [
      "\t Iter [6/7]\t Loss: 0.468674\n"
     ]
    },
    {
     "name": "stdout",
     "output_type": "stream",
     "text": [
      "Epoch [18/30]\t                         Avg Train Loss: 0.486049\t                         Avg Eval Loss: 0.568694\t                         Avg Domain Accuracy: 0.46\t                         Avg Label Type Accuracy: 0.62\t                         Avg Total Eval Accuracy: 0.41\n"
     ]
    },
    {
     "name": "stdout",
     "output_type": "stream",
     "text": [
      "\t Iter [0/7]\t Loss: 0.481422\n"
     ]
    },
    {
     "name": "stdout",
     "output_type": "stream",
     "text": [
      "\t Iter [1/7]\t Loss: 0.481198\n"
     ]
    },
    {
     "name": "stdout",
     "output_type": "stream",
     "text": [
      "\t Iter [2/7]\t Loss: 0.467582\n"
     ]
    },
    {
     "name": "stdout",
     "output_type": "stream",
     "text": [
      "\t Iter [3/7]\t Loss: 0.484120\n"
     ]
    },
    {
     "name": "stdout",
     "output_type": "stream",
     "text": [
      "\t Iter [4/7]\t Loss: 0.484020\n"
     ]
    },
    {
     "name": "stdout",
     "output_type": "stream",
     "text": [
      "\t Iter [5/7]\t Loss: 0.470452\n"
     ]
    },
    {
     "name": "stdout",
     "output_type": "stream",
     "text": [
      "\t Iter [6/7]\t Loss: 0.476039\n"
     ]
    },
    {
     "name": "stdout",
     "output_type": "stream",
     "text": [
      "Epoch [19/30]\t                         Avg Train Loss: 0.477833\t                         Avg Eval Loss: 0.539931\t                         Avg Domain Accuracy: 0.47\t                         Avg Label Type Accuracy: 0.62\t                         Avg Total Eval Accuracy: 0.45\n"
     ]
    },
    {
     "name": "stdout",
     "output_type": "stream",
     "text": [
      "\t Iter [0/7]\t Loss: 0.482247\n"
     ]
    },
    {
     "name": "stdout",
     "output_type": "stream",
     "text": [
      "\t Iter [1/7]\t Loss: 0.452642\n"
     ]
    },
    {
     "name": "stdout",
     "output_type": "stream",
     "text": [
      "\t Iter [2/7]\t Loss: 0.459343\n"
     ]
    },
    {
     "name": "stdout",
     "output_type": "stream",
     "text": [
      "\t Iter [3/7]\t Loss: 0.470562\n"
     ]
    },
    {
     "name": "stdout",
     "output_type": "stream",
     "text": [
      "\t Iter [4/7]\t Loss: 0.455394\n"
     ]
    },
    {
     "name": "stdout",
     "output_type": "stream",
     "text": [
      "\t Iter [5/7]\t Loss: 0.475986\n"
     ]
    },
    {
     "name": "stdout",
     "output_type": "stream",
     "text": [
      "\t Iter [6/7]\t Loss: 0.460365\n"
     ]
    },
    {
     "name": "stdout",
     "output_type": "stream",
     "text": [
      "Epoch [20/30]\t                         Avg Train Loss: 0.465220\t                         Avg Eval Loss: 0.565724\t                         Avg Domain Accuracy: 0.51\t                         Avg Label Type Accuracy: 0.62\t                         Avg Total Eval Accuracy: 0.45\n"
     ]
    },
    {
     "name": "stdout",
     "output_type": "stream",
     "text": [
      "\t Iter [0/7]\t Loss: 0.456841\n"
     ]
    },
    {
     "name": "stdout",
     "output_type": "stream",
     "text": [
      "\t Iter [1/7]\t Loss: 0.455500\n"
     ]
    },
    {
     "name": "stdout",
     "output_type": "stream",
     "text": [
      "\t Iter [2/7]\t Loss: 0.441035\n"
     ]
    },
    {
     "name": "stdout",
     "output_type": "stream",
     "text": [
      "\t Iter [3/7]\t Loss: 0.455128\n"
     ]
    },
    {
     "name": "stdout",
     "output_type": "stream",
     "text": [
      "\t Iter [4/7]\t Loss: 0.448812\n"
     ]
    },
    {
     "name": "stdout",
     "output_type": "stream",
     "text": [
      "\t Iter [5/7]\t Loss: 0.453052\n"
     ]
    },
    {
     "name": "stdout",
     "output_type": "stream",
     "text": [
      "\t Iter [6/7]\t Loss: 0.458077\n"
     ]
    },
    {
     "name": "stdout",
     "output_type": "stream",
     "text": [
      "Epoch [21/30]\t                         Avg Train Loss: 0.452635\t                         Avg Eval Loss: 0.591610\t                         Avg Domain Accuracy: 0.45\t                         Avg Label Type Accuracy: 0.62\t                         Avg Total Eval Accuracy: 0.43\n"
     ]
    },
    {
     "name": "stdout",
     "output_type": "stream",
     "text": [
      "\t Iter [0/7]\t Loss: 0.446987\n"
     ]
    },
    {
     "name": "stdout",
     "output_type": "stream",
     "text": [
      "\t Iter [1/7]\t Loss: 0.440505\n"
     ]
    },
    {
     "name": "stdout",
     "output_type": "stream",
     "text": [
      "\t Iter [2/7]\t Loss: 0.452282\n"
     ]
    },
    {
     "name": "stdout",
     "output_type": "stream",
     "text": [
      "\t Iter [3/7]\t Loss: 0.443305\n"
     ]
    },
    {
     "name": "stdout",
     "output_type": "stream",
     "text": [
      "\t Iter [4/7]\t Loss: 0.447823\n"
     ]
    },
    {
     "name": "stdout",
     "output_type": "stream",
     "text": [
      "\t Iter [5/7]\t Loss: 0.458655\n"
     ]
    },
    {
     "name": "stdout",
     "output_type": "stream",
     "text": [
      "\t Iter [6/7]\t Loss: 0.441957\n"
     ]
    },
    {
     "name": "stdout",
     "output_type": "stream",
     "text": [
      "Epoch [22/30]\t                         Avg Train Loss: 0.447359\t                         Avg Eval Loss: 0.631619\t                         Avg Domain Accuracy: 0.52\t                         Avg Label Type Accuracy: 0.62\t                         Avg Total Eval Accuracy: 0.43\n"
     ]
    },
    {
     "name": "stdout",
     "output_type": "stream",
     "text": [
      "\t Iter [0/7]\t Loss: 0.435537\n"
     ]
    },
    {
     "name": "stdout",
     "output_type": "stream",
     "text": [
      "\t Iter [1/7]\t Loss: 0.434209\n"
     ]
    },
    {
     "name": "stdout",
     "output_type": "stream",
     "text": [
      "\t Iter [2/7]\t Loss: 0.447309\n"
     ]
    },
    {
     "name": "stdout",
     "output_type": "stream",
     "text": [
      "\t Iter [3/7]\t Loss: 0.458938\n"
     ]
    },
    {
     "name": "stdout",
     "output_type": "stream",
     "text": [
      "\t Iter [4/7]\t Loss: 0.431473\n"
     ]
    },
    {
     "name": "stdout",
     "output_type": "stream",
     "text": [
      "\t Iter [5/7]\t Loss: 0.451244\n"
     ]
    }
   ],
   "source": [
    "import os\n",
    "os.chdir('/workspace')\n",
    "from trainer import * \n",
    "\n",
    "cfg = {\n",
    "    \"name\": \"DANN\",\n",
    "    #\n",
    "    ### DataLoader ###\n",
    "    # \"n_classes\": 12,\n",
    "    # \"n_types\": 4,\n",
    "\n",
    "    \"n_classes\": 4,\n",
    "    \"n_types\": 2,\n",
    "\n",
    "    'label_type_to_labels' : {\n",
    "        'yes_no': ['yes', 'no'],\n",
    "        'colors': ['red', 'blue'],\n",
    "    },\n",
    "\n",
    "    #\n",
    "    \"v2_samples_per_answer\": 300,\n",
    "    \"abs_samples_per_answer\": 300,\n",
    "    #\n",
    "    \"v2_samples_per_answer_train\": 250,\n",
    "    \"abs_samples_per_answer_train\": 150,\n",
    "    #\n",
    "    \"v2_samples_per_answer_val\": 50,\n",
    "    \"abs_samples_per_answer_val\": 50,\n",
    "    \"source_domain\": \"v2\",\n",
    "    \n",
    "    ### VLModel ###\n",
    "    \"image_encoder\": \"facebook/dinov2-base\",\n",
    "    \"text_encoder\": \"bert-base-uncased\",\n",
    "    #\n",
    "    ## Embedder\n",
    "    \"num_attn_heads\": 8,\n",
    "    \"fusion_mode\": \"cat\",\n",
    "    \"num_stacked_attn\": 1,\n",
    "    \"criss_cross__drop_p\": 0.0,\n",
    "    \"post_concat__drop_p\": 0.0,\n",
    "    \"embed_attn__add_residual\": False,\n",
    "    \"embed_attn__drop_p\": 0.0,\n",
    "    #\n",
    "    ## Label Classifier\n",
    "    \"label_classifier__use_bn\": False,\n",
    "    \"label_classifier__drop_p\": 0.0,\n",
    "    \"label_classifier__repeat_layers\": [0, 0],\n",
    "    #\n",
    "    ## Domain Classifier\n",
    "    \"domain_classifier__use_bn\": True,\n",
    "    \"domain_classifier__drop_p\": 0.5,\n",
    "    \"domain_classifier__repeat_layers\": [2, 2],\n",
    "    #\n",
    "    ### Objective ###\n",
    "    \"domain_adaptation_method\": \"domain_adversarial\",  # 'naive', 'importance_sampling', 'domain_adversarial'\n",
    "    #\n",
    "    ### Trainer ###\n",
    "    \"relaxation_period\": 3,\n",
    "    \"epochs\": 30,\n",
    "    \"batch_size\": 150,\n",
    "    \"base_lr\": 0.0005,\n",
    "    \"weight_decay\": 1e-5,\n",
    "    #\n",
    "    ### Logging ###\n",
    "    # \"print_logs\": False,\n",
    "    \"print_logs\": True,\n",
    "    \"show_plot\": True,\n",
    "    \"weights_save_root\": \"./weights/raw\",\n",
    "}\n",
    "\n",
    "if True:\n",
    "    # v2\n",
    "    cfg[\"source_domain\"] = \"v2\"\n",
    "    trainer = DA_Trainer(cfg, vqa_v2, vqa_abs)\n",
    "    v2_ckpt_path = cfg[\"weights_save_path\"]\n",
    "\n",
    "    trainer.train(show_plot=True)\n",
    "\n",
    "    # abs\n",
    "    cfg[\"source_domain\"] = \"abs\"\n",
    "    trainer = DA_Trainer(cfg, vqa_v2, vqa_abs)\n",
    "    abs_ckpt_path = cfg[\"weights_save_path\"]\n",
    "\n",
    "    trainer.train(show_plot=False)"
   ]
  }
 ],
 "metadata": {
  "kernelspec": {
   "display_name": "base",
   "language": "python",
   "name": "python3"
  },
  "language_info": {
   "codemirror_mode": {
    "name": "ipython",
    "version": 3
   },
   "file_extension": ".py",
   "mimetype": "text/x-python",
   "name": "python",
   "nbconvert_exporter": "python",
   "pygments_lexer": "ipython3",
   "version": "3.11.9"
  },
  "papermill": {
   "default_parameters": {},
   "duration": null,
   "end_time": null,
   "environment_variables": {},
   "exception": null,
   "input_path": "notebooks/tmp.ipynb",
   "output_path": "notebooks/results/tmp-4.ipynb",
   "parameters": {},
   "start_time": "2024-08-28T09:33:09.704762",
   "version": "2.6.0"
  }
 },
 "nbformat": 4,
 "nbformat_minor": 5
}