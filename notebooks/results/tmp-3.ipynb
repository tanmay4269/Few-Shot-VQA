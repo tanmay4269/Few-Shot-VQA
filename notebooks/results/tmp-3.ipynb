{
 "cells": [
  {
   "cell_type": "code",
   "execution_count": 1,
   "id": "1ade4f2b",
   "metadata": {
    "execution": {
     "iopub.execute_input": "2024-08-27T19:22:36.340063Z",
     "iopub.status.busy": "2024-08-27T19:22:36.339757Z"
    },
    "papermill": {
     "duration": 961.69507,
     "end_time": "2024-08-27T19:38:38.032108",
     "exception": false,
     "start_time": "2024-08-27T19:22:36.337038",
     "status": "completed"
    },
    "tags": []
   },
   "outputs": [
    {
     "name": "stdout",
     "output_type": "stream",
     "text": [
      "weights_save_path: ./weights/raw/fnmfElZ7.pth\n"
     ]
    },
    {
     "name": "stdout",
     "output_type": "stream",
     "text": [
      "Labels: ['yes', 'no', '0', '1', '2', '3', 'red', 'yellow', 'blue', 'green', 'dog', 'cat']\n",
      "Number of Common Labels = 12 | n_classes = 12\n",
      "V2: \tTrain size = 3000             | Val size = 600 | Total = 3600\n",
      "Abs: \tTrain size = 1800             | Val size = 600 | Total = 2400\n",
      "--------------------\n"
     ]
    },
    {
     "name": "stdout",
     "output_type": "stream",
     "text": [
      "\t Iter [0/20]\t Loss: 1.334429\n"
     ]
    },
    {
     "name": "stdout",
     "output_type": "stream",
     "text": [
      "\t Iter [5/20]\t Loss: 1.295618\n"
     ]
    },
    {
     "name": "stdout",
     "output_type": "stream",
     "text": [
      "\t Iter [10/20]\t Loss: 1.178380\n"
     ]
    },
    {
     "name": "stdout",
     "output_type": "stream",
     "text": [
      "\t Iter [15/20]\t Loss: 0.893330\n"
     ]
    },
    {
     "name": "stdout",
     "output_type": "stream",
     "text": [
      "Epoch [1/30]\t                         Avg Train Loss: 1.157433\t                         Avg Eval Loss: 0.822940\t                         Avg Domain Accuracy: 0.52\t                         Avg Label Type Accuracy: 0.46\t                         Avg Eval Accuracy: 0.15\n"
     ]
    },
    {
     "name": "stdout",
     "output_type": "stream",
     "text": [
      "\t Iter [0/20]\t Loss: 0.829130\n"
     ]
    },
    {
     "name": "stdout",
     "output_type": "stream",
     "text": [
      "\t Iter [5/20]\t Loss: 0.750607\n"
     ]
    },
    {
     "name": "stdout",
     "output_type": "stream",
     "text": [
      "\t Iter [10/20]\t Loss: 0.716556\n"
     ]
    },
    {
     "name": "stdout",
     "output_type": "stream",
     "text": [
      "\t Iter [15/20]\t Loss: 0.674625\n"
     ]
    },
    {
     "name": "stdout",
     "output_type": "stream",
     "text": [
      "Epoch [2/30]\t                         Avg Train Loss: 0.715743\t                         Avg Eval Loss: 0.660766\t                         Avg Domain Accuracy: 0.52\t                         Avg Label Type Accuracy: 0.54\t                         Avg Eval Accuracy: 0.20\n"
     ]
    },
    {
     "name": "stdout",
     "output_type": "stream",
     "text": [
      "\t Iter [0/20]\t Loss: 0.667379\n"
     ]
    },
    {
     "name": "stdout",
     "output_type": "stream",
     "text": [
      "\t Iter [5/20]\t Loss: 0.646985\n"
     ]
    },
    {
     "name": "stdout",
     "output_type": "stream",
     "text": [
      "\t Iter [10/20]\t Loss: 0.640094\n"
     ]
    },
    {
     "name": "stdout",
     "output_type": "stream",
     "text": [
      "\t Iter [15/20]\t Loss: 0.643577\n"
     ]
    },
    {
     "name": "stdout",
     "output_type": "stream",
     "text": [
      "Epoch [3/30]\t                         Avg Train Loss: 0.653411\t                         Avg Eval Loss: 0.647054\t                         Avg Domain Accuracy: 0.49\t                         Avg Label Type Accuracy: 0.54\t                         Avg Eval Accuracy: 0.27\n"
     ]
    },
    {
     "name": "stdout",
     "output_type": "stream",
     "text": [
      "\t Iter [0/20]\t Loss: 0.656256\n"
     ]
    },
    {
     "name": "stdout",
     "output_type": "stream",
     "text": [
      "\t Iter [5/20]\t Loss: 0.637685\n"
     ]
    },
    {
     "name": "stdout",
     "output_type": "stream",
     "text": [
      "\t Iter [10/20]\t Loss: 0.631985\n"
     ]
    },
    {
     "name": "stdout",
     "output_type": "stream",
     "text": [
      "\t Iter [15/20]\t Loss: 0.629037\n"
     ]
    },
    {
     "name": "stdout",
     "output_type": "stream",
     "text": [
      "Epoch [4/30]\t                         Avg Train Loss: 0.637377\t                         Avg Eval Loss: 0.643971\t                         Avg Domain Accuracy: 0.51\t                         Avg Label Type Accuracy: 0.54\t                         Avg Eval Accuracy: 0.21\n"
     ]
    },
    {
     "name": "stdout",
     "output_type": "stream",
     "text": [
      "\t Iter [0/20]\t Loss: 0.628726\n"
     ]
    },
    {
     "name": "stdout",
     "output_type": "stream",
     "text": [
      "\t Iter [5/20]\t Loss: 0.624642\n"
     ]
    },
    {
     "name": "stdout",
     "output_type": "stream",
     "text": [
      "\t Iter [10/20]\t Loss: 0.619408\n"
     ]
    },
    {
     "name": "stdout",
     "output_type": "stream",
     "text": [
      "\t Iter [15/20]\t Loss: 0.616489\n"
     ]
    },
    {
     "name": "stdout",
     "output_type": "stream",
     "text": [
      "Epoch [5/30]\t                         Avg Train Loss: 0.627794\t                         Avg Eval Loss: 0.636727\t                         Avg Domain Accuracy: 0.51\t                         Avg Label Type Accuracy: 0.54\t                         Avg Eval Accuracy: 0.23\n"
     ]
    },
    {
     "name": "stdout",
     "output_type": "stream",
     "text": [
      "\t Iter [0/20]\t Loss: 0.603121\n"
     ]
    },
    {
     "name": "stdout",
     "output_type": "stream",
     "text": [
      "\t Iter [5/20]\t Loss: 0.609481\n"
     ]
    },
    {
     "name": "stdout",
     "output_type": "stream",
     "text": [
      "\t Iter [10/20]\t Loss: 0.609628\n"
     ]
    }
   ],
   "source": [
    "import os\n",
    "os.chdir('/workspace')\n",
    "from trainer import * \n",
    "\n",
    "cfg = {\n",
    "    \"name\": \"DANN\",\n",
    "    #\n",
    "    ### DataLoader ###\n",
    "    \"n_classes\": 12,\n",
    "    \"n_types\": 4,\n",
    "    #\n",
    "    \"v2_samples_per_answer\": 300,\n",
    "    \"abs_samples_per_answer\": 300,\n",
    "    #\n",
    "    \"v2_samples_per_answer_train\": 250,\n",
    "    \"abs_samples_per_answer_train\": 150,\n",
    "    #\n",
    "    \"v2_samples_per_answer_val\": 50,\n",
    "    \"abs_samples_per_answer_val\": 50,\n",
    "    \"source_domain\": \"v2\",\n",
    "    \n",
    "    ### VLModel ###\n",
    "    \"image_encoder\": \"facebook/dinov2-base\",\n",
    "    \"text_encoder\": \"bert-base-uncased\",\n",
    "    #\n",
    "    ## Embedder\n",
    "    \"num_attn_heads\": 8,\n",
    "    \"fusion_mode\": \"cat\",\n",
    "    \"num_stacked_attn\": 1,\n",
    "    \"criss_cross__drop_p\": 0.0,\n",
    "    \"post_concat__drop_p\": 0.0,\n",
    "    \"embed_attn__add_residual\": False,\n",
    "    \"embed_attn__drop_p\": 0.0,\n",
    "    #\n",
    "    ## Label Classifier\n",
    "    \"label_classifier__use_bn\": False,\n",
    "    \"label_classifier__drop_p\": 0.0,\n",
    "    \"label_classifier__repeat_layers\": [0, 0],\n",
    "    #\n",
    "    ## Domain Classifier\n",
    "    \"domain_classifier__use_bn\": True,\n",
    "    \"domain_classifier__drop_p\": 0.0,\n",
    "    \"domain_classifier__repeat_layers\": [0, 0],\n",
    "    #\n",
    "    ### Objective ###\n",
    "    \"domain_adaptation_method\": \"domain_adversarial\",  # 'naive', 'importance_sampling', 'domain_adversarial'\n",
    "    #\n",
    "    ### Trainer ###\n",
    "    \"relaxation_period\": 3,\n",
    "    \"epochs\": 30,\n",
    "    \"batch_size\": 150,\n",
    "    \"base_lr\": 0.0005,\n",
    "    \"weight_decay\": 1e-5,\n",
    "    #\n",
    "    ### Logging ###\n",
    "    # \"print_logs\": False,\n",
    "    \"print_logs\": True,\n",
    "    \"show_plot\": True,\n",
    "    \"weights_save_root\": \"./weights/raw\",\n",
    "}\n",
    "\n",
    "if True:\n",
    "    # v2\n",
    "    cfg[\"source_domain\"] = \"v2\"\n",
    "    trainer = DA_Trainer(cfg, vqa_v2, vqa_abs)\n",
    "    v2_ckpt_path = cfg[\"weights_save_path\"]\n",
    "\n",
    "    trainer.train(show_plot=True)\n",
    "\n",
    "    # abs\n",
    "    cfg[\"source_domain\"] = \"abs\"\n",
    "    trainer = DA_Trainer(cfg, vqa_v2, vqa_abs)\n",
    "    abs_ckpt_path = cfg[\"weights_save_path\"]\n",
    "\n",
    "    trainer.train(show_plot=False)"
   ]
  }
 ],
 "metadata": {
  "kernelspec": {
   "display_name": "base",
   "language": "python",
   "name": "python3"
  },
  "language_info": {
   "codemirror_mode": {
    "name": "ipython",
    "version": 3
   },
   "file_extension": ".py",
   "mimetype": "text/x-python",
   "name": "python",
   "nbconvert_exporter": "python",
   "pygments_lexer": "ipython3",
   "version": "3.11.9"
  },
  "papermill": {
   "default_parameters": {},
   "duration": 963.754613,
   "end_time": "2024-08-27T19:38:39.108954",
   "environment_variables": {},
   "exception": null,
   "input_path": "notebooks/tmp.ipynb",
   "output_path": "notebooks/results/tmp-3.ipynb",
   "parameters": {},
   "start_time": "2024-08-27T19:22:35.354341",
   "version": "2.6.0"
  }
 },
 "nbformat": 4,
 "nbformat_minor": 5
}