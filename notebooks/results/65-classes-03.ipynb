{
 "cells": [
  {
   "cell_type": "markdown",
   "id": "ba120d82",
   "metadata": {
    "papermill": {
     "duration": 0.001886,
     "end_time": "2024-09-06T07:24:37.536392",
     "exception": false,
     "start_time": "2024-09-06T07:24:37.534506",
     "status": "completed"
    },
    "tags": []
   },
   "source": [
    "## Domain Adversarial"
   ]
  },
  {
   "cell_type": "code",
   "execution_count": 1,
   "id": "54a920dc",
   "metadata": {
    "ExecuteTime": {
     "end_time": "2024-08-26T08:51:42.030483Z",
     "start_time": "2024-08-26T08:51:41.905212Z"
    },
    "execution": {
     "iopub.execute_input": "2024-09-06T07:24:37.540320Z",
     "iopub.status.busy": "2024-09-06T07:24:37.539836Z"
    },
    "papermill": {
     "duration": 59900.777942,
     "end_time": "2024-09-07T00:02:58.315701",
     "exception": false,
     "start_time": "2024-09-06T07:24:37.537759",
     "status": "completed"
    },
    "tags": []
   },
   "outputs": [
    {
     "name": "stderr",
     "output_type": "stream",
     "text": [
      "/usr/local/lib/python3.8/dist-packages/tqdm/auto.py:21: TqdmWarning: IProgress not found. Please update jupyter and ipywidgets. See https://ipywidgets.readthedocs.io/en/stable/user_install.html\n",
      "  from .autonotebook import tqdm as notebook_tqdm\n"
     ]
    },
    {
     "name": "stdout",
     "output_type": "stream",
     "text": [
      "weights_save_path: ./weights/raw/7MvYUgHr.pth\n"
     ]
    },
    {
     "name": "stdout",
     "output_type": "stream",
     "text": [
      "Labels: ['beige', 'black', 'blue', 'brown', 'gray', 'green', 'orange', 'pink', 'red', 'red and white', 'tan', 'white', 'yellow', 'bench', 'chair', 'couch', 'floor', 'table', 'tv', 'blanket', 'book', 'frisbee', 'skateboard', 'soccer', 'baby', 'bird', 'boy', 'cat', 'dog', 'fish', 'flowers', 'girl', 'man', 'mouse', 'tree', 'woman', 'eating', 'playing', 'sitting', 'sleeping', 'standing', 'walking', 'park', 'sidewalk', 'living room', 'on table', 'sky', 'apple', 'pizza', 'sandwich', 'wine', 'food', '0', '1', '2', '3', '4', '5', '6', 'no', 'no one', 'nothing', 'yes', 'left', 'right']\n",
      "Number of Common Labels = 65 | n_classes = 65\n",
      "V2: \tTrain size = 131351             | Val size = 1625 | Total = 132976\n"
     ]
    },
    {
     "name": "stdout",
     "output_type": "stream",
     "text": [
      "Abs: \tTrain size = 43837             | Val size = 1625 | Total = 45462\n",
      "--------------------\n"
     ]
    },
    {
     "name": "stdout",
     "output_type": "stream",
     "text": [
      "\t Iter [0/219]\t Loss: 7.585928\n"
     ]
    },
    {
     "name": "stdout",
     "output_type": "stream",
     "text": [
      "\t Iter [27/219]\t Loss: 2.893128\n"
     ]
    },
    {
     "name": "stdout",
     "output_type": "stream",
     "text": [
      "\t Iter [54/219]\t Loss: 2.572499\n"
     ]
    },
    {
     "name": "stdout",
     "output_type": "stream",
     "text": [
      "\t Iter [81/219]\t Loss: 2.469208\n"
     ]
    },
    {
     "name": "stdout",
     "output_type": "stream",
     "text": [
      "\t Iter [108/219]\t Loss: 2.410666\n"
     ]
    },
    {
     "name": "stdout",
     "output_type": "stream",
     "text": [
      "\t Iter [135/219]\t Loss: 2.416986\n"
     ]
    },
    {
     "name": "stdout",
     "output_type": "stream",
     "text": [
      "\t Iter [162/219]\t Loss: 2.390555\n"
     ]
    },
    {
     "name": "stdout",
     "output_type": "stream",
     "text": [
      "\t Iter [189/219]\t Loss: 2.355962\n"
     ]
    },
    {
     "name": "stdout",
     "output_type": "stream",
     "text": [
      "\t Iter [216/219]\t Loss: 2.257725\n"
     ]
    },
    {
     "name": "stdout",
     "output_type": "stream",
     "text": [
      "Epoch [1/30]\t                         Avg Train Loss: 2.728960\t                         Avg Eval Loss: 9.855210\t                         Avg Domain Accuracy: 0.50\t                         Avg Label Type Accuracy: 0.18\t                         Avg Total Eval Accuracy: 0.03\n"
     ]
    },
    {
     "name": "stdout",
     "output_type": "stream",
     "text": [
      "\t Iter [0/219]\t Loss: 2.317569\n"
     ]
    },
    {
     "name": "stdout",
     "output_type": "stream",
     "text": [
      "\t Iter [27/219]\t Loss: 2.166322\n"
     ]
    },
    {
     "name": "stdout",
     "output_type": "stream",
     "text": [
      "\t Iter [54/219]\t Loss: 2.087832\n"
     ]
    },
    {
     "name": "stdout",
     "output_type": "stream",
     "text": [
      "\t Iter [81/219]\t Loss: 2.090647\n"
     ]
    },
    {
     "name": "stdout",
     "output_type": "stream",
     "text": [
      "\t Iter [108/219]\t Loss: 2.076802\n"
     ]
    },
    {
     "name": "stdout",
     "output_type": "stream",
     "text": [
      "\t Iter [135/219]\t Loss: 2.060810\n"
     ]
    },
    {
     "name": "stdout",
     "output_type": "stream",
     "text": [
      "\t Iter [162/219]\t Loss: 1.961324\n"
     ]
    },
    {
     "name": "stdout",
     "output_type": "stream",
     "text": [
      "\t Iter [189/219]\t Loss: 2.031234\n"
     ]
    },
    {
     "name": "stdout",
     "output_type": "stream",
     "text": [
      "\t Iter [216/219]\t Loss: 1.914524\n"
     ]
    },
    {
     "name": "stdout",
     "output_type": "stream",
     "text": [
      "Epoch [2/30]\t                         Avg Train Loss: 2.073068\t                         Avg Eval Loss: 8.666316\t                         Avg Domain Accuracy: 0.50\t                         Avg Label Type Accuracy: 0.19\t                         Avg Total Eval Accuracy: 0.05\n"
     ]
    },
    {
     "name": "stdout",
     "output_type": "stream",
     "text": [
      "\t Iter [0/219]\t Loss: 1.983347\n"
     ]
    },
    {
     "name": "stdout",
     "output_type": "stream",
     "text": [
      "\t Iter [27/219]\t Loss: 1.907998\n"
     ]
    },
    {
     "name": "stdout",
     "output_type": "stream",
     "text": [
      "\t Iter [54/219]\t Loss: 1.857860\n"
     ]
    },
    {
     "name": "stdout",
     "output_type": "stream",
     "text": [
      "\t Iter [81/219]\t Loss: 1.962564\n"
     ]
    },
    {
     "name": "stdout",
     "output_type": "stream",
     "text": [
      "\t Iter [108/219]\t Loss: 1.948132\n"
     ]
    },
    {
     "name": "stdout",
     "output_type": "stream",
     "text": [
      "\t Iter [135/219]\t Loss: 1.861413\n"
     ]
    },
    {
     "name": "stdout",
     "output_type": "stream",
     "text": [
      "\t Iter [162/219]\t Loss: 1.899576\n"
     ]
    },
    {
     "name": "stdout",
     "output_type": "stream",
     "text": [
      "\t Iter [189/219]\t Loss: 1.809230\n"
     ]
    },
    {
     "name": "stdout",
     "output_type": "stream",
     "text": [
      "\t Iter [216/219]\t Loss: 1.876253\n"
     ]
    },
    {
     "name": "stdout",
     "output_type": "stream",
     "text": [
      "Epoch [3/30]\t                         Avg Train Loss: 1.908448\t                         Avg Eval Loss: 8.162378\t                         Avg Domain Accuracy: 0.51\t                         Avg Label Type Accuracy: 0.19\t                         Avg Total Eval Accuracy: 0.07\n"
     ]
    },
    {
     "name": "stdout",
     "output_type": "stream",
     "text": [
      "\t Iter [0/219]\t Loss: 1.866618\n"
     ]
    },
    {
     "name": "stdout",
     "output_type": "stream",
     "text": [
      "\t Iter [27/219]\t Loss: 1.766954\n"
     ]
    },
    {
     "name": "stdout",
     "output_type": "stream",
     "text": [
      "\t Iter [54/219]\t Loss: 1.806929\n"
     ]
    },
    {
     "name": "stdout",
     "output_type": "stream",
     "text": [
      "\t Iter [81/219]\t Loss: 1.842836\n"
     ]
    },
    {
     "name": "stdout",
     "output_type": "stream",
     "text": [
      "\t Iter [108/219]\t Loss: 1.831894\n"
     ]
    },
    {
     "name": "stdout",
     "output_type": "stream",
     "text": [
      "\t Iter [135/219]\t Loss: 1.783696\n"
     ]
    },
    {
     "name": "stdout",
     "output_type": "stream",
     "text": [
      "\t Iter [162/219]\t Loss: 1.788687\n"
     ]
    },
    {
     "name": "stdout",
     "output_type": "stream",
     "text": [
      "\t Iter [189/219]\t Loss: 1.771835\n"
     ]
    },
    {
     "name": "stdout",
     "output_type": "stream",
     "text": [
      "\t Iter [216/219]\t Loss: 1.785254\n"
     ]
    },
    {
     "name": "stdout",
     "output_type": "stream",
     "text": [
      "Epoch [4/30]\t                         Avg Train Loss: 1.819695\t                         Avg Eval Loss: 8.146919\t                         Avg Domain Accuracy: 0.49\t                         Avg Label Type Accuracy: 0.20\t                         Avg Total Eval Accuracy: 0.08\n"
     ]
    },
    {
     "name": "stdout",
     "output_type": "stream",
     "text": [
      "\t Iter [0/219]\t Loss: 1.774917\n"
     ]
    },
    {
     "name": "stdout",
     "output_type": "stream",
     "text": [
      "\t Iter [27/219]\t Loss: 1.783236\n"
     ]
    },
    {
     "name": "stdout",
     "output_type": "stream",
     "text": [
      "\t Iter [54/219]\t Loss: 1.774557\n"
     ]
    },
    {
     "name": "stdout",
     "output_type": "stream",
     "text": [
      "\t Iter [81/219]\t Loss: 1.747751\n"
     ]
    },
    {
     "name": "stdout",
     "output_type": "stream",
     "text": [
      "\t Iter [108/219]\t Loss: 1.790349\n"
     ]
    },
    {
     "name": "stdout",
     "output_type": "stream",
     "text": [
      "\t Iter [135/219]\t Loss: 1.761865\n"
     ]
    },
    {
     "name": "stdout",
     "output_type": "stream",
     "text": [
      "\t Iter [162/219]\t Loss: 1.780121\n"
     ]
    },
    {
     "name": "stdout",
     "output_type": "stream",
     "text": [
      "\t Iter [189/219]\t Loss: 1.800838\n"
     ]
    },
    {
     "name": "stdout",
     "output_type": "stream",
     "text": [
      "\t Iter [216/219]\t Loss: 1.716629\n"
     ]
    },
    {
     "name": "stdout",
     "output_type": "stream",
     "text": [
      "Epoch [5/30]\t                         Avg Train Loss: 1.758520\t                         Avg Eval Loss: 8.037061\t                         Avg Domain Accuracy: 0.50\t                         Avg Label Type Accuracy: 0.20\t                         Avg Total Eval Accuracy: 0.08\n"
     ]
    },
    {
     "name": "stdout",
     "output_type": "stream",
     "text": [
      "\t Iter [0/219]\t Loss: 1.687025\n"
     ]
    },
    {
     "name": "stdout",
     "output_type": "stream",
     "text": [
      "\t Iter [27/219]\t Loss: 1.774849\n"
     ]
    },
    {
     "name": "stdout",
     "output_type": "stream",
     "text": [
      "\t Iter [54/219]\t Loss: 1.746460\n"
     ]
    },
    {
     "name": "stdout",
     "output_type": "stream",
     "text": [
      "\t Iter [81/219]\t Loss: 1.706144\n"
     ]
    },
    {
     "name": "stdout",
     "output_type": "stream",
     "text": [
      "\t Iter [108/219]\t Loss: 1.697870\n"
     ]
    },
    {
     "name": "stdout",
     "output_type": "stream",
     "text": [
      "\t Iter [135/219]\t Loss: 1.700441\n"
     ]
    },
    {
     "name": "stdout",
     "output_type": "stream",
     "text": [
      "\t Iter [162/219]\t Loss: 1.726066\n"
     ]
    },
    {
     "name": "stdout",
     "output_type": "stream",
     "text": [
      "\t Iter [189/219]\t Loss: 1.703312\n"
     ]
    },
    {
     "name": "stdout",
     "output_type": "stream",
     "text": [
      "\t Iter [216/219]\t Loss: 1.719756\n"
     ]
    },
    {
     "name": "stdout",
     "output_type": "stream",
     "text": [
      "Epoch [6/30]\t                         Avg Train Loss: 1.716676\t                         Avg Eval Loss: 7.788775\t                         Avg Domain Accuracy: 0.49\t                         Avg Label Type Accuracy: 0.21\t                         Avg Total Eval Accuracy: 0.09\n"
     ]
    },
    {
     "name": "stdout",
     "output_type": "stream",
     "text": [
      "\t Iter [0/219]\t Loss: 1.686342\n"
     ]
    },
    {
     "name": "stdout",
     "output_type": "stream",
     "text": [
      "\t Iter [27/219]\t Loss: 1.645246\n"
     ]
    },
    {
     "name": "stdout",
     "output_type": "stream",
     "text": [
      "\t Iter [54/219]\t Loss: 1.690597\n"
     ]
    },
    {
     "name": "stdout",
     "output_type": "stream",
     "text": [
      "\t Iter [81/219]\t Loss: 1.689513\n"
     ]
    },
    {
     "name": "stdout",
     "output_type": "stream",
     "text": [
      "\t Iter [108/219]\t Loss: 1.690061\n"
     ]
    },
    {
     "name": "stdout",
     "output_type": "stream",
     "text": [
      "\t Iter [135/219]\t Loss: 1.665627\n"
     ]
    },
    {
     "name": "stdout",
     "output_type": "stream",
     "text": [
      "\t Iter [162/219]\t Loss: 1.689172\n"
     ]
    },
    {
     "name": "stdout",
     "output_type": "stream",
     "text": [
      "\t Iter [189/219]\t Loss: 1.694838\n"
     ]
    },
    {
     "name": "stdout",
     "output_type": "stream",
     "text": [
      "\t Iter [216/219]\t Loss: 1.643773\n"
     ]
    },
    {
     "name": "stdout",
     "output_type": "stream",
     "text": [
      "Epoch [7/30]\t                         Avg Train Loss: 1.678897\t                         Avg Eval Loss: 7.601058\t                         Avg Domain Accuracy: 0.49\t                         Avg Label Type Accuracy: 0.21\t                         Avg Total Eval Accuracy: 0.09\n"
     ]
    },
    {
     "name": "stdout",
     "output_type": "stream",
     "text": [
      "\t Iter [0/219]\t Loss: 1.626413\n"
     ]
    },
    {
     "name": "stdout",
     "output_type": "stream",
     "text": [
      "\t Iter [27/219]\t Loss: 1.630230\n"
     ]
    },
    {
     "name": "stdout",
     "output_type": "stream",
     "text": [
      "\t Iter [54/219]\t Loss: 1.687746\n"
     ]
    },
    {
     "name": "stdout",
     "output_type": "stream",
     "text": [
      "\t Iter [81/219]\t Loss: 1.605759\n"
     ]
    },
    {
     "name": "stdout",
     "output_type": "stream",
     "text": [
      "\t Iter [108/219]\t Loss: 1.651403\n"
     ]
    },
    {
     "name": "stdout",
     "output_type": "stream",
     "text": [
      "\t Iter [135/219]\t Loss: 1.676666\n"
     ]
    },
    {
     "name": "stdout",
     "output_type": "stream",
     "text": [
      "\t Iter [162/219]\t Loss: 1.568900\n"
     ]
    },
    {
     "name": "stdout",
     "output_type": "stream",
     "text": [
      "\t Iter [189/219]\t Loss: 1.675180\n"
     ]
    },
    {
     "name": "stdout",
     "output_type": "stream",
     "text": [
      "\t Iter [216/219]\t Loss: 1.676281\n"
     ]
    },
    {
     "name": "stdout",
     "output_type": "stream",
     "text": [
      "Epoch [8/30]\t                         Avg Train Loss: 1.646119\t                         Avg Eval Loss: 7.480989\t                         Avg Domain Accuracy: 0.51\t                         Avg Label Type Accuracy: 0.22\t                         Avg Total Eval Accuracy: 0.10\n"
     ]
    },
    {
     "name": "stdout",
     "output_type": "stream",
     "text": [
      "\t Iter [0/219]\t Loss: 1.619678\n"
     ]
    },
    {
     "name": "stdout",
     "output_type": "stream",
     "text": [
      "\t Iter [27/219]\t Loss: 1.569180\n"
     ]
    },
    {
     "name": "stdout",
     "output_type": "stream",
     "text": [
      "\t Iter [54/219]\t Loss: 1.631094\n"
     ]
    },
    {
     "name": "stdout",
     "output_type": "stream",
     "text": [
      "\t Iter [81/219]\t Loss: 1.624535\n"
     ]
    },
    {
     "name": "stdout",
     "output_type": "stream",
     "text": [
      "\t Iter [108/219]\t Loss: 1.602836\n"
     ]
    },
    {
     "name": "stdout",
     "output_type": "stream",
     "text": [
      "\t Iter [135/219]\t Loss: 1.616006\n"
     ]
    },
    {
     "name": "stdout",
     "output_type": "stream",
     "text": [
      "\t Iter [162/219]\t Loss: 1.571558\n"
     ]
    },
    {
     "name": "stdout",
     "output_type": "stream",
     "text": [
      "\t Iter [189/219]\t Loss: 1.590032\n"
     ]
    },
    {
     "name": "stdout",
     "output_type": "stream",
     "text": [
      "\t Iter [216/219]\t Loss: 1.582121\n"
     ]
    },
    {
     "name": "stdout",
     "output_type": "stream",
     "text": [
      "Epoch [9/30]\t                         Avg Train Loss: 1.622478\t                         Avg Eval Loss: 7.383528\t                         Avg Domain Accuracy: 0.50\t                         Avg Label Type Accuracy: 0.22\t                         Avg Total Eval Accuracy: 0.11\n"
     ]
    },
    {
     "name": "stdout",
     "output_type": "stream",
     "text": [
      "\t Iter [0/219]\t Loss: 1.588349\n"
     ]
    },
    {
     "name": "stdout",
     "output_type": "stream",
     "text": [
      "\t Iter [27/219]\t Loss: 1.580642\n"
     ]
    },
    {
     "name": "stdout",
     "output_type": "stream",
     "text": [
      "\t Iter [54/219]\t Loss: 1.555127\n"
     ]
    },
    {
     "name": "stdout",
     "output_type": "stream",
     "text": [
      "\t Iter [81/219]\t Loss: 1.620598\n"
     ]
    },
    {
     "name": "stdout",
     "output_type": "stream",
     "text": [
      "\t Iter [108/219]\t Loss: 1.601896\n"
     ]
    },
    {
     "name": "stdout",
     "output_type": "stream",
     "text": [
      "\t Iter [135/219]\t Loss: 1.646794\n"
     ]
    },
    {
     "name": "stdout",
     "output_type": "stream",
     "text": [
      "\t Iter [162/219]\t Loss: 1.626238\n"
     ]
    },
    {
     "name": "stdout",
     "output_type": "stream",
     "text": [
      "\t Iter [189/219]\t Loss: 1.605333\n"
     ]
    },
    {
     "name": "stdout",
     "output_type": "stream",
     "text": [
      "\t Iter [216/219]\t Loss: 1.626292\n"
     ]
    },
    {
     "name": "stdout",
     "output_type": "stream",
     "text": [
      "Epoch [10/30]\t                         Avg Train Loss: 1.597924\t                         Avg Eval Loss: 7.332188\t                         Avg Domain Accuracy: 0.51\t                         Avg Label Type Accuracy: 0.22\t                         Avg Total Eval Accuracy: 0.10\n"
     ]
    },
    {
     "name": "stdout",
     "output_type": "stream",
     "text": [
      "\t Iter [0/219]\t Loss: 1.611539\n"
     ]
    },
    {
     "name": "stdout",
     "output_type": "stream",
     "text": [
      "\t Iter [27/219]\t Loss: 1.610020\n"
     ]
    },
    {
     "name": "stdout",
     "output_type": "stream",
     "text": [
      "\t Iter [54/219]\t Loss: 1.560849\n"
     ]
    },
    {
     "name": "stdout",
     "output_type": "stream",
     "text": [
      "\t Iter [81/219]\t Loss: 1.599446\n"
     ]
    },
    {
     "name": "stdout",
     "output_type": "stream",
     "text": [
      "\t Iter [108/219]\t Loss: 1.623560\n"
     ]
    },
    {
     "name": "stdout",
     "output_type": "stream",
     "text": [
      "\t Iter [135/219]\t Loss: 1.561688\n"
     ]
    },
    {
     "name": "stdout",
     "output_type": "stream",
     "text": [
      "\t Iter [162/219]\t Loss: 1.575401\n"
     ]
    },
    {
     "name": "stdout",
     "output_type": "stream",
     "text": [
      "\t Iter [189/219]\t Loss: 1.550672\n"
     ]
    },
    {
     "name": "stdout",
     "output_type": "stream",
     "text": [
      "\t Iter [216/219]\t Loss: 1.629548\n"
     ]
    },
    {
     "data": {
      "image/png": "[encoded data removed]",
      "text/plain": [
       "<Figure size 1200x600 with 2 Axes>"
      ]
     },
     "metadata": {},
     "output_type": "display_data"
    },
    {
     "name": "stdout",
     "output_type": "stream",
     "text": [
      "Epoch [11/30]\t                         Avg Train Loss: 1.577372\t                         Avg Eval Loss: 7.248456\t                         Avg Domain Accuracy: 0.49\t                         Avg Label Type Accuracy: 0.21\t                         Avg Total Eval Accuracy: 0.11\n"
     ]
    },
    {
     "name": "stdout",
     "output_type": "stream",
     "text": [
      "\t Iter [0/219]\t Loss: 1.553130\n"
     ]
    },
    {
     "name": "stdout",
     "output_type": "stream",
     "text": [
      "\t Iter [27/219]\t Loss: 1.537604\n"
     ]
    },
    {
     "name": "stdout",
     "output_type": "stream",
     "text": [
      "\t Iter [54/219]\t Loss: 1.506411\n"
     ]
    },
    {
     "name": "stdout",
     "output_type": "stream",
     "text": [
      "\t Iter [81/219]\t Loss: 1.577692\n"
     ]
    },
    {
     "name": "stdout",
     "output_type": "stream",
     "text": [
      "\t Iter [108/219]\t Loss: 1.558370\n"
     ]
    },
    {
     "name": "stdout",
     "output_type": "stream",
     "text": [
      "\t Iter [135/219]\t Loss: 1.533416\n"
     ]
    },
    {
     "name": "stdout",
     "output_type": "stream",
     "text": [
      "\t Iter [162/219]\t Loss: 1.561322\n"
     ]
    },
    {
     "name": "stdout",
     "output_type": "stream",
     "text": [
      "\t Iter [189/219]\t Loss: 1.546508\n"
     ]
    },
    {
     "name": "stdout",
     "output_type": "stream",
     "text": [
      "\t Iter [216/219]\t Loss: 1.572416\n"
     ]
    },
    {
     "name": "stdout",
     "output_type": "stream",
     "text": [
      "Epoch [12/30]\t                         Avg Train Loss: 1.562246\t                         Avg Eval Loss: 7.253882\t                         Avg Domain Accuracy: 0.50\t                         Avg Label Type Accuracy: 0.21\t                         Avg Total Eval Accuracy: 0.10\n"
     ]
    },
    {
     "name": "stdout",
     "output_type": "stream",
     "text": [
      "\t Iter [0/219]\t Loss: 1.548707\n"
     ]
    },
    {
     "name": "stdout",
     "output_type": "stream",
     "text": [
      "\t Iter [27/219]\t Loss: 1.503432\n"
     ]
    },
    {
     "name": "stdout",
     "output_type": "stream",
     "text": [
      "\t Iter [54/219]\t Loss: 1.498537\n"
     ]
    },
    {
     "name": "stdout",
     "output_type": "stream",
     "text": [
      "\t Iter [81/219]\t Loss: 1.572441\n"
     ]
    },
    {
     "name": "stdout",
     "output_type": "stream",
     "text": [
      "\t Iter [108/219]\t Loss: 1.547943\n"
     ]
    },
    {
     "name": "stdout",
     "output_type": "stream",
     "text": [
      "\t Iter [135/219]\t Loss: 1.537407\n"
     ]
    },
    {
     "name": "stdout",
     "output_type": "stream",
     "text": [
      "\t Iter [162/219]\t Loss: 1.574756\n"
     ]
    },
    {
     "name": "stdout",
     "output_type": "stream",
     "text": [
      "\t Iter [189/219]\t Loss: 1.522222\n"
     ]
    },
    {
     "name": "stdout",
     "output_type": "stream",
     "text": [
      "\t Iter [216/219]\t Loss: 1.521490\n"
     ]
    },
    {
     "name": "stdout",
     "output_type": "stream",
     "text": [
      "Epoch [13/30]\t                         Avg Train Loss: 1.541117\t                         Avg Eval Loss: 7.003415\t                         Avg Domain Accuracy: 0.50\t                         Avg Label Type Accuracy: 0.23\t                         Avg Total Eval Accuracy: 0.12\n"
     ]
    },
    {
     "name": "stdout",
     "output_type": "stream",
     "text": [
      "\t Iter [0/219]\t Loss: 1.507942\n"
     ]
    },
    {
     "name": "stdout",
     "output_type": "stream",
     "text": [
      "\t Iter [27/219]\t Loss: 1.516835\n"
     ]
    },
    {
     "name": "stdout",
     "output_type": "stream",
     "text": [
      "\t Iter [54/219]\t Loss: 1.550967\n"
     ]
    },
    {
     "name": "stdout",
     "output_type": "stream",
     "text": [
      "\t Iter [81/219]\t Loss: 1.511543\n"
     ]
    },
    {
     "name": "stdout",
     "output_type": "stream",
     "text": [
      "\t Iter [108/219]\t Loss: 1.523618\n"
     ]
    },
    {
     "name": "stdout",
     "output_type": "stream",
     "text": [
      "\t Iter [135/219]\t Loss: 1.526968\n"
     ]
    },
    {
     "name": "stdout",
     "output_type": "stream",
     "text": [
      "\t Iter [162/219]\t Loss: 1.529506\n"
     ]
    },
    {
     "name": "stdout",
     "output_type": "stream",
     "text": [
      "\t Iter [189/219]\t Loss: 1.505339\n"
     ]
    },
    {
     "name": "stdout",
     "output_type": "stream",
     "text": [
      "\t Iter [216/219]\t Loss: 1.570749\n"
     ]
    },
    {
     "name": "stdout",
     "output_type": "stream",
     "text": [
      "Epoch [14/30]\t                         Avg Train Loss: 1.525620\t                         Avg Eval Loss: 7.205533\t                         Avg Domain Accuracy: 0.50\t                         Avg Label Type Accuracy: 0.22\t                         Avg Total Eval Accuracy: 0.10\n"
     ]
    },
    {
     "name": "stdout",
     "output_type": "stream",
     "text": [
      "\t Iter [0/219]\t Loss: 1.487484\n"
     ]
    },
    {
     "name": "stdout",
     "output_type": "stream",
     "text": [
      "\t Iter [27/219]\t Loss: 1.493860\n"
     ]
    },
    {
     "name": "stdout",
     "output_type": "stream",
     "text": [
      "\t Iter [54/219]\t Loss: 1.525457\n"
     ]
    },
    {
     "name": "stdout",
     "output_type": "stream",
     "text": [
      "\t Iter [81/219]\t Loss: 1.499865\n"
     ]
    },
    {
     "name": "stdout",
     "output_type": "stream",
     "text": [
      "\t Iter [108/219]\t Loss: 1.598043\n"
     ]
    },
    {
     "name": "stdout",
     "output_type": "stream",
     "text": [
      "\t Iter [135/219]\t Loss: 1.483484\n"
     ]
    },
    {
     "name": "stdout",
     "output_type": "stream",
     "text": [
      "\t Iter [162/219]\t Loss: 1.515782\n"
     ]
    },
    {
     "name": "stdout",
     "output_type": "stream",
     "text": [
      "\t Iter [189/219]\t Loss: 1.524789\n"
     ]
    }
   ],
   "source": [
    "import os\n",
    "os.chdir('/workspace')\n",
    "from trainer import * \n",
    "\n",
    "\n",
    "label_type_50 = {\n",
    "    'colors':        ['beige', 'black', 'blue', 'brown', 'gray', 'green', 'orange', 'pink', 'red', 'red and white', 'tan', 'white', 'yellow'],\n",
    "    'objects':       ['bench', 'chair', 'couch', 'floor', 'table', 'tv', 'blanket', 'book', 'frisbee', 'skateboard', 'soccer'],\n",
    "    'living-things': ['baby', 'bird', 'boy', 'cat', 'dog', 'fish', 'flowers', 'girl', 'man', 'mouse', 'tree', 'woman'],\n",
    "    'actions':       ['eating', 'playing', 'sitting', 'sleeping', 'standing', 'walking'],\n",
    "    'locations':     ['park', 'sidewalk', 'living room', 'on table', 'sky'],\n",
    "    'foods':         ['apple', 'pizza', 'sandwich', 'wine', 'food'],\n",
    "    'numbers':       ['0', '1', '2', '3', '4', '5', '6'],\n",
    "    'responses':     ['no', 'no one', 'nothing', 'yes'],\n",
    "    'directions':    ['left', 'right'],\n",
    "}\n",
    "\n",
    "label_type_20 = {\n",
    "    'colors':        ['beige', 'black', 'blue', 'brown', 'gray', 'green', 'orange', 'pink', 'red', 'red and white', 'tan', 'white', 'yellow'],\n",
    "    'objects':       ['bench', 'chair', 'couch', 'floor', 'table', 'tv', 'blanket', 'book', 'frisbee', 'skateboard', 'soccer', 'bike', 'car', 'bottle', 'cup', 'plate'],\n",
    "    'living-things': ['baby', 'bird', 'boy', 'cat', 'dog', 'fish', 'flowers', 'girl', 'man', 'mouse', 'tree', 'woman', 'duck', 'eagle', 'mushrooms'],\n",
    "    'actions':       ['eating', 'playing', 'sitting', 'sleeping', 'standing', 'walking', 'running', 'jumping', 'drinking'],\n",
    "    'locations':     ['park', 'sidewalk', 'living room', 'on table', 'sky', 'on floor', 'on grass'],\n",
    "    'foods':         ['apple', 'pizza', 'sandwich', 'wine', 'food', 'cheese', 'hot dog', 'bread', 'steak'],\n",
    "    'numbers':       ['0', '1', '2', '3', '4', '5', '6', '7', '8', '9', '10', '11'],\n",
    "    'responses':     ['no', 'no one', 'nothing', 'yes'],\n",
    "    'directions':    ['left', 'right'],\n",
    "    'times':         ['morning', 'afternoon', 'evening', 'night'],\n",
    "    'weather':       ['sunny', 'clouds', 'sunset', 'rainy'],\n",
    "    'patterns':      ['checkered', 'floral'],\n",
    "}\n",
    "\n",
    "\n",
    "samples_per_answer = 50\n",
    "label_type_to_labels = label_type_50\n",
    "n_labels = 0\n",
    "for k in label_type_to_labels:\n",
    "    n_labels += len(label_type_to_labels[k])\n",
    "\n",
    "\n",
    "cfg = {\n",
    "    \"name\": \"DANN\",\n",
    "    \n",
    "    ### DataLoader ###\n",
    "    \"n_classes\": n_labels,\n",
    "    \"n_types\": len(label_type_to_labels),\n",
    "    \n",
    "    'label_type_to_labels': label_type_to_labels,\n",
    "    \n",
    "    \"v2_samples_per_answer\": samples_per_answer,\n",
    "    \"abs_samples_per_answer\": samples_per_answer,\n",
    "    \n",
    "    \"v2_samples_per_answer_train\": samples_per_answer // 2,\n",
    "    \"abs_samples_per_answer_train\": samples_per_answer // 2,\n",
    "    \n",
    "    \"v2_samples_per_answer_val\": samples_per_answer // 2,\n",
    "    \"abs_samples_per_answer_val\": samples_per_answer // 2,\n",
    "    \n",
    "    \"source_domain\": \"v2\",\n",
    "    \n",
    "    ## Allow Min Samples\n",
    "    \"min_samples_mode\": True,  # will use atleast samples_per_answer per label\n",
    "    \n",
    "    ## Augmentations ##\n",
    "    'mask_patches': True,\n",
    "    \n",
    "    ### VLModel ###\n",
    "    \"image_encoder\": \"facebook/dinov2-base\",\n",
    "    \"text_encoder\": \"bert-base-uncased\",\n",
    "    \n",
    "    ## Embedder\n",
    "    \"num_attn_heads\": 8,\n",
    "    \"fusion_mode\": \"cat\",\n",
    "    \"num_stacked_attn\": 1,\n",
    "    \"criss_cross__drop_p\": 0.0,\n",
    "    \"post_concat__drop_p\": 0.0,\n",
    "    \"embed_attn__add_residual\": False,\n",
    "    \"embed_attn__drop_p\": 0.5,\n",
    "    \n",
    "    ## Label Type\n",
    "    'use_label_type_classifier': True,\n",
    "    # 'use_label_type_classifier': False,\n",
    "    'append_label_type_logits': False,\n",
    "    'give_location_of_labels_in_label_type': True,\n",
    "    \n",
    "    ## Label Classifier\n",
    "    \"label_classifier__use_bn\": True,\n",
    "    \"label_classifier__drop_p\": 0.2,\n",
    "    \"label_classifier__repeat_layers\": [0, 0],\n",
    "    \n",
    "    ## Domain Classifier\n",
    "    \"domain_classifier__use_bn\": True,\n",
    "    \"domain_classifier__drop_p\": 0.5,\n",
    "    \"domain_classifier__repeat_layers\": [2, 2],\n",
    "    \n",
    "    ### Objective ###\n",
    "    \"domain_adaptation_method\": \"domain_adversarial\",  # 'naive', 'importance_sampling', 'domain_adversarial'\n",
    "    \"train_modes\": ['DANN', 'label_type', 'label'],  # ['DANN', 'label_type', 'label']\n",
    "    \n",
    "    ### Trainer ###\n",
    "    \"relaxation_period\": 2,\n",
    "    \"epochs\": 30,\n",
    "    \"batch_size\": 600,  # 900\n",
    "    \"base_lr\": 1e-4,\n",
    "    \"weight_decay\": 5e-4,\n",
    "    \n",
    "    ### Logging ###\n",
    "    # \"print_logs\": False,\n",
    "    \"print_logs\": True,\n",
    "    \"show_plot\": True,\n",
    "    \"weights_save_root\": \"./weights/raw\",\n",
    "}\n",
    "\n",
    "if True:\n",
    "    # v2\n",
    "    cfg[\"source_domain\"] = \"v2\"\n",
    "    trainer = DATrainer(cfg, vqa_v2, vqa_abs)\n",
    "    v2_ckpt_path = cfg[\"weights_save_path\"]\n",
    "\n",
    "    trainer.train(show_plot=True)\n",
    "\n",
    "    # abs\n",
    "    # cfg[\"source_domain\"] = \"abs\"\n",
    "    # trainer = DATrainer(cfg, vqa_v2, vqa_abs)\n",
    "    # abs_ckpt_path = cfg[\"weights_save_path\"]\n",
    "\n",
    "    # trainer.train(show_plot=True)"
   ]
  },
  {
   "cell_type": "code",
   "execution_count": null,
   "id": "78314a8f",
   "metadata": {
    "papermill": {
     "duration": null,
     "end_time": null,
     "exception": null,
     "start_time": null,
     "status": "completed"
    },
    "tags": []
   },
   "outputs": [],
   "source": [
    "# v2_ckpt_path = './weights/raw/name=DANN__n_classes=10__v2_samples_per_answer=300__abs_samples_per_answer=150__source_domain=v2__base_lr=0.001__domain_adaptation_method=domain_adversarial__.pth'\n",
    "\n",
    "# abs_ckpt_path = './weights/raw/name=DANN__n_classes=10__v2_samples_per_answer=300__abs_samples_per_answer=150__source_domain=abs__base_lr=0.001__domain_adaptation_method=domain_adversarial__.pth'\n",
    "\n",
    "# v2_ckpt_path = 'weights/raw/pKqoGdSZ.pth'\n",
    "# abs_ckpt_path = 'weights/raw/pKqoGdSZ.pth'"
   ]
  },
  {
   "cell_type": "code",
   "execution_count": null,
   "id": "43450417",
   "metadata": {
    "papermill": {
     "duration": null,
     "end_time": null,
     "exception": null,
     "start_time": null,
     "status": "completed"
    },
    "tags": []
   },
   "outputs": [],
   "source": [
    "cfg['v2_ckpt'] = v2_ckpt_path\n",
    "# cfg['abs_ckpt'] = abs_ckpt_path\n",
    "cfg['abs_ckpt'] = v2_ckpt_path"
   ]
  },
  {
   "cell_type": "markdown",
   "id": "a5de0c60",
   "metadata": {
    "papermill": {
     "duration": null,
     "end_time": null,
     "exception": null,
     "start_time": null,
     "status": "completed"
    },
    "tags": []
   },
   "source": [
    "## Evaluating"
   ]
  },
  {
   "cell_type": "code",
   "execution_count": null,
   "id": "382ce06a",
   "metadata": {
    "papermill": {
     "duration": null,
     "end_time": null,
     "exception": null,
     "start_time": null,
     "status": "completed"
    },
    "tags": []
   },
   "outputs": [],
   "source": [
    "import random\n",
    "from torch.utils.data import Subset\n",
    "\n",
    "(v2_train_data, v2_val_data), (abs_train_data, abs_val_data) = data_processing_v2(cfg, vqa_v2, vqa_abs)\n",
    "model = DANN_VLModel(cfg, return_embeddings=True).cuda()\n",
    "\n",
    "def eval_domain_adaptation(eval_dataset, model_ckpt, evaluate_train=False):\n",
    "    if eval_dataset == 'v2':\n",
    "        train_data, val_data = v2_train_data, v2_val_data\n",
    "    elif eval_dataset == 'abs':\n",
    "        train_data, val_data = abs_train_data, abs_val_data\n",
    "\n",
    "    train_dataset = VQADataset(cfg, train_data)\n",
    "    val_dataset = VQADataset(cfg, val_data)\n",
    "    \n",
    "    val_size = len(val_dataset)\n",
    "    train_indices = random.sample(range(len(train_dataset)), val_size)\n",
    "    train_dataset = Subset(train_dataset, train_indices)\n",
    "\n",
    "    train_dataloader = DataLoader(train_dataset, batch_size=cfg['batch_size'], shuffle=True)\n",
    "    val_dataloader = DataLoader(val_dataset, batch_size=cfg['batch_size'], shuffle=True)\n",
    "\n",
    "    if model_ckpt == 'v2':\n",
    "        ckpt = cfg['v2_ckpt']\n",
    "    elif model_ckpt == 'abs':\n",
    "        ckpt = cfg['abs_ckpt']\n",
    "\n",
    "    state_dict = torch.load(ckpt, weights_only=True)\n",
    "    model.load_state_dict(state_dict, strict=False)\n",
    "\n",
    "    dataloader = val_dataloader if not evaluate_train else train_dataloader\n",
    "\n",
    "    model.eval()\n",
    "    correct, total = 0, 0\n",
    "    embeddings = None\n",
    "\n",
    "    with torch.no_grad():\n",
    "        for i_tokens, q_tokens, label, label_type in dataloader:\n",
    "            i_tokens = {key: value.cuda() for key, value in i_tokens.items()}\n",
    "            q_tokens = {key: value.cuda() for key, value in q_tokens.items()}\n",
    "            label, label_type = label.cuda(), label_type.cuda()\n",
    "            \n",
    "            label_logits, domain_logits, label_type_logits, embedding = model(i_tokens, q_tokens)\n",
    "            embeddings = np.concatenate((embeddings, embedding), axis=0) if embeddings is not None else embedding\n",
    "\n",
    "            # Compute accuracy\n",
    "            _, predicted_indices = torch.max(label_logits, dim=1)\n",
    "            label_indices = torch.argmax(label, dim=1)\n",
    "            is_correct = (predicted_indices == label_indices)\n",
    "\n",
    "            total += label.shape[0]\n",
    "            correct += is_correct.sum().item()\n",
    "\n",
    "    accuracy = (correct / total)\n",
    "\n",
    "    source = 'v2 ' if model_ckpt == 'v2' else 'abs'\n",
    "    target = 'v2 ' if eval_dataset == 'v2' else 'abs'\n",
    "    split = 'train set' if evaluate_train else 'val set  '\n",
    "    print(f'{source} -> {target} | {split} \\t accuracy = {accuracy*100:.2f}%')\n",
    "    \n",
    "    return embeddings"
   ]
  },
  {
   "cell_type": "code",
   "execution_count": null,
   "id": "294c928a",
   "metadata": {
    "papermill": {
     "duration": null,
     "end_time": null,
     "exception": null,
     "start_time": null,
     "status": "completed"
    },
    "tags": []
   },
   "outputs": [],
   "source": [
    "# v2 -> v2\n",
    "v2_val_embeddings = eval_domain_adaptation(model_ckpt='v2', eval_dataset='v2', evaluate_train=False)\n",
    "v2_train_embeddings = eval_domain_adaptation(model_ckpt='v2', eval_dataset='v2', evaluate_train=True)\n",
    "\n",
    "# abs -> abs\n",
    "abs_val_embeddings = eval_domain_adaptation(model_ckpt='abs', eval_dataset='abs', evaluate_train=False)\n",
    "abs_train_embeddings = eval_domain_adaptation(model_ckpt='abs', eval_dataset='abs', evaluate_train=True)"
   ]
  },
  {
   "cell_type": "code",
   "execution_count": null,
   "id": "a886c26c",
   "metadata": {
    "papermill": {
     "duration": null,
     "end_time": null,
     "exception": null,
     "start_time": null,
     "status": "completed"
    },
    "tags": []
   },
   "outputs": [],
   "source": [
    "# v2 -> abs\n",
    "v2_abs_val_embeddings = eval_domain_adaptation(model_ckpt='v2', eval_dataset='abs', evaluate_train=False)\n",
    "v2_abs_train_embeddings = eval_domain_adaptation(model_ckpt='v2', eval_dataset='abs', evaluate_train=True)\n",
    "\n",
    "# abs -> v2\n",
    "abs_v2_val_embeddings = eval_domain_adaptation(model_ckpt='abs', eval_dataset='v2', evaluate_train=False)\n",
    "abs_v2_train_embeddings = eval_domain_adaptation(model_ckpt='abs', eval_dataset='v2', evaluate_train=True)"
   ]
  },
  {
   "cell_type": "markdown",
   "id": "9e320a13",
   "metadata": {
    "papermill": {
     "duration": null,
     "end_time": null,
     "exception": null,
     "start_time": null,
     "status": "completed"
    },
    "tags": []
   },
   "source": [
    "## Visualizing embeddings"
   ]
  },
  {
   "cell_type": "code",
   "execution_count": null,
   "id": "3fd7aae3",
   "metadata": {
    "papermill": {
     "duration": null,
     "end_time": null,
     "exception": null,
     "start_time": null,
     "status": "completed"
    },
    "tags": []
   },
   "outputs": [],
   "source": [
    "from sklearn.manifold import TSNE\n",
    "import matplotlib.patches as mpatches\n",
    "\n",
    "def plot_tsne(embeddings, plot_labels, perplexities, title=''):\n",
    "    n_plots = len(perplexities)\n",
    "    fig, axes = plt.subplots(1, n_plots, figsize=(6 * n_plots, 6))\n",
    "    \n",
    "    for idx, perplexity in enumerate(perplexities):\n",
    "        tsne = TSNE(n_components=2, perplexity=perplexity, random_state=42)\n",
    "        tsne_embeddings = tsne.fit_transform(embeddings)\n",
    "        \n",
    "        colors = {'vv': 'blue', 'aa': 'red', 'va': 'orange', 'av': 'violet'}\n",
    "        ax = axes[idx]\n",
    "        for i, plot_label in enumerate(plot_labels):\n",
    "                \n",
    "            ax.scatter(tsne_embeddings[i, 0], tsne_embeddings[i, 1], color=colors[plot_label])\n",
    "            ax.text(tsne_embeddings[i, 0] + 0.1, tsne_embeddings[i, 1], '', fontsize=9)\n",
    "        \n",
    "        ax.set_title(f'Perplexity = {perplexity}')\n",
    "    \n",
    "    custom_legend = [mpatches.Patch(color=colors[label], label=label) for label in set(plot_labels)]\n",
    "    fig.legend(handles=custom_legend)\n",
    "    fig.suptitle(title, fontsize=16)\n",
    "\n",
    "    plt.tight_layout()\n",
    "    plt.show()"
   ]
  },
  {
   "cell_type": "code",
   "execution_count": null,
   "id": "821dc6f1",
   "metadata": {
    "papermill": {
     "duration": null,
     "end_time": null,
     "exception": null,
     "start_time": null,
     "status": "completed"
    },
    "tags": []
   },
   "outputs": [],
   "source": [
    "n_v2 = len(v2_val_embeddings)\n",
    "n_abs = len(abs_val_embeddings)\n",
    "\n",
    "# v2 -> v2\n",
    "plot_tsne(v2_val_embeddings, ['vv'] * n_v2, perplexities=[2,4,8,16,32], title='v2->v2 (val set)')\n",
    "plot_tsne(v2_train_embeddings, ['vv'] * n_v2, perplexities=[2,4,8,16,32], title='v2->v2 (train set)')\n",
    "\n",
    "# abs -> abs\n",
    "plot_tsne(abs_val_embeddings, ['aa'] * n_abs, perplexities=[2,4,8,16,32], title='abs->abs (val set)')\n",
    "plot_tsne(abs_train_embeddings, ['aa'] * n_abs, perplexities=[2,4,8,16,32], title='abs->abs (train set)')\n",
    "\n",
    "# combined plot\n",
    "val_embeddings = np.concatenate((v2_val_embeddings, abs_val_embeddings), axis=0)\n",
    "plot_tsne(val_embeddings, ['vv'] * n_v2 + ['aa'] * n_abs, perplexities=[2,4,8,16,32], title='Same Domain (val set)')\n",
    "\n",
    "train_embeddings = np.concatenate((v2_train_embeddings, abs_train_embeddings), axis=0)\n",
    "plot_tsne(train_embeddings, ['vv'] * n_v2 + ['aa'] * n_abs, perplexities=[2,4,8,16,32], title='Same Domain (train set)')"
   ]
  },
  {
   "cell_type": "code",
   "execution_count": null,
   "id": "c767194e",
   "metadata": {
    "papermill": {
     "duration": null,
     "end_time": null,
     "exception": null,
     "start_time": null,
     "status": "completed"
    },
    "tags": []
   },
   "outputs": [],
   "source": [
    "# v2 -> abs\n",
    "plot_tsne(v2_abs_val_embeddings, ['va'] * n_abs, perplexities=[2,4,8,16,32], title='v2->abs (val set)')\n",
    "plot_tsne(v2_abs_train_embeddings, ['va'] * n_abs, perplexities=[2,4,8,16,32], title='v2->abs (train set)')\n",
    "\n",
    "# abs -> v2\n",
    "plot_tsne(abs_v2_val_embeddings, ['av'] * n_v2, perplexities=[2,4,8,16,32], title='abs->v2 (val set)')\n",
    "plot_tsne(abs_v2_train_embeddings, ['av'] * n_v2, perplexities=[2,4,8,16,32], title='abs->v2 (train set)')\n",
    "\n",
    "# combined plot\n",
    "val_embeddings = np.concatenate((v2_abs_val_embeddings, abs_v2_val_embeddings), axis=0)\n",
    "plot_tsne(val_embeddings, ['va'] * n_abs + ['av'] * n_v2, perplexities=[2,4,8,16,32], title='Cross Domain (val set)')\n",
    "\n",
    "train_embeddings = np.concatenate((v2_abs_train_embeddings, abs_v2_train_embeddings), axis=0)\n",
    "plot_tsne(train_embeddings, ['va'] * n_abs + ['av'] * n_v2, perplexities=[2,4,8,16,32], title='Cross Domain (train set)')"
   ]
  }
 ],
 "metadata": {
  "kernelspec": {
   "display_name": "Python 3",
   "language": "python",
   "name": "python3"
  },
  "language_info": {
   "codemirror_mode": {
    "name": "ipython",
    "version": 3
   },
   "file_extension": ".py",
   "mimetype": "text/x-python",
   "name": "python",
   "nbconvert_exporter": "python",
   "pygments_lexer": "ipython3",
   "version": "3.8.10"
  },
  "papermill": {
   "default_parameters": {},
   "duration": 59901.687367,
   "end_time": "2024-09-07T00:02:58.530541",
   "environment_variables": {},
   "exception": null,
   "input_path": "domain_adaptation/domain_adversarial.ipynb",
   "output_path": "domain_adaptation/results/65-classes-001.ipynb",
   "parameters": {},
   "start_time": "2024-09-06T07:24:36.843174",
   "version": "2.6.0"
  }
 },
 "nbformat": 4,
 "nbformat_minor": 5
}