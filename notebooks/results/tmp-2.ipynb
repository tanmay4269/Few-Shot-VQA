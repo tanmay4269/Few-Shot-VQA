{
 "cells": [
  {
   "cell_type": "code",
   "execution_count": 1,
   "id": "f13a81c2",
   "metadata": {
    "execution": {
     "iopub.execute_input": "2024-08-27T16:04:16.618773Z",
     "iopub.status.busy": "2024-08-27T16:04:16.618039Z"
    },
    "papermill": {
     "duration": 3642.849826,
     "end_time": "2024-08-27T17:04:59.465741",
     "exception": false,
     "start_time": "2024-08-27T16:04:16.615915",
     "status": "completed"
    },
    "tags": []
   },
   "outputs": [
    {
     "name": "stdout",
     "output_type": "stream",
     "text": [
      "weights_save_path: ./weights/raw/jjzStIrn.pth\n"
     ]
    },
    {
     "name": "stdout",
     "output_type": "stream",
     "text": [
      "Labels: ['yes', 'no', '0', '1', '2', '3', 'red', 'yellow', 'blue', 'green', 'dog', 'cat']\n",
      "Number of Common Labels = 12 | n_classes = 12\n",
      "V2: \tTrain size = 2400             | Val size = 600 | Total = 3000\n",
      "Abs: \tTrain size = 2400             | Val size = 600 | Total = 3000\n",
      "--------------------\n"
     ]
    },
    {
     "name": "stdout",
     "output_type": "stream",
     "text": [
      "\t Iter [0/16]\t Loss: 1.397016\n"
     ]
    },
    {
     "name": "stdout",
     "output_type": "stream",
     "text": [
      "\t Iter [4/16]\t Loss: 1.121216\n"
     ]
    },
    {
     "name": "stdout",
     "output_type": "stream",
     "text": [
      "\t Iter [8/16]\t Loss: 0.916014\n"
     ]
    },
    {
     "name": "stdout",
     "output_type": "stream",
     "text": [
      "\t Iter [12/16]\t Loss: 0.831763\n"
     ]
    },
    {
     "name": "stdout",
     "output_type": "stream",
     "text": [
      "Epoch [1/30]\t                         Avg Train Loss: 0.991582\t                         Avg Eval Loss: 1.243039\t                         Avg Domain Accuracy: 0.51\t                         Avg Label Type Accuracy: 0.52\t                         Avg Eval Accuracy: 0.14\n"
     ]
    },
    {
     "name": "stdout",
     "output_type": "stream",
     "text": [
      "\t Iter [0/16]\t Loss: 0.706395\n"
     ]
    },
    {
     "name": "stdout",
     "output_type": "stream",
     "text": [
      "\t Iter [4/16]\t Loss: 0.694208\n"
     ]
    },
    {
     "name": "stdout",
     "output_type": "stream",
     "text": [
      "\t Iter [8/16]\t Loss: 0.696936\n"
     ]
    },
    {
     "name": "stdout",
     "output_type": "stream",
     "text": [
      "\t Iter [12/16]\t Loss: 0.728133\n"
     ]
    },
    {
     "name": "stdout",
     "output_type": "stream",
     "text": [
      "Epoch [2/30]\t                         Avg Train Loss: 0.703908\t                         Avg Eval Loss: 1.278652\t                         Avg Domain Accuracy: 0.48\t                         Avg Label Type Accuracy: 0.51\t                         Avg Eval Accuracy: 0.17\n"
     ]
    },
    {
     "name": "stdout",
     "output_type": "stream",
     "text": [
      "\t Iter [0/16]\t Loss: 0.720961\n"
     ]
    },
    {
     "name": "stdout",
     "output_type": "stream",
     "text": [
      "\t Iter [4/16]\t Loss: 0.679450\n"
     ]
    },
    {
     "name": "stdout",
     "output_type": "stream",
     "text": [
      "\t Iter [8/16]\t Loss: 0.652404\n"
     ]
    },
    {
     "name": "stdout",
     "output_type": "stream",
     "text": [
      "\t Iter [12/16]\t Loss: 0.646591\n"
     ]
    },
    {
     "name": "stdout",
     "output_type": "stream",
     "text": [
      "Epoch [3/30]\t                         Avg Train Loss: 0.663050\t                         Avg Eval Loss: 1.226679\t                         Avg Domain Accuracy: 0.51\t                         Avg Label Type Accuracy: 0.54\t                         Avg Eval Accuracy: 0.15\n"
     ]
    },
    {
     "name": "stdout",
     "output_type": "stream",
     "text": [
      "\t Iter [0/16]\t Loss: 0.661067\n"
     ]
    },
    {
     "name": "stdout",
     "output_type": "stream",
     "text": [
      "\t Iter [4/16]\t Loss: 0.643170\n"
     ]
    },
    {
     "name": "stdout",
     "output_type": "stream",
     "text": [
      "\t Iter [8/16]\t Loss: 0.637719\n"
     ]
    },
    {
     "name": "stdout",
     "output_type": "stream",
     "text": [
      "\t Iter [12/16]\t Loss: 0.613186\n"
     ]
    },
    {
     "name": "stdout",
     "output_type": "stream",
     "text": [
      "Epoch [4/30]\t                         Avg Train Loss: 0.629215\t                         Avg Eval Loss: 1.270205\t                         Avg Domain Accuracy: 0.49\t                         Avg Label Type Accuracy: 0.54\t                         Avg Eval Accuracy: 0.16\n"
     ]
    },
    {
     "name": "stdout",
     "output_type": "stream",
     "text": [
      "\t Iter [0/16]\t Loss: 0.618728\n"
     ]
    },
    {
     "name": "stdout",
     "output_type": "stream",
     "text": [
      "\t Iter [4/16]\t Loss: 0.604099\n"
     ]
    },
    {
     "name": "stdout",
     "output_type": "stream",
     "text": [
      "\t Iter [8/16]\t Loss: 0.589209\n"
     ]
    },
    {
     "name": "stdout",
     "output_type": "stream",
     "text": [
      "\t Iter [12/16]\t Loss: 0.590354\n"
     ]
    },
    {
     "name": "stdout",
     "output_type": "stream",
     "text": [
      "Epoch [5/30]\t                         Avg Train Loss: 0.611058\t                         Avg Eval Loss: 1.289147\t                         Avg Domain Accuracy: 0.49\t                         Avg Label Type Accuracy: 0.54\t                         Avg Eval Accuracy: 0.15\n"
     ]
    },
    {
     "name": "stdout",
     "output_type": "stream",
     "text": [
      "\t Iter [0/16]\t Loss: 0.592657\n"
     ]
    },
    {
     "name": "stdout",
     "output_type": "stream",
     "text": [
      "\t Iter [4/16]\t Loss: 0.586295\n"
     ]
    },
    {
     "name": "stdout",
     "output_type": "stream",
     "text": [
      "\t Iter [8/16]\t Loss: 0.599406\n"
     ]
    },
    {
     "name": "stdout",
     "output_type": "stream",
     "text": [
      "\t Iter [12/16]\t Loss: 0.599042\n"
     ]
    },
    {
     "name": "stdout",
     "output_type": "stream",
     "text": [
      "Epoch [6/30]\t                         Avg Train Loss: 0.588563\t                         Avg Eval Loss: 1.307476\t                         Avg Domain Accuracy: 0.49\t                         Avg Label Type Accuracy: 0.54\t                         Avg Eval Accuracy: 0.17\n"
     ]
    },
    {
     "name": "stdout",
     "output_type": "stream",
     "text": [
      "\t Iter [0/16]\t Loss: 0.555174\n"
     ]
    },
    {
     "name": "stdout",
     "output_type": "stream",
     "text": [
      "\t Iter [4/16]\t Loss: 0.566704\n"
     ]
    },
    {
     "name": "stdout",
     "output_type": "stream",
     "text": [
      "\t Iter [8/16]\t Loss: 0.580501\n"
     ]
    },
    {
     "name": "stdout",
     "output_type": "stream",
     "text": [
      "\t Iter [12/16]\t Loss: 0.552906\n"
     ]
    },
    {
     "name": "stdout",
     "output_type": "stream",
     "text": [
      "Epoch [7/30]\t                         Avg Train Loss: 0.567834\t                         Avg Eval Loss: 1.319095\t                         Avg Domain Accuracy: 0.49\t                         Avg Label Type Accuracy: 0.54\t                         Avg Eval Accuracy: 0.16\n"
     ]
    },
    {
     "name": "stdout",
     "output_type": "stream",
     "text": [
      "\t Iter [0/16]\t Loss: 0.545468\n"
     ]
    },
    {
     "name": "stdout",
     "output_type": "stream",
     "text": [
      "\t Iter [4/16]\t Loss: 0.550000\n"
     ]
    },
    {
     "name": "stdout",
     "output_type": "stream",
     "text": [
      "\t Iter [8/16]\t Loss: 0.534006\n"
     ]
    },
    {
     "name": "stdout",
     "output_type": "stream",
     "text": [
      "\t Iter [12/16]\t Loss: 0.539060\n"
     ]
    },
    {
     "name": "stdout",
     "output_type": "stream",
     "text": [
      "Epoch [8/30]\t                         Avg Train Loss: 0.545971\t                         Avg Eval Loss: 1.335322\t                         Avg Domain Accuracy: 0.48\t                         Avg Label Type Accuracy: 0.54\t                         Avg Eval Accuracy: 0.14\n"
     ]
    },
    {
     "name": "stdout",
     "output_type": "stream",
     "text": [
      "\t Iter [0/16]\t Loss: 0.534086\n"
     ]
    },
    {
     "name": "stdout",
     "output_type": "stream",
     "text": [
      "\t Iter [4/16]\t Loss: 0.511679\n"
     ]
    },
    {
     "name": "stdout",
     "output_type": "stream",
     "text": [
      "\t Iter [8/16]\t Loss: 0.516761\n"
     ]
    },
    {
     "name": "stdout",
     "output_type": "stream",
     "text": [
      "\t Iter [12/16]\t Loss: 0.514076\n"
     ]
    },
    {
     "name": "stdout",
     "output_type": "stream",
     "text": [
      "Epoch [9/30]\t                         Avg Train Loss: 0.523898\t                         Avg Eval Loss: 1.371957\t                         Avg Domain Accuracy: 0.49\t                         Avg Label Type Accuracy: 0.54\t                         Avg Eval Accuracy: 0.14\n"
     ]
    },
    {
     "name": "stdout",
     "output_type": "stream",
     "text": [
      "\t Iter [0/16]\t Loss: 0.503494\n"
     ]
    },
    {
     "name": "stdout",
     "output_type": "stream",
     "text": [
      "\t Iter [4/16]\t Loss: 0.500605\n"
     ]
    },
    {
     "name": "stdout",
     "output_type": "stream",
     "text": [
      "\t Iter [8/16]\t Loss: 0.522418\n"
     ]
    },
    {
     "name": "stdout",
     "output_type": "stream",
     "text": [
      "\t Iter [12/16]\t Loss: 0.506076\n"
     ]
    },
    {
     "name": "stdout",
     "output_type": "stream",
     "text": [
      "Epoch [10/30]\t                         Avg Train Loss: 0.507446\t                         Avg Eval Loss: 1.353249\t                         Avg Domain Accuracy: 0.47\t                         Avg Label Type Accuracy: 0.54\t                         Avg Eval Accuracy: 0.16\n"
     ]
    },
    {
     "name": "stdout",
     "output_type": "stream",
     "text": [
      "\t Iter [0/16]\t Loss: 0.478685\n"
     ]
    },
    {
     "name": "stdout",
     "output_type": "stream",
     "text": [
      "\t Iter [4/16]\t Loss: 0.478450\n"
     ]
    },
    {
     "name": "stdout",
     "output_type": "stream",
     "text": [
      "\t Iter [8/16]\t Loss: 0.497593\n"
     ]
    },
    {
     "name": "stdout",
     "output_type": "stream",
     "text": [
      "\t Iter [12/16]\t Loss: 0.490964\n"
     ]
    },
    {
     "data": {
      "image/png": "[encoded data removed]",
      "text/plain": [
       "<Figure size 1200x600 with 2 Axes>"
      ]
     },
     "metadata": {},
     "output_type": "display_data"
    },
    {
     "name": "stdout",
     "output_type": "stream",
     "text": [
      "Epoch [11/30]\t                         Avg Train Loss: 0.485419\t                         Avg Eval Loss: 1.387423\t                         Avg Domain Accuracy: 0.50\t                         Avg Label Type Accuracy: 0.54\t                         Avg Eval Accuracy: 0.16\n"
     ]
    },
    {
     "name": "stdout",
     "output_type": "stream",
     "text": [
      "\t Iter [0/16]\t Loss: 0.439827\n"
     ]
    },
    {
     "name": "stdout",
     "output_type": "stream",
     "text": [
      "\t Iter [4/16]\t Loss: 0.459663\n"
     ]
    },
    {
     "name": "stdout",
     "output_type": "stream",
     "text": [
      "\t Iter [8/16]\t Loss: 0.466215\n"
     ]
    },
    {
     "name": "stdout",
     "output_type": "stream",
     "text": [
      "\t Iter [12/16]\t Loss: 0.460312\n"
     ]
    },
    {
     "name": "stdout",
     "output_type": "stream",
     "text": [
      "Epoch [12/30]\t                         Avg Train Loss: 0.465627\t                         Avg Eval Loss: 1.401134\t                         Avg Domain Accuracy: 0.51\t                         Avg Label Type Accuracy: 0.54\t                         Avg Eval Accuracy: 0.14\n"
     ]
    },
    {
     "name": "stdout",
     "output_type": "stream",
     "text": [
      "\t Iter [0/16]\t Loss: 0.453918\n"
     ]
    },
    {
     "name": "stdout",
     "output_type": "stream",
     "text": [
      "\t Iter [4/16]\t Loss: 0.442994\n"
     ]
    },
    {
     "name": "stdout",
     "output_type": "stream",
     "text": [
      "\t Iter [8/16]\t Loss: 0.438897\n"
     ]
    },
    {
     "name": "stdout",
     "output_type": "stream",
     "text": [
      "\t Iter [12/16]\t Loss: 0.468433\n"
     ]
    },
    {
     "name": "stdout",
     "output_type": "stream",
     "text": [
      "Epoch [13/30]\t                         Avg Train Loss: 0.449575\t                         Avg Eval Loss: 1.420630\t                         Avg Domain Accuracy: 0.49\t                         Avg Label Type Accuracy: 0.54\t                         Avg Eval Accuracy: 0.16\n"
     ]
    },
    {
     "name": "stdout",
     "output_type": "stream",
     "text": [
      "\t Iter [0/16]\t Loss: 0.423053\n"
     ]
    },
    {
     "name": "stdout",
     "output_type": "stream",
     "text": [
      "\t Iter [4/16]\t Loss: 0.428552\n"
     ]
    },
    {
     "name": "stdout",
     "output_type": "stream",
     "text": [
      "\t Iter [8/16]\t Loss: 0.426664\n"
     ]
    },
    {
     "name": "stdout",
     "output_type": "stream",
     "text": [
      "\t Iter [12/16]\t Loss: 0.418399\n"
     ]
    },
    {
     "name": "stdout",
     "output_type": "stream",
     "text": [
      "Epoch [14/30]\t                         Avg Train Loss: 0.432549\t                         Avg Eval Loss: 1.436819\t                         Avg Domain Accuracy: 0.51\t                         Avg Label Type Accuracy: 0.54\t                         Avg Eval Accuracy: 0.15\n"
     ]
    },
    {
     "name": "stdout",
     "output_type": "stream",
     "text": [
      "\t Iter [0/16]\t Loss: 0.437765\n"
     ]
    },
    {
     "name": "stdout",
     "output_type": "stream",
     "text": [
      "\t Iter [4/16]\t Loss: 0.417322\n"
     ]
    },
    {
     "name": "stdout",
     "output_type": "stream",
     "text": [
      "\t Iter [8/16]\t Loss: 0.407096\n"
     ]
    },
    {
     "name": "stdout",
     "output_type": "stream",
     "text": [
      "\t Iter [12/16]\t Loss: 0.426828\n"
     ]
    },
    {
     "name": "stdout",
     "output_type": "stream",
     "text": [
      "Epoch [15/30]\t                         Avg Train Loss: 0.419052\t                         Avg Eval Loss: 1.422261\t                         Avg Domain Accuracy: 0.51\t                         Avg Label Type Accuracy: 0.54\t                         Avg Eval Accuracy: 0.15\n"
     ]
    },
    {
     "name": "stdout",
     "output_type": "stream",
     "text": [
      "\t Iter [0/16]\t Loss: 0.413992\n"
     ]
    },
    {
     "name": "stdout",
     "output_type": "stream",
     "text": [
      "\t Iter [4/16]\t Loss: 0.398745\n"
     ]
    },
    {
     "name": "stdout",
     "output_type": "stream",
     "text": [
      "\t Iter [8/16]\t Loss: 0.403902\n"
     ]
    },
    {
     "name": "stdout",
     "output_type": "stream",
     "text": [
      "\t Iter [12/16]\t Loss: 0.404940\n"
     ]
    },
    {
     "name": "stdout",
     "output_type": "stream",
     "text": [
      "Epoch [16/30]\t                         Avg Train Loss: 0.412793\t                         Avg Eval Loss: 1.411731\t                         Avg Domain Accuracy: 0.50\t                         Avg Label Type Accuracy: 0.54\t                         Avg Eval Accuracy: 0.16\n"
     ]
    },
    {
     "name": "stdout",
     "output_type": "stream",
     "text": [
      "\t Iter [0/16]\t Loss: 0.417690\n"
     ]
    },
    {
     "name": "stdout",
     "output_type": "stream",
     "text": [
      "\t Iter [4/16]\t Loss: 0.403434\n"
     ]
    },
    {
     "name": "stdout",
     "output_type": "stream",
     "text": [
      "\t Iter [8/16]\t Loss: 0.409819\n"
     ]
    },
    {
     "name": "stdout",
     "output_type": "stream",
     "text": [
      "\t Iter [12/16]\t Loss: 0.396873\n"
     ]
    },
    {
     "name": "stdout",
     "output_type": "stream",
     "text": [
      "Epoch [17/30]\t                         Avg Train Loss: 0.403583\t                         Avg Eval Loss: 1.428282\t                         Avg Domain Accuracy: 0.53\t                         Avg Label Type Accuracy: 0.54\t                         Avg Eval Accuracy: 0.15\n"
     ]
    },
    {
     "name": "stdout",
     "output_type": "stream",
     "text": [
      "\t Iter [0/16]\t Loss: 0.385761\n"
     ]
    },
    {
     "name": "stdout",
     "output_type": "stream",
     "text": [
      "\t Iter [4/16]\t Loss: 0.389427\n"
     ]
    },
    {
     "name": "stdout",
     "output_type": "stream",
     "text": [
      "\t Iter [8/16]\t Loss: 0.394579\n"
     ]
    },
    {
     "name": "stdout",
     "output_type": "stream",
     "text": [
      "\t Iter [12/16]\t Loss: 0.405421\n"
     ]
    },
    {
     "name": "stdout",
     "output_type": "stream",
     "text": [
      "Epoch [18/30]\t                         Avg Train Loss: 0.390300\t                         Avg Eval Loss: 1.418184\t                         Avg Domain Accuracy: 0.48\t                         Avg Label Type Accuracy: 0.54\t                         Avg Eval Accuracy: 0.16\n"
     ]
    },
    {
     "name": "stdout",
     "output_type": "stream",
     "text": [
      "\t Iter [0/16]\t Loss: 0.379960\n"
     ]
    },
    {
     "name": "stdout",
     "output_type": "stream",
     "text": [
      "\t Iter [4/16]\t Loss: 0.378638\n"
     ]
    },
    {
     "name": "stdout",
     "output_type": "stream",
     "text": [
      "\t Iter [8/16]\t Loss: 0.377608\n"
     ]
    },
    {
     "name": "stdout",
     "output_type": "stream",
     "text": [
      "\t Iter [12/16]\t Loss: 0.382693\n"
     ]
    },
    {
     "name": "stdout",
     "output_type": "stream",
     "text": [
      "Epoch [19/30]\t                         Avg Train Loss: 0.384142\t                         Avg Eval Loss: 1.443723\t                         Avg Domain Accuracy: 0.51\t                         Avg Label Type Accuracy: 0.54\t                         Avg Eval Accuracy: 0.15\n"
     ]
    },
    {
     "name": "stdout",
     "output_type": "stream",
     "text": [
      "\t Iter [0/16]\t Loss: 0.367246\n"
     ]
    },
    {
     "name": "stdout",
     "output_type": "stream",
     "text": [
      "\t Iter [4/16]\t Loss: 0.375248\n"
     ]
    },
    {
     "name": "stdout",
     "output_type": "stream",
     "text": [
      "\t Iter [8/16]\t Loss: 0.382790\n"
     ]
    },
    {
     "name": "stdout",
     "output_type": "stream",
     "text": [
      "\t Iter [12/16]\t Loss: 0.367401\n"
     ]
    },
    {
     "name": "stdout",
     "output_type": "stream",
     "text": [
      "Epoch [20/30]\t                         Avg Train Loss: 0.379699\t                         Avg Eval Loss: 1.468346\t                         Avg Domain Accuracy: 0.51\t                         Avg Label Type Accuracy: 0.54\t                         Avg Eval Accuracy: 0.16\n"
     ]
    },
    {
     "name": "stdout",
     "output_type": "stream",
     "text": [
      "\t Iter [0/16]\t Loss: 0.376213\n"
     ]
    },
    {
     "name": "stdout",
     "output_type": "stream",
     "text": [
      "\t Iter [4/16]\t Loss: 0.373867\n"
     ]
    },
    {
     "name": "stdout",
     "output_type": "stream",
     "text": [
      "\t Iter [8/16]\t Loss: 0.369405\n"
     ]
    },
    {
     "name": "stdout",
     "output_type": "stream",
     "text": [
      "\t Iter [12/16]\t Loss: 0.382325\n"
     ]
    },
    {
     "data": {
      "image/png": "[encoded data removed]",
      "text/plain": [
       "<Figure size 1200x600 with 2 Axes>"
      ]
     },
     "metadata": {},
     "output_type": "display_data"
    },
    {
     "name": "stdout",
     "output_type": "stream",
     "text": [
      "Epoch [21/30]\t                         Avg Train Loss: 0.376372\t                         Avg Eval Loss: 1.460176\t                         Avg Domain Accuracy: 0.49\t                         Avg Label Type Accuracy: 0.54\t                         Avg Eval Accuracy: 0.16\n"
     ]
    },
    {
     "name": "stdout",
     "output_type": "stream",
     "text": [
      "\t Iter [0/16]\t Loss: 0.369343\n"
     ]
    },
    {
     "name": "stdout",
     "output_type": "stream",
     "text": [
      "\t Iter [4/16]\t Loss: 0.371569\n"
     ]
    },
    {
     "name": "stdout",
     "output_type": "stream",
     "text": [
      "\t Iter [8/16]\t Loss: 0.373840\n"
     ]
    },
    {
     "name": "stdout",
     "output_type": "stream",
     "text": [
      "\t Iter [12/16]\t Loss: 0.369462\n"
     ]
    },
    {
     "name": "stdout",
     "output_type": "stream",
     "text": [
      "Epoch [22/30]\t                         Avg Train Loss: 0.372470\t                         Avg Eval Loss: 1.456965\t                         Avg Domain Accuracy: 0.51\t                         Avg Label Type Accuracy: 0.54\t                         Avg Eval Accuracy: 0.15\n"
     ]
    },
    {
     "name": "stdout",
     "output_type": "stream",
     "text": [
      "\t Iter [0/16]\t Loss: 0.363191\n"
     ]
    },
    {
     "name": "stdout",
     "output_type": "stream",
     "text": [
      "\t Iter [4/16]\t Loss: 0.370709\n"
     ]
    },
    {
     "name": "stdout",
     "output_type": "stream",
     "text": [
      "\t Iter [8/16]\t Loss: 0.359609\n"
     ]
    },
    {
     "name": "stdout",
     "output_type": "stream",
     "text": [
      "\t Iter [12/16]\t Loss: 0.369440\n"
     ]
    },
    {
     "name": "stdout",
     "output_type": "stream",
     "text": [
      "Epoch [23/30]\t                         Avg Train Loss: 0.369826\t                         Avg Eval Loss: 1.493781\t                         Avg Domain Accuracy: 0.50\t                         Avg Label Type Accuracy: 0.54\t                         Avg Eval Accuracy: 0.16\n"
     ]
    },
    {
     "name": "stdout",
     "output_type": "stream",
     "text": [
      "\t Iter [0/16]\t Loss: 0.368575\n"
     ]
    },
    {
     "name": "stdout",
     "output_type": "stream",
     "text": [
      "\t Iter [4/16]\t Loss: 0.364041\n"
     ]
    },
    {
     "name": "stdout",
     "output_type": "stream",
     "text": [
      "\t Iter [8/16]\t Loss: 0.366927\n"
     ]
    },
    {
     "name": "stdout",
     "output_type": "stream",
     "text": [
      "\t Iter [12/16]\t Loss: 0.365096\n"
     ]
    },
    {
     "name": "stdout",
     "output_type": "stream",
     "text": [
      "Epoch [24/30]\t                         Avg Train Loss: 0.364466\t                         Avg Eval Loss: 1.482842\t                         Avg Domain Accuracy: 0.50\t                         Avg Label Type Accuracy: 0.54\t                         Avg Eval Accuracy: 0.15\n"
     ]
    },
    {
     "name": "stdout",
     "output_type": "stream",
     "text": [
      "\t Iter [0/16]\t Loss: 0.361674\n"
     ]
    },
    {
     "name": "stdout",
     "output_type": "stream",
     "text": [
      "\t Iter [4/16]\t Loss: 0.357281\n"
     ]
    },
    {
     "name": "stdout",
     "output_type": "stream",
     "text": [
      "\t Iter [8/16]\t Loss: 0.366826\n"
     ]
    },
    {
     "name": "stdout",
     "output_type": "stream",
     "text": [
      "\t Iter [12/16]\t Loss: 0.365885\n"
     ]
    },
    {
     "name": "stdout",
     "output_type": "stream",
     "text": [
      "Epoch [25/30]\t                         Avg Train Loss: 0.361566\t                         Avg Eval Loss: 1.478385\t                         Avg Domain Accuracy: 0.48\t                         Avg Label Type Accuracy: 0.54\t                         Avg Eval Accuracy: 0.16\n"
     ]
    },
    {
     "name": "stdout",
     "output_type": "stream",
     "text": [
      "\t Iter [0/16]\t Loss: 0.359018\n"
     ]
    },
    {
     "name": "stdout",
     "output_type": "stream",
     "text": [
      "\t Iter [4/16]\t Loss: 0.359213\n"
     ]
    },
    {
     "name": "stdout",
     "output_type": "stream",
     "text": [
      "\t Iter [8/16]\t Loss: 0.356414\n"
     ]
    },
    {
     "name": "stdout",
     "output_type": "stream",
     "text": [
      "\t Iter [12/16]\t Loss: 0.358647\n"
     ]
    },
    {
     "name": "stdout",
     "output_type": "stream",
     "text": [
      "Epoch [26/30]\t                         Avg Train Loss: 0.358266\t                         Avg Eval Loss: 1.486658\t                         Avg Domain Accuracy: 0.48\t                         Avg Label Type Accuracy: 0.54\t                         Avg Eval Accuracy: 0.17\n"
     ]
    },
    {
     "name": "stdout",
     "output_type": "stream",
     "text": [
      "\t Iter [0/16]\t Loss: 0.355075\n"
     ]
    }
   ],
   "source": [
    "import os\n",
    "os.chdir('/workspace')\n",
    "from trainer import * \n",
    "\n",
    "cfg = {\n",
    "    \"name\": \"DANN\",\n",
    "    #\n",
    "    ### DataLoader ###\n",
    "    \"n_classes\": 12,\n",
    "    \"n_types\": 4,\n",
    "    #\n",
    "    \"v2_samples_per_answer\": 300,\n",
    "    \"abs_samples_per_answer\": 300,\n",
    "    #\n",
    "    \"v2_samples_per_answer_train\": 200,\n",
    "    \"abs_samples_per_answer_train\": 200,\n",
    "    #\n",
    "    \"v2_samples_per_answer_val\": 50,\n",
    "    \"abs_samples_per_answer_val\": 50,\n",
    "    \"source_domain\": \"v2\",\n",
    "    \n",
    "    ### VLModel ###\n",
    "    \"image_encoder\": \"facebook/dinov2-base\",\n",
    "    \"text_encoder\": \"bert-base-uncased\",\n",
    "    #\n",
    "    ## Embedder\n",
    "    \"num_attn_heads\": 8,\n",
    "    \"fusion_mode\": \"cat\",\n",
    "    \"num_stacked_attn\": 1,\n",
    "    \"criss_cross__drop_p\": 0.0,\n",
    "    \"post_concat__drop_p\": 0.0,\n",
    "    \"embed_attn__add_residual\": False,\n",
    "    \"embed_attn__drop_p\": 0.0,\n",
    "    #\n",
    "    ## Label Classifier\n",
    "    # 'use_label_type_classifier': False,\n",
    "    # 'use_label_type_classifier': True,\n",
    "    \"label_classifier__use_bn\": True,\n",
    "    \"label_classifier__drop_p\": 0.0,\n",
    "    \"label_classifier__repeat_layers\": [0, 0],\n",
    "    #\n",
    "    ## Domain Classifier\n",
    "    \"domain_classifier__use_bn\": True,\n",
    "    \"domain_classifier__drop_p\": 0.5,\n",
    "    \"domain_classifier__repeat_layers\": [2, 2],\n",
    "    #\n",
    "    ### Objective ###\n",
    "    \"domain_adaptation_method\": \"domain_adversarial\",  # 'naive', 'importance_sampling', 'domain_adversarial'\n",
    "    #\n",
    "    ### Trainer ###\n",
    "    \"relaxation_period\": 3,\n",
    "    \"epochs\": 30,\n",
    "    \"batch_size\": 150,\n",
    "    \"base_lr\": 0.0005,\n",
    "    \"weight_decay\": 1e-5,\n",
    "    #\n",
    "    ### Logging ###\n",
    "    # \"print_logs\": False,\n",
    "    \"print_logs\": True,\n",
    "    \"show_plot\": True,\n",
    "    \"weights_save_root\": \"./weights/raw\",\n",
    "}\n",
    "\n",
    "if True:\n",
    "    # v2\n",
    "    cfg[\"source_domain\"] = \"v2\"\n",
    "    trainer = DA_Trainer(cfg, vqa_v2, vqa_abs)\n",
    "    v2_ckpt_path = cfg[\"weights_save_path\"]\n",
    "\n",
    "    trainer.train(show_plot=True)\n",
    "\n",
    "    # abs\n",
    "    cfg[\"source_domain\"] = \"abs\"\n",
    "    trainer = DA_Trainer(cfg, vqa_v2, vqa_abs)\n",
    "    abs_ckpt_path = cfg[\"weights_save_path\"]\n",
    "\n",
    "    trainer.train(show_plot=False)"
   ]
  }
 ],
 "metadata": {
  "kernelspec": {
   "display_name": "base",
   "language": "python",
   "name": "python3"
  },
  "language_info": {
   "codemirror_mode": {
    "name": "ipython",
    "version": 3
   },
   "file_extension": ".py",
   "mimetype": "text/x-python",
   "name": "python",
   "nbconvert_exporter": "python",
   "pygments_lexer": "ipython3",
   "version": "3.11.9"
  },
  "papermill": {
   "default_parameters": {},
   "duration": 3644.071769,
   "end_time": "2024-08-27T17:04:59.653165",
   "environment_variables": {},
   "exception": null,
   "input_path": "notebooks/tmp.ipynb",
   "output_path": "notebooks/results/tmp-2.ipynb",
   "parameters": {},
   "start_time": "2024-08-27T16:04:15.581396",
   "version": "2.6.0"
  }
 },
 "nbformat": 4,
 "nbformat_minor": 5
}