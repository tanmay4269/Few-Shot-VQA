{
 "cells": [
  {
   "cell_type": "markdown",
   "id": "9fe49664",
   "metadata": {
    "papermill": {
     "duration": 0.001908,
     "end_time": "2024-08-10T14:28:43.073924",
     "exception": false,
     "start_time": "2024-08-10T14:28:43.072016",
     "status": "completed"
    },
    "tags": []
   },
   "source": [
    "## Naive Sampling"
   ]
  },
  {
   "cell_type": "code",
   "execution_count": 1,
   "id": "364045a6",
   "metadata": {
    "execution": {
     "iopub.execute_input": "2024-08-10T14:28:43.080479Z",
     "iopub.status.busy": "2024-08-10T14:28:43.080076Z"
    },
    "papermill": {
     "duration": null,
     "end_time": null,
     "exception": false,
     "start_time": "2024-08-10T14:28:43.075438",
     "status": "running"
    },
    "tags": []
   },
   "outputs": [
    {
     "name": "stderr",
     "output_type": "stream",
     "text": [
      "/usr/local/lib/python3.8/dist-packages/tqdm/auto.py:21: TqdmWarning: IProgress not found. Please update jupyter and ipywidgets. See https://ipywidgets.readthedocs.io/en/stable/user_install.html\n",
      "  from .autonotebook import tqdm as notebook_tqdm\n"
     ]
    },
    {
     "name": "stdout",
     "output_type": "stream",
     "text": [
      "weights_save_path: ./weights/raw/name=NaiveSample__n_classes=10__v2_samples_per_answer=300__abs_samples_per_answer=150__source_domain=v2__base_lr=0.001__domain_adaptation_method=naive__.pth\n"
     ]
    },
    {
     "name": "stdout",
     "output_type": "stream",
     "text": [
      "Number of Common Labels = 25 | n_classes = 10\n",
      "Labels: ['man', 'yes', 'no', 'brown', 'dog', '2', '1', 'gray', '3', 'food']\n",
      "V2: \tTrain size = 2400           | Val size = 600 | Total = 3000\n",
      "Abs: \tTrain size = 1200           | Val size = 300 | Total = 1500\n",
      "--------------------\n"
     ]
    },
    {
     "name": "stdout",
     "output_type": "stream",
     "text": [
      "\t Iter [0/24]\t Loss: 1.499285\n"
     ]
    },
    {
     "name": "stdout",
     "output_type": "stream",
     "text": [
      "\t Iter [6/24]\t Loss: 1.166048\n"
     ]
    },
    {
     "name": "stdout",
     "output_type": "stream",
     "text": [
      "\t Iter [12/24]\t Loss: 1.150937\n"
     ]
    },
    {
     "name": "stdout",
     "output_type": "stream",
     "text": [
      "\t Iter [18/24]\t Loss: 1.149262\n"
     ]
    },
    {
     "name": "stdout",
     "output_type": "stream",
     "text": [
      "Epoch [1/30]\t                     Avg Train Loss: 1.202031\t                     Avg Eval Loss: 1.156779\t                     Avg Domain Accuracy: 1.00\t                     Avg Eval Accuracy: 0.10\n"
     ]
    },
    {
     "name": "stdout",
     "output_type": "stream",
     "text": [
      "\t Iter [0/24]\t Loss: 1.154305\n"
     ]
    },
    {
     "name": "stdout",
     "output_type": "stream",
     "text": [
      "\t Iter [6/24]\t Loss: 1.167710\n"
     ]
    },
    {
     "name": "stdout",
     "output_type": "stream",
     "text": [
      "\t Iter [12/24]\t Loss: 1.123631\n"
     ]
    },
    {
     "name": "stdout",
     "output_type": "stream",
     "text": [
      "\t Iter [18/24]\t Loss: 1.158941\n"
     ]
    },
    {
     "name": "stdout",
     "output_type": "stream",
     "text": [
      "Epoch [2/30]\t                     Avg Train Loss: 1.187714\t                     Avg Eval Loss: 1.163228\t                     Avg Domain Accuracy: 1.00\t                     Avg Eval Accuracy: 0.10\n"
     ]
    },
    {
     "name": "stdout",
     "output_type": "stream",
     "text": [
      "\t Iter [0/24]\t Loss: 1.158383\n"
     ]
    },
    {
     "name": "stdout",
     "output_type": "stream",
     "text": [
      "\t Iter [6/24]\t Loss: 1.140543\n"
     ]
    },
    {
     "name": "stdout",
     "output_type": "stream",
     "text": [
      "\t Iter [12/24]\t Loss: 1.186324\n"
     ]
    },
    {
     "name": "stdout",
     "output_type": "stream",
     "text": [
      "\t Iter [18/24]\t Loss: 1.159667\n"
     ]
    },
    {
     "name": "stdout",
     "output_type": "stream",
     "text": [
      "Epoch [3/30]\t                     Avg Train Loss: 1.180568\t                     Avg Eval Loss: 1.161877\t                     Avg Domain Accuracy: 1.00\t                     Avg Eval Accuracy: 0.11\n"
     ]
    },
    {
     "name": "stdout",
     "output_type": "stream",
     "text": [
      "\t Iter [0/24]\t Loss: 1.160225\n"
     ]
    },
    {
     "name": "stdout",
     "output_type": "stream",
     "text": [
      "\t Iter [6/24]\t Loss: 1.151710\n"
     ]
    },
    {
     "name": "stdout",
     "output_type": "stream",
     "text": [
      "\t Iter [12/24]\t Loss: 1.151248\n"
     ]
    },
    {
     "name": "stdout",
     "output_type": "stream",
     "text": [
      "\t Iter [18/24]\t Loss: 1.225820\n"
     ]
    },
    {
     "name": "stdout",
     "output_type": "stream",
     "text": [
      "Epoch [4/30]\t                     Avg Train Loss: 3.754548\t                     Avg Eval Loss: 1.348780\t                     Avg Domain Accuracy: 0.50\t                     Avg Eval Accuracy: 0.10\n"
     ]
    },
    {
     "name": "stdout",
     "output_type": "stream",
     "text": [
      "\t Iter [0/24]\t Loss: 1.342110\n"
     ]
    },
    {
     "name": "stdout",
     "output_type": "stream",
     "text": [
      "\t Iter [6/24]\t Loss: 1.418611\n"
     ]
    },
    {
     "name": "stdout",
     "output_type": "stream",
     "text": [
      "\t Iter [12/24]\t Loss: 1.174962\n"
     ]
    },
    {
     "name": "stdout",
     "output_type": "stream",
     "text": [
      "\t Iter [18/24]\t Loss: 1.153853\n"
     ]
    },
    {
     "name": "stdout",
     "output_type": "stream",
     "text": [
      "Epoch [5/30]\t                     Avg Train Loss: 1.420648\t                     Avg Eval Loss: 1.255340\t                     Avg Domain Accuracy: 1.00\t                     Avg Eval Accuracy: 0.10\n"
     ]
    },
    {
     "name": "stdout",
     "output_type": "stream",
     "text": [
      "\t Iter [0/24]\t Loss: 1.248559\n"
     ]
    },
    {
     "name": "stdout",
     "output_type": "stream",
     "text": [
      "\t Iter [6/24]\t Loss: 1.152837\n"
     ]
    },
    {
     "name": "stdout",
     "output_type": "stream",
     "text": [
      "\t Iter [12/24]\t Loss: 1.331295\n"
     ]
    },
    {
     "name": "stdout",
     "output_type": "stream",
     "text": [
      "\t Iter [18/24]\t Loss: 43.461720\n"
     ]
    },
    {
     "name": "stdout",
     "output_type": "stream",
     "text": [
      "Epoch [6/30]\t                     Avg Train Loss: 1327.204935\t                     Avg Eval Loss: 3264.866374\t                     Avg Domain Accuracy: 0.50\t                     Avg Eval Accuracy: 0.10\n"
     ]
    },
    {
     "name": "stdout",
     "output_type": "stream",
     "text": [
      "\t Iter [0/24]\t Loss: 3299.801025\n"
     ]
    },
    {
     "name": "stdout",
     "output_type": "stream",
     "text": [
      "\t Iter [6/24]\t Loss: 251.724396\n"
     ]
    },
    {
     "name": "stdout",
     "output_type": "stream",
     "text": [
      "\t Iter [12/24]\t Loss: 1.148879\n"
     ]
    },
    {
     "name": "stdout",
     "output_type": "stream",
     "text": [
      "\t Iter [18/24]\t Loss: 1.190640\n"
     ]
    },
    {
     "name": "stdout",
     "output_type": "stream",
     "text": [
      "Epoch [7/30]\t                     Avg Train Loss: 188.519714\t                     Avg Eval Loss: 1.151485\t                     Avg Domain Accuracy: 1.00\t                     Avg Eval Accuracy: 0.10\n"
     ]
    },
    {
     "name": "stdout",
     "output_type": "stream",
     "text": [
      "\t Iter [0/24]\t Loss: 1.152620\n"
     ]
    },
    {
     "name": "stdout",
     "output_type": "stream",
     "text": [
      "\t Iter [6/24]\t Loss: 1.150076\n"
     ]
    },
    {
     "name": "stdout",
     "output_type": "stream",
     "text": [
      "\t Iter [12/24]\t Loss: 1.151255\n"
     ]
    },
    {
     "name": "stdout",
     "output_type": "stream",
     "text": [
      "\t Iter [18/24]\t Loss: 1.152321\n"
     ]
    },
    {
     "name": "stdout",
     "output_type": "stream",
     "text": [
      "Epoch [8/30]\t                     Avg Train Loss: 1.151769\t                     Avg Eval Loss: 1.151461\t                     Avg Domain Accuracy: 1.00\t                     Avg Eval Accuracy: 0.10\n"
     ]
    },
    {
     "name": "stdout",
     "output_type": "stream",
     "text": [
      "\t Iter [0/24]\t Loss: 1.152701\n"
     ]
    },
    {
     "name": "stdout",
     "output_type": "stream",
     "text": [
      "\t Iter [6/24]\t Loss: 1.152021\n"
     ]
    },
    {
     "name": "stdout",
     "output_type": "stream",
     "text": [
      "\t Iter [12/24]\t Loss: 1.151842\n"
     ]
    },
    {
     "name": "stdout",
     "output_type": "stream",
     "text": [
      "\t Iter [18/24]\t Loss: 1.152256\n"
     ]
    },
    {
     "name": "stdout",
     "output_type": "stream",
     "text": [
      "Epoch [9/30]\t                     Avg Train Loss: 1.253154\t                     Avg Eval Loss: 1.391925\t                     Avg Domain Accuracy: 1.00\t                     Avg Eval Accuracy: 0.10\n"
     ]
    },
    {
     "name": "stdout",
     "output_type": "stream",
     "text": [
      "\t Iter [0/24]\t Loss: 1.151447\n"
     ]
    },
    {
     "name": "stdout",
     "output_type": "stream",
     "text": [
      "\t Iter [6/24]\t Loss: 1.151033\n"
     ]
    },
    {
     "name": "stdout",
     "output_type": "stream",
     "text": [
      "\t Iter [12/24]\t Loss: 1.151210\n"
     ]
    },
    {
     "name": "stdout",
     "output_type": "stream",
     "text": [
      "\t Iter [18/24]\t Loss: 1.150764\n"
     ]
    },
    {
     "name": "stdout",
     "output_type": "stream",
     "text": [
      "Epoch [10/30]\t                     Avg Train Loss: 1.331510\t                     Avg Eval Loss: 1.201813\t                     Avg Domain Accuracy: 1.00\t                     Avg Eval Accuracy: 0.10\n"
     ]
    },
    {
     "name": "stdout",
     "output_type": "stream",
     "text": [
      "\t Iter [0/24]\t Loss: 1.150731\n"
     ]
    },
    {
     "name": "stdout",
     "output_type": "stream",
     "text": [
      "\t Iter [6/24]\t Loss: 1.427842\n"
     ]
    },
    {
     "name": "stdout",
     "output_type": "stream",
     "text": [
      "\t Iter [12/24]\t Loss: 1.151265\n"
     ]
    },
    {
     "name": "stdout",
     "output_type": "stream",
     "text": [
      "\t Iter [18/24]\t Loss: 1.151329\n"
     ]
    },
    {
     "name": "stdout",
     "output_type": "stream",
     "text": [
      "Epoch [11/30]\t                     Avg Train Loss: 1.163139\t                     Avg Eval Loss: 2.433881\t                     Avg Domain Accuracy: 1.00\t                     Avg Eval Accuracy: 0.10\n"
     ]
    },
    {
     "data": {
      "image/png": "[encoded data removed]",
      "text/plain": [
       "<Figure size 1200x600 with 2 Axes>"
      ]
     },
     "metadata": {},
     "output_type": "display_data"
    },
    {
     "name": "stdout",
     "output_type": "stream",
     "text": [
      "\t Iter [0/24]\t Loss: 1.151848\n"
     ]
    },
    {
     "name": "stdout",
     "output_type": "stream",
     "text": [
      "\t Iter [6/24]\t Loss: 1.151562\n"
     ]
    },
    {
     "name": "stdout",
     "output_type": "stream",
     "text": [
      "\t Iter [12/24]\t Loss: 1.150747\n"
     ]
    },
    {
     "name": "stdout",
     "output_type": "stream",
     "text": [
      "\t Iter [18/24]\t Loss: 1.151213\n"
     ]
    },
    {
     "name": "stdout",
     "output_type": "stream",
     "text": [
      "Epoch [12/30]\t                     Avg Train Loss: 14.530061\t                     Avg Eval Loss: 112.539056\t                     Avg Domain Accuracy: 1.00\t                     Avg Eval Accuracy: 0.10\n"
     ]
    },
    {
     "name": "stdout",
     "output_type": "stream",
     "text": [
      "\t Iter [0/24]\t Loss: 102.342133\n"
     ]
    },
    {
     "name": "stdout",
     "output_type": "stream",
     "text": [
      "\t Iter [6/24]\t Loss: 40.109642\n"
     ]
    },
    {
     "name": "stdout",
     "output_type": "stream",
     "text": [
      "\t Iter [12/24]\t Loss: 10.374294\n"
     ]
    },
    {
     "name": "stdout",
     "output_type": "stream",
     "text": [
      "\t Iter [18/24]\t Loss: 20.421148\n"
     ]
    },
    {
     "name": "stdout",
     "output_type": "stream",
     "text": [
      "Epoch [13/30]\t                     Avg Train Loss: 27.002400\t                     Avg Eval Loss: 6.946274\t                     Avg Domain Accuracy: 1.00\t                     Avg Eval Accuracy: 0.10\n"
     ]
    },
    {
     "name": "stdout",
     "output_type": "stream",
     "text": [
      "\t Iter [0/24]\t Loss: 6.779529\n"
     ]
    },
    {
     "name": "stdout",
     "output_type": "stream",
     "text": [
      "\t Iter [6/24]\t Loss: 3.454674\n"
     ]
    },
    {
     "name": "stdout",
     "output_type": "stream",
     "text": [
      "\t Iter [12/24]\t Loss: 2.072291\n"
     ]
    },
    {
     "name": "stdout",
     "output_type": "stream",
     "text": [
      "\t Iter [18/24]\t Loss: 2.465080\n"
     ]
    },
    {
     "name": "stdout",
     "output_type": "stream",
     "text": [
      "Epoch [14/30]\t                     Avg Train Loss: 5.518766\t                     Avg Eval Loss: 2.400528\t                     Avg Domain Accuracy: 1.00\t                     Avg Eval Accuracy: 0.09\n"
     ]
    },
    {
     "name": "stdout",
     "output_type": "stream",
     "text": [
      "\t Iter [0/24]\t Loss: 2.491653\n"
     ]
    },
    {
     "name": "stdout",
     "output_type": "stream",
     "text": [
      "\t Iter [6/24]\t Loss: 1.374066\n"
     ]
    },
    {
     "name": "stdout",
     "output_type": "stream",
     "text": [
      "\t Iter [12/24]\t Loss: 1.186111\n"
     ]
    },
    {
     "name": "stdout",
     "output_type": "stream",
     "text": [
      "\t Iter [18/24]\t Loss: 1.152719\n"
     ]
    },
    {
     "name": "stdout",
     "output_type": "stream",
     "text": [
      "Epoch [15/30]\t                     Avg Train Loss: 1.524395\t                     Avg Eval Loss: 1.221198\t                     Avg Domain Accuracy: 1.00\t                     Avg Eval Accuracy: 0.09\n"
     ]
    },
    {
     "name": "stdout",
     "output_type": "stream",
     "text": [
      "\t Iter [0/24]\t Loss: 1.241064\n"
     ]
    },
    {
     "name": "stdout",
     "output_type": "stream",
     "text": [
      "\t Iter [6/24]\t Loss: 1.151523\n"
     ]
    },
    {
     "name": "stdout",
     "output_type": "stream",
     "text": [
      "\t Iter [12/24]\t Loss: 1.153055\n"
     ]
    },
    {
     "name": "stdout",
     "output_type": "stream",
     "text": [
      "\t Iter [18/24]\t Loss: 1.151216\n"
     ]
    },
    {
     "name": "stdout",
     "output_type": "stream",
     "text": [
      "Epoch [16/30]\t                     Avg Train Loss: 1.170392\t                     Avg Eval Loss: 1.152519\t                     Avg Domain Accuracy: 1.00\t                     Avg Eval Accuracy: 0.10\n"
     ]
    },
    {
     "name": "stdout",
     "output_type": "stream",
     "text": [
      "\t Iter [0/24]\t Loss: 1.148557\n"
     ]
    },
    {
     "name": "stdout",
     "output_type": "stream",
     "text": [
      "\t Iter [6/24]\t Loss: 1.152489\n"
     ]
    },
    {
     "name": "stdout",
     "output_type": "stream",
     "text": [
      "\t Iter [12/24]\t Loss: 1.151323\n"
     ]
    },
    {
     "name": "stdout",
     "output_type": "stream",
     "text": [
      "\t Iter [18/24]\t Loss: 1.152562\n"
     ]
    },
    {
     "name": "stdout",
     "output_type": "stream",
     "text": [
      "Epoch [17/30]\t                     Avg Train Loss: 1.153936\t                     Avg Eval Loss: 1.151460\t                     Avg Domain Accuracy: 1.00\t                     Avg Eval Accuracy: 0.10\n"
     ]
    },
    {
     "name": "stdout",
     "output_type": "stream",
     "text": [
      "\t Iter [0/24]\t Loss: 1.151222\n"
     ]
    },
    {
     "name": "stdout",
     "output_type": "stream",
     "text": [
      "\t Iter [6/24]\t Loss: 1.151325\n"
     ]
    },
    {
     "name": "stdout",
     "output_type": "stream",
     "text": [
      "\t Iter [12/24]\t Loss: 1.151436\n"
     ]
    },
    {
     "name": "stdout",
     "output_type": "stream",
     "text": [
      "\t Iter [18/24]\t Loss: 1.152112\n"
     ]
    },
    {
     "name": "stdout",
     "output_type": "stream",
     "text": [
      "Epoch [18/30]\t                     Avg Train Loss: 1.151465\t                     Avg Eval Loss: 1.156246\t                     Avg Domain Accuracy: 1.00\t                     Avg Eval Accuracy: 0.10\n"
     ]
    },
    {
     "name": "stdout",
     "output_type": "stream",
     "text": [
      "\t Iter [0/24]\t Loss: 1.156959\n"
     ]
    },
    {
     "name": "stdout",
     "output_type": "stream",
     "text": [
      "\t Iter [6/24]\t Loss: 1.152709\n"
     ]
    },
    {
     "name": "stdout",
     "output_type": "stream",
     "text": [
      "\t Iter [12/24]\t Loss: 1.150453\n"
     ]
    },
    {
     "name": "stdout",
     "output_type": "stream",
     "text": [
      "\t Iter [18/24]\t Loss: 1.151234\n"
     ]
    },
    {
     "name": "stdout",
     "output_type": "stream",
     "text": [
      "Epoch [19/30]\t                     Avg Train Loss: 1.152149\t                     Avg Eval Loss: 1.151446\t                     Avg Domain Accuracy: 1.00\t                     Avg Eval Accuracy: 0.10\n"
     ]
    },
    {
     "name": "stdout",
     "output_type": "stream",
     "text": [
      "\t Iter [0/24]\t Loss: 1.150687\n"
     ]
    },
    {
     "name": "stdout",
     "output_type": "stream",
     "text": [
      "\t Iter [6/24]\t Loss: 1.156786\n"
     ]
    },
    {
     "name": "stdout",
     "output_type": "stream",
     "text": [
      "\t Iter [12/24]\t Loss: 1.152102\n"
     ]
    },
    {
     "name": "stdout",
     "output_type": "stream",
     "text": [
      "\t Iter [18/24]\t Loss: 1.151962\n"
     ]
    },
    {
     "name": "stdout",
     "output_type": "stream",
     "text": [
      "Epoch [20/30]\t                     Avg Train Loss: 1.152568\t                     Avg Eval Loss: 1.151441\t                     Avg Domain Accuracy: 1.00\t                     Avg Eval Accuracy: 0.10\n"
     ]
    },
    {
     "name": "stdout",
     "output_type": "stream",
     "text": [
      "\t Iter [0/24]\t Loss: 1.151677\n"
     ]
    },
    {
     "name": "stdout",
     "output_type": "stream",
     "text": [
      "\t Iter [6/24]\t Loss: 1.149534\n"
     ]
    },
    {
     "name": "stdout",
     "output_type": "stream",
     "text": [
      "\t Iter [12/24]\t Loss: 1.152287\n"
     ]
    },
    {
     "name": "stdout",
     "output_type": "stream",
     "text": [
      "\t Iter [18/24]\t Loss: 1.152380\n"
     ]
    },
    {
     "name": "stdout",
     "output_type": "stream",
     "text": [
      "Epoch [21/30]\t                     Avg Train Loss: 1.151664\t                     Avg Eval Loss: 1.151575\t                     Avg Domain Accuracy: 1.00\t                     Avg Eval Accuracy: 0.10\n"
     ]
    },
    {
     "data": {
      "image/png": "[encoded data removed]",
      "text/plain": [
       "<Figure size 1200x600 with 2 Axes>"
      ]
     },
     "metadata": {},
     "output_type": "display_data"
    },
    {
     "name": "stdout",
     "output_type": "stream",
     "text": [
      "\t Iter [0/24]\t Loss: 1.150961\n"
     ]
    },
    {
     "name": "stdout",
     "output_type": "stream",
     "text": [
      "\t Iter [6/24]\t Loss: 1.394048\n"
     ]
    },
    {
     "name": "stdout",
     "output_type": "stream",
     "text": [
      "\t Iter [12/24]\t Loss: 1.151412\n"
     ]
    },
    {
     "name": "stdout",
     "output_type": "stream",
     "text": [
      "\t Iter [18/24]\t Loss: 1.151266\n"
     ]
    },
    {
     "name": "stdout",
     "output_type": "stream",
     "text": [
      "Epoch [22/30]\t                     Avg Train Loss: 1.163184\t                     Avg Eval Loss: 1.151432\t                     Avg Domain Accuracy: 1.00\t                     Avg Eval Accuracy: 0.10\n"
     ]
    },
    {
     "name": "stdout",
     "output_type": "stream",
     "text": [
      "\t Iter [0/24]\t Loss: 1.151343\n"
     ]
    },
    {
     "name": "stdout",
     "output_type": "stream",
     "text": [
      "\t Iter [6/24]\t Loss: 1.157427\n"
     ]
    },
    {
     "name": "stdout",
     "output_type": "stream",
     "text": [
      "\t Iter [12/24]\t Loss: 1.151790\n"
     ]
    },
    {
     "name": "stdout",
     "output_type": "stream",
     "text": [
      "\t Iter [18/24]\t Loss: 1.152331\n"
     ]
    },
    {
     "name": "stdout",
     "output_type": "stream",
     "text": [
      "Epoch [23/30]\t                     Avg Train Loss: 1.152611\t                     Avg Eval Loss: 1.151429\t                     Avg Domain Accuracy: 1.00\t                     Avg Eval Accuracy: 0.10\n"
     ]
    },
    {
     "name": "stdout",
     "output_type": "stream",
     "text": [
      "\t Iter [0/24]\t Loss: 1.151333\n"
     ]
    },
    {
     "name": "stdout",
     "output_type": "stream",
     "text": [
      "\t Iter [6/24]\t Loss: 1.152399\n"
     ]
    },
    {
     "name": "stdout",
     "output_type": "stream",
     "text": [
      "\t Iter [12/24]\t Loss: 1.150484\n"
     ]
    },
    {
     "name": "stdout",
     "output_type": "stream",
     "text": [
      "\t Iter [18/24]\t Loss: 1.150588\n"
     ]
    },
    {
     "name": "stdout",
     "output_type": "stream",
     "text": [
      "Epoch [24/30]\t                     Avg Train Loss: 1.151638\t                     Avg Eval Loss: 1.151426\t                     Avg Domain Accuracy: 1.00\t                     Avg Eval Accuracy: 0.10\n"
     ]
    },
    {
     "name": "stdout",
     "output_type": "stream",
     "text": [
      "\t Iter [0/24]\t Loss: 1.151516\n"
     ]
    },
    {
     "name": "stdout",
     "output_type": "stream",
     "text": [
      "\t Iter [6/24]\t Loss: 1.151482\n"
     ]
    },
    {
     "name": "stdout",
     "output_type": "stream",
     "text": [
      "\t Iter [12/24]\t Loss: 1.152716\n"
     ]
    },
    {
     "name": "stdout",
     "output_type": "stream",
     "text": [
      "\t Iter [18/24]\t Loss: 1.153125\n"
     ]
    },
    {
     "name": "stdout",
     "output_type": "stream",
     "text": [
      "Epoch [25/30]\t                     Avg Train Loss: 1.151313\t                     Avg Eval Loss: 1.151472\t                     Avg Domain Accuracy: 1.00\t                     Avg Eval Accuracy: 0.10\n"
     ]
    },
    {
     "name": "stdout",
     "output_type": "stream",
     "text": [
      "\t Iter [0/24]\t Loss: 1.151892\n"
     ]
    },
    {
     "name": "stdout",
     "output_type": "stream",
     "text": [
      "\t Iter [6/24]\t Loss: 1.149924\n"
     ]
    },
    {
     "name": "stdout",
     "output_type": "stream",
     "text": [
      "\t Iter [12/24]\t Loss: 1.151408\n"
     ]
    },
    {
     "name": "stdout",
     "output_type": "stream",
     "text": [
      "\t Iter [18/24]\t Loss: 1.151701\n"
     ]
    },
    {
     "name": "stdout",
     "output_type": "stream",
     "text": [
      "Epoch [26/30]\t                     Avg Train Loss: 1.151086\t                     Avg Eval Loss: 1.151231\t                     Avg Domain Accuracy: 1.00\t                     Avg Eval Accuracy: 0.10\n"
     ]
    },
    {
     "name": "stdout",
     "output_type": "stream",
     "text": [
      "\t Iter [0/24]\t Loss: 1.151690\n"
     ]
    },
    {
     "name": "stdout",
     "output_type": "stream",
     "text": [
      "\t Iter [6/24]\t Loss: 1.151552\n"
     ]
    },
    {
     "name": "stdout",
     "output_type": "stream",
     "text": [
      "\t Iter [12/24]\t Loss: 1.151044\n"
     ]
    },
    {
     "name": "stdout",
     "output_type": "stream",
     "text": [
      "\t Iter [18/24]\t Loss: 1.150468\n"
     ]
    },
    {
     "name": "stdout",
     "output_type": "stream",
     "text": [
      "Epoch [27/30]\t                     Avg Train Loss: 1.151114\t                     Avg Eval Loss: 1.151369\t                     Avg Domain Accuracy: 1.00\t                     Avg Eval Accuracy: 0.10\n"
     ]
    },
    {
     "name": "stdout",
     "output_type": "stream",
     "text": [
      "\t Iter [0/24]\t Loss: 1.151390\n"
     ]
    },
    {
     "name": "stdout",
     "output_type": "stream",
     "text": [
      "\t Iter [6/24]\t Loss: 1.150495\n"
     ]
    },
    {
     "name": "stdout",
     "output_type": "stream",
     "text": [
      "\t Iter [12/24]\t Loss: 1.151254\n"
     ]
    },
    {
     "name": "stdout",
     "output_type": "stream",
     "text": [
      "\t Iter [18/24]\t Loss: 1.153389\n"
     ]
    },
    {
     "name": "stdout",
     "output_type": "stream",
     "text": [
      "Epoch [28/30]\t                     Avg Train Loss: 1.150885\t                     Avg Eval Loss: 1.151307\t                     Avg Domain Accuracy: 1.00\t                     Avg Eval Accuracy: 0.09\n"
     ]
    },
    {
     "name": "stdout",
     "output_type": "stream",
     "text": [
      "\t Iter [0/24]\t Loss: 1.152455\n"
     ]
    },
    {
     "name": "stdout",
     "output_type": "stream",
     "text": [
      "\t Iter [6/24]\t Loss: 1.152071\n"
     ]
    },
    {
     "name": "stdout",
     "output_type": "stream",
     "text": [
      "\t Iter [12/24]\t Loss: 1.148301\n"
     ]
    },
    {
     "name": "stdout",
     "output_type": "stream",
     "text": [
      "\t Iter [18/24]\t Loss: 1.151513\n"
     ]
    },
    {
     "name": "stdout",
     "output_type": "stream",
     "text": [
      "Epoch [29/30]\t                     Avg Train Loss: 1.151179\t                     Avg Eval Loss: 1.151007\t                     Avg Domain Accuracy: 1.00\t                     Avg Eval Accuracy: 0.10\n"
     ]
    },
    {
     "name": "stdout",
     "output_type": "stream",
     "text": [
      "\t Iter [0/24]\t Loss: 1.152397\n"
     ]
    },
    {
     "name": "stdout",
     "output_type": "stream",
     "text": [
      "\t Iter [6/24]\t Loss: 1.152817\n"
     ]
    },
    {
     "name": "stdout",
     "output_type": "stream",
     "text": [
      "\t Iter [12/24]\t Loss: 1.152034\n"
     ]
    },
    {
     "name": "stdout",
     "output_type": "stream",
     "text": [
      "\t Iter [18/24]\t Loss: 1.147998\n"
     ]
    },
    {
     "name": "stdout",
     "output_type": "stream",
     "text": [
      "Epoch [30/30]\t                     Avg Train Loss: 1.150837\t                     Avg Eval Loss: 1.151042\t                     Avg Domain Accuracy: 1.00\t                     Avg Eval Accuracy: 0.10\n",
      "weights_save_path: ./weights/raw/name=NaiveSample__n_classes=10__v2_samples_per_answer=300__abs_samples_per_answer=150__source_domain=abs__base_lr=0.001__domain_adaptation_method=naive__.pth\n"
     ]
    },
    {
     "name": "stdout",
     "output_type": "stream",
     "text": [
      "Number of Common Labels = 25 | n_classes = 10\n",
      "Labels: ['man', 'yes', 'no', 'brown', 'dog', '2', '1', 'gray', '3', 'food']\n",
      "V2: \tTrain size = 2400           | Val size = 600 | Total = 3000\n",
      "Abs: \tTrain size = 1200           | Val size = 300 | Total = 1500\n",
      "--------------------\n"
     ]
    },
    {
     "name": "stdout",
     "output_type": "stream",
     "text": [
      "\t Iter [0/24]\t Loss: 1.497996\n"
     ]
    },
    {
     "name": "stdout",
     "output_type": "stream",
     "text": [
      "\t Iter [6/24]\t Loss: 1.187608\n"
     ]
    },
    {
     "name": "stdout",
     "output_type": "stream",
     "text": [
      "\t Iter [12/24]\t Loss: 1.159696\n"
     ]
    },
    {
     "name": "stdout",
     "output_type": "stream",
     "text": [
      "\t Iter [18/24]\t Loss: 1.154004\n"
     ]
    },
    {
     "name": "stdout",
     "output_type": "stream",
     "text": [
      "Epoch [1/30]\t                     Avg Train Loss: 1.215164\t                     Avg Eval Loss: 1.152441\t                     Avg Domain Accuracy: 1.00\t                     Avg Eval Accuracy: 0.10\n"
     ]
    },
    {
     "name": "stdout",
     "output_type": "stream",
     "text": [
      "\t Iter [0/24]\t Loss: 1.151027\n"
     ]
    },
    {
     "name": "stdout",
     "output_type": "stream",
     "text": [
      "\t Iter [6/24]\t Loss: 1.150292\n"
     ]
    },
    {
     "name": "stdout",
     "output_type": "stream",
     "text": [
      "\t Iter [12/24]\t Loss: 1.075931\n"
     ]
    },
    {
     "name": "stdout",
     "output_type": "stream",
     "text": [
      "\t Iter [18/24]\t Loss: 1.627439\n"
     ]
    },
    {
     "name": "stdout",
     "output_type": "stream",
     "text": [
      "Epoch [2/30]\t                     Avg Train Loss: 1.601559\t                     Avg Eval Loss: 2.860644\t                     Avg Domain Accuracy: 0.99\t                     Avg Eval Accuracy: 0.10\n"
     ]
    },
    {
     "name": "stdout",
     "output_type": "stream",
     "text": [
      "\t Iter [0/24]\t Loss: 1.977675\n"
     ]
    },
    {
     "name": "stdout",
     "output_type": "stream",
     "text": [
      "\t Iter [6/24]\t Loss: 3.088390\n"
     ]
    },
    {
     "name": "stdout",
     "output_type": "stream",
     "text": [
      "\t Iter [12/24]\t Loss: 1.988186\n"
     ]
    },
    {
     "name": "stdout",
     "output_type": "stream",
     "text": [
      "\t Iter [18/24]\t Loss: 9.515587\n"
     ]
    },
    {
     "name": "stdout",
     "output_type": "stream",
     "text": [
      "Epoch [3/30]\t                     Avg Train Loss: 33.269723\t                     Avg Eval Loss: 1.597330\t                     Avg Domain Accuracy: 0.93\t                     Avg Eval Accuracy: 0.09\n"
     ]
    },
    {
     "name": "stdout",
     "output_type": "stream",
     "text": [
      "\t Iter [0/24]\t Loss: 1.571479\n"
     ]
    },
    {
     "name": "stdout",
     "output_type": "stream",
     "text": [
      "\t Iter [6/24]\t Loss: 1.736385\n"
     ]
    },
    {
     "name": "stdout",
     "output_type": "stream",
     "text": [
      "\t Iter [12/24]\t Loss: 1.214260\n"
     ]
    },
    {
     "name": "stdout",
     "output_type": "stream",
     "text": [
      "\t Iter [18/24]\t Loss: 1.217640\n"
     ]
    },
    {
     "name": "stdout",
     "output_type": "stream",
     "text": [
      "Epoch [4/30]\t                     Avg Train Loss: 1.482609\t                     Avg Eval Loss: 1.284408\t                     Avg Domain Accuracy: 1.00\t                     Avg Eval Accuracy: 0.09\n"
     ]
    },
    {
     "name": "stdout",
     "output_type": "stream",
     "text": [
      "\t Iter [0/24]\t Loss: 1.158451\n"
     ]
    },
    {
     "name": "stdout",
     "output_type": "stream",
     "text": [
      "\t Iter [6/24]\t Loss: 1.156638\n"
     ]
    },
    {
     "name": "stdout",
     "output_type": "stream",
     "text": [
      "\t Iter [12/24]\t Loss: 1.190760\n"
     ]
    },
    {
     "name": "stdout",
     "output_type": "stream",
     "text": [
      "\t Iter [18/24]\t Loss: 1.147955\n"
     ]
    },
    {
     "name": "stdout",
     "output_type": "stream",
     "text": [
      "Epoch [5/30]\t                     Avg Train Loss: 1.167714\t                     Avg Eval Loss: 1.328106\t                     Avg Domain Accuracy: 1.00\t                     Avg Eval Accuracy: 0.09\n"
     ]
    },
    {
     "name": "stdout",
     "output_type": "stream",
     "text": [
      "\t Iter [0/24]\t Loss: 1.154500\n"
     ]
    },
    {
     "name": "stdout",
     "output_type": "stream",
     "text": [
      "\t Iter [6/24]\t Loss: 1.158003\n"
     ]
    },
    {
     "name": "stdout",
     "output_type": "stream",
     "text": [
      "\t Iter [12/24]\t Loss: 1.201316\n"
     ]
    },
    {
     "name": "stdout",
     "output_type": "stream",
     "text": [
      "\t Iter [18/24]\t Loss: 1.153915\n"
     ]
    },
    {
     "name": "stdout",
     "output_type": "stream",
     "text": [
      "Epoch [6/30]\t                     Avg Train Loss: 1.166242\t                     Avg Eval Loss: 1.848600\t                     Avg Domain Accuracy: 1.00\t                     Avg Eval Accuracy: 0.11\n"
     ]
    },
    {
     "name": "stdout",
     "output_type": "stream",
     "text": [
      "\t Iter [0/24]\t Loss: 1.244354\n"
     ]
    },
    {
     "name": "stdout",
     "output_type": "stream",
     "text": [
      "\t Iter [6/24]\t Loss: 1.150978\n"
     ]
    },
    {
     "name": "stdout",
     "output_type": "stream",
     "text": [
      "\t Iter [12/24]\t Loss: 1.150021\n"
     ]
    },
    {
     "name": "stdout",
     "output_type": "stream",
     "text": [
      "\t Iter [18/24]\t Loss: 1.153903\n"
     ]
    },
    {
     "name": "stdout",
     "output_type": "stream",
     "text": [
      "Epoch [7/30]\t                     Avg Train Loss: 1.188819\t                     Avg Eval Loss: 1.251067\t                     Avg Domain Accuracy: 1.00\t                     Avg Eval Accuracy: 0.09\n"
     ]
    },
    {
     "name": "stdout",
     "output_type": "stream",
     "text": [
      "\t Iter [0/24]\t Loss: 1.148662\n"
     ]
    },
    {
     "name": "stdout",
     "output_type": "stream",
     "text": [
      "\t Iter [6/24]\t Loss: 1.154576\n"
     ]
    },
    {
     "name": "stdout",
     "output_type": "stream",
     "text": [
      "\t Iter [12/24]\t Loss: 1.160746\n"
     ]
    },
    {
     "name": "stdout",
     "output_type": "stream",
     "text": [
      "\t Iter [18/24]\t Loss: 1.231807\n"
     ]
    },
    {
     "name": "stdout",
     "output_type": "stream",
     "text": [
      "Epoch [8/30]\t                     Avg Train Loss: 1.165892\t                     Avg Eval Loss: 1.154168\t                     Avg Domain Accuracy: 1.00\t                     Avg Eval Accuracy: 0.11\n"
     ]
    },
    {
     "name": "stdout",
     "output_type": "stream",
     "text": [
      "\t Iter [0/24]\t Loss: 1.141102\n"
     ]
    },
    {
     "name": "stdout",
     "output_type": "stream",
     "text": [
      "\t Iter [6/24]\t Loss: 1.170187\n"
     ]
    },
    {
     "name": "stdout",
     "output_type": "stream",
     "text": [
      "\t Iter [12/24]\t Loss: 1.154977\n"
     ]
    },
    {
     "name": "stdout",
     "output_type": "stream",
     "text": [
      "\t Iter [18/24]\t Loss: 1.150214\n"
     ]
    },
    {
     "name": "stdout",
     "output_type": "stream",
     "text": [
      "Epoch [9/30]\t                     Avg Train Loss: 1.158827\t                     Avg Eval Loss: 1.175974\t                     Avg Domain Accuracy: 1.00\t                     Avg Eval Accuracy: 0.10\n"
     ]
    },
    {
     "name": "stdout",
     "output_type": "stream",
     "text": [
      "\t Iter [0/24]\t Loss: 1.174181\n"
     ]
    },
    {
     "name": "stdout",
     "output_type": "stream",
     "text": [
      "\t Iter [6/24]\t Loss: 1.151041\n"
     ]
    },
    {
     "name": "stdout",
     "output_type": "stream",
     "text": [
      "\t Iter [12/24]\t Loss: 1.214663\n"
     ]
    },
    {
     "name": "stdout",
     "output_type": "stream",
     "text": [
      "\t Iter [18/24]\t Loss: 1.151850\n"
     ]
    },
    {
     "name": "stdout",
     "output_type": "stream",
     "text": [
      "Epoch [10/30]\t                     Avg Train Loss: 1.158908\t                     Avg Eval Loss: 1.151683\t                     Avg Domain Accuracy: 1.00\t                     Avg Eval Accuracy: 0.10\n"
     ]
    },
    {
     "name": "stdout",
     "output_type": "stream",
     "text": [
      "\t Iter [0/24]\t Loss: 1.150744\n"
     ]
    },
    {
     "name": "stdout",
     "output_type": "stream",
     "text": [
      "\t Iter [6/24]\t Loss: 1.152750\n"
     ]
    },
    {
     "name": "stdout",
     "output_type": "stream",
     "text": [
      "\t Iter [12/24]\t Loss: 1.151399\n"
     ]
    },
    {
     "name": "stdout",
     "output_type": "stream",
     "text": [
      "\t Iter [18/24]\t Loss: 1.151741\n"
     ]
    },
    {
     "name": "stdout",
     "output_type": "stream",
     "text": [
      "Epoch [11/30]\t                     Avg Train Loss: 1.151854\t                     Avg Eval Loss: 1.151347\t                     Avg Domain Accuracy: 1.00\t                     Avg Eval Accuracy: 0.10\n"
     ]
    },
    {
     "data": {
      "image/png": "[encoded data removed]",
      "text/plain": [
       "<Figure size 1200x600 with 2 Axes>"
      ]
     },
     "metadata": {},
     "output_type": "display_data"
    },
    {
     "name": "stdout",
     "output_type": "stream",
     "text": [
      "\t Iter [0/24]\t Loss: 1.151283\n"
     ]
    },
    {
     "name": "stdout",
     "output_type": "stream",
     "text": [
      "\t Iter [6/24]\t Loss: 1.151495\n"
     ]
    },
    {
     "name": "stdout",
     "output_type": "stream",
     "text": [
      "\t Iter [12/24]\t Loss: 1.151498\n"
     ]
    },
    {
     "name": "stdout",
     "output_type": "stream",
     "text": [
      "\t Iter [18/24]\t Loss: 1.151159\n"
     ]
    },
    {
     "name": "stdout",
     "output_type": "stream",
     "text": [
      "Epoch [12/30]\t                     Avg Train Loss: 1.151379\t                     Avg Eval Loss: 1.151331\t                     Avg Domain Accuracy: 1.00\t                     Avg Eval Accuracy: 0.10\n"
     ]
    },
    {
     "name": "stdout",
     "output_type": "stream",
     "text": [
      "\t Iter [0/24]\t Loss: 1.151252\n"
     ]
    },
    {
     "name": "stdout",
     "output_type": "stream",
     "text": [
      "\t Iter [6/24]\t Loss: 1.152363\n"
     ]
    },
    {
     "name": "stdout",
     "output_type": "stream",
     "text": [
      "\t Iter [12/24]\t Loss: 1.151642\n"
     ]
    },
    {
     "name": "stdout",
     "output_type": "stream",
     "text": [
      "\t Iter [18/24]\t Loss: 1.151034\n"
     ]
    },
    {
     "name": "stdout",
     "output_type": "stream",
     "text": [
      "Epoch [13/30]\t                     Avg Train Loss: 1.176449\t                     Avg Eval Loss: 1.151319\t                     Avg Domain Accuracy: 1.00\t                     Avg Eval Accuracy: 0.10\n"
     ]
    },
    {
     "name": "stdout",
     "output_type": "stream",
     "text": [
      "\t Iter [0/24]\t Loss: 1.151212\n"
     ]
    },
    {
     "name": "stdout",
     "output_type": "stream",
     "text": [
      "\t Iter [6/24]\t Loss: 1.151942\n"
     ]
    },
    {
     "name": "stdout",
     "output_type": "stream",
     "text": [
      "\t Iter [12/24]\t Loss: 1.151640\n"
     ]
    },
    {
     "name": "stdout",
     "output_type": "stream",
     "text": [
      "\t Iter [18/24]\t Loss: 1.154089\n"
     ]
    },
    {
     "name": "stdout",
     "output_type": "stream",
     "text": [
      "Epoch [14/30]\t                     Avg Train Loss: 1.153528\t                     Avg Eval Loss: 1.151419\t                     Avg Domain Accuracy: 1.00\t                     Avg Eval Accuracy: 0.10\n"
     ]
    },
    {
     "name": "stdout",
     "output_type": "stream",
     "text": [
      "\t Iter [0/24]\t Loss: 1.150944\n"
     ]
    },
    {
     "name": "stdout",
     "output_type": "stream",
     "text": [
      "\t Iter [6/24]\t Loss: 1.150644\n"
     ]
    },
    {
     "name": "stdout",
     "output_type": "stream",
     "text": [
      "\t Iter [12/24]\t Loss: 1.151226\n"
     ]
    },
    {
     "name": "stdout",
     "output_type": "stream",
     "text": [
      "\t Iter [18/24]\t Loss: 1.151131\n"
     ]
    },
    {
     "name": "stdout",
     "output_type": "stream",
     "text": [
      "Epoch [15/30]\t                     Avg Train Loss: 1.151928\t                     Avg Eval Loss: 1.151878\t                     Avg Domain Accuracy: 1.00\t                     Avg Eval Accuracy: 0.10\n"
     ]
    },
    {
     "name": "stdout",
     "output_type": "stream",
     "text": [
      "\t Iter [0/24]\t Loss: 1.149641\n"
     ]
    },
    {
     "name": "stdout",
     "output_type": "stream",
     "text": [
      "\t Iter [6/24]\t Loss: 1.151443\n"
     ]
    },
    {
     "name": "stdout",
     "output_type": "stream",
     "text": [
      "\t Iter [12/24]\t Loss: 1.158965\n"
     ]
    },
    {
     "name": "stdout",
     "output_type": "stream",
     "text": [
      "\t Iter [18/24]\t Loss: 1.153268\n"
     ]
    },
    {
     "name": "stdout",
     "output_type": "stream",
     "text": [
      "Epoch [16/30]\t                     Avg Train Loss: 1.152211\t                     Avg Eval Loss: 1.151309\t                     Avg Domain Accuracy: 1.00\t                     Avg Eval Accuracy: 0.10\n"
     ]
    },
    {
     "name": "stdout",
     "output_type": "stream",
     "text": [
      "\t Iter [0/24]\t Loss: 1.151069\n"
     ]
    },
    {
     "name": "stdout",
     "output_type": "stream",
     "text": [
      "\t Iter [6/24]\t Loss: 1.151200\n"
     ]
    },
    {
     "name": "stdout",
     "output_type": "stream",
     "text": [
      "\t Iter [12/24]\t Loss: 1.151315\n"
     ]
    },
    {
     "name": "stdout",
     "output_type": "stream",
     "text": [
      "\t Iter [18/24]\t Loss: 1.151903\n"
     ]
    },
    {
     "name": "stdout",
     "output_type": "stream",
     "text": [
      "Epoch [17/30]\t                     Avg Train Loss: 1.151866\t                     Avg Eval Loss: 1.151278\t                     Avg Domain Accuracy: 1.00\t                     Avg Eval Accuracy: 0.10\n"
     ]
    },
    {
     "name": "stdout",
     "output_type": "stream",
     "text": [
      "\t Iter [0/24]\t Loss: 1.151278\n"
     ]
    },
    {
     "name": "stdout",
     "output_type": "stream",
     "text": [
      "\t Iter [6/24]\t Loss: 1.151288\n"
     ]
    },
    {
     "name": "stdout",
     "output_type": "stream",
     "text": [
      "\t Iter [12/24]\t Loss: 1.151021\n"
     ]
    },
    {
     "name": "stdout",
     "output_type": "stream",
     "text": [
      "\t Iter [18/24]\t Loss: 1.151426\n"
     ]
    },
    {
     "name": "stdout",
     "output_type": "stream",
     "text": [
      "Epoch [18/30]\t                     Avg Train Loss: 1.152013\t                     Avg Eval Loss: 1.151309\t                     Avg Domain Accuracy: 1.00\t                     Avg Eval Accuracy: 0.10\n"
     ]
    },
    {
     "name": "stdout",
     "output_type": "stream",
     "text": [
      "\t Iter [0/24]\t Loss: 1.151451\n"
     ]
    },
    {
     "name": "stdout",
     "output_type": "stream",
     "text": [
      "\t Iter [6/24]\t Loss: 1.151743\n"
     ]
    },
    {
     "name": "stdout",
     "output_type": "stream",
     "text": [
      "\t Iter [12/24]\t Loss: 1.151176\n"
     ]
    },
    {
     "name": "stdout",
     "output_type": "stream",
     "text": [
      "\t Iter [18/24]\t Loss: 1.150786\n"
     ]
    },
    {
     "name": "stdout",
     "output_type": "stream",
     "text": [
      "Epoch [19/30]\t                     Avg Train Loss: 1.151583\t                     Avg Eval Loss: 1.151309\t                     Avg Domain Accuracy: 1.00\t                     Avg Eval Accuracy: 0.10\n"
     ]
    },
    {
     "name": "stdout",
     "output_type": "stream",
     "text": [
      "\t Iter [0/24]\t Loss: 1.150964\n"
     ]
    },
    {
     "name": "stdout",
     "output_type": "stream",
     "text": [
      "\t Iter [6/24]\t Loss: 1.151267\n"
     ]
    },
    {
     "name": "stdout",
     "output_type": "stream",
     "text": [
      "\t Iter [12/24]\t Loss: 1.151215\n"
     ]
    },
    {
     "name": "stdout",
     "output_type": "stream",
     "text": [
      "\t Iter [18/24]\t Loss: 1.150225\n"
     ]
    },
    {
     "name": "stdout",
     "output_type": "stream",
     "text": [
      "Epoch [20/30]\t                     Avg Train Loss: 1.151116\t                     Avg Eval Loss: 1.151053\t                     Avg Domain Accuracy: 1.00\t                     Avg Eval Accuracy: 0.10\n"
     ]
    },
    {
     "name": "stdout",
     "output_type": "stream",
     "text": [
      "\t Iter [0/24]\t Loss: 1.147546\n"
     ]
    },
    {
     "name": "stdout",
     "output_type": "stream",
     "text": [
      "\t Iter [6/24]\t Loss: 1.148467\n"
     ]
    },
    {
     "name": "stdout",
     "output_type": "stream",
     "text": [
      "\t Iter [12/24]\t Loss: 1.148569\n"
     ]
    },
    {
     "name": "stdout",
     "output_type": "stream",
     "text": [
      "\t Iter [18/24]\t Loss: 1.159665\n"
     ]
    },
    {
     "name": "stdout",
     "output_type": "stream",
     "text": [
      "Epoch [21/30]\t                     Avg Train Loss: 1.149645\t                     Avg Eval Loss: 1.151338\t                     Avg Domain Accuracy: 1.00\t                     Avg Eval Accuracy: 0.10\n"
     ]
    },
    {
     "data": {
      "image/png": "[encoded data removed]",
      "text/plain": [
       "<Figure size 1200x600 with 2 Axes>"
      ]
     },
     "metadata": {},
     "output_type": "display_data"
    },
    {
     "name": "stdout",
     "output_type": "stream",
     "text": [
      "\t Iter [0/24]\t Loss: 1.151917\n"
     ]
    },
    {
     "name": "stdout",
     "output_type": "stream",
     "text": [
      "\t Iter [6/24]\t Loss: 1.147190\n"
     ]
    },
    {
     "name": "stdout",
     "output_type": "stream",
     "text": [
      "\t Iter [12/24]\t Loss: 1.155747\n"
     ]
    },
    {
     "name": "stdout",
     "output_type": "stream",
     "text": [
      "\t Iter [18/24]\t Loss: 1.151348\n"
     ]
    },
    {
     "name": "stdout",
     "output_type": "stream",
     "text": [
      "Epoch [22/30]\t                     Avg Train Loss: 1.151378\t                     Avg Eval Loss: 1.152421\t                     Avg Domain Accuracy: 1.00\t                     Avg Eval Accuracy: 0.10\n"
     ]
    },
    {
     "name": "stdout",
     "output_type": "stream",
     "text": [
      "\t Iter [0/24]\t Loss: 1.152420\n"
     ]
    },
    {
     "name": "stdout",
     "output_type": "stream",
     "text": [
      "\t Iter [6/24]\t Loss: 1.149944\n"
     ]
    },
    {
     "name": "stdout",
     "output_type": "stream",
     "text": [
      "\t Iter [12/24]\t Loss: 1.151724\n"
     ]
    },
    {
     "name": "stdout",
     "output_type": "stream",
     "text": [
      "\t Iter [18/24]\t Loss: 1.150288\n"
     ]
    },
    {
     "name": "stdout",
     "output_type": "stream",
     "text": [
      "Epoch [23/30]\t                     Avg Train Loss: 1.150321\t                     Avg Eval Loss: 1.150272\t                     Avg Domain Accuracy: 1.00\t                     Avg Eval Accuracy: 0.12\n"
     ]
    },
    {
     "name": "stdout",
     "output_type": "stream",
     "text": [
      "\t Iter [0/24]\t Loss: 1.145024\n"
     ]
    },
    {
     "name": "stdout",
     "output_type": "stream",
     "text": [
      "\t Iter [6/24]\t Loss: 1.154227\n"
     ]
    },
    {
     "name": "stdout",
     "output_type": "stream",
     "text": [
      "\t Iter [12/24]\t Loss: 1.155343\n"
     ]
    },
    {
     "name": "stdout",
     "output_type": "stream",
     "text": [
      "\t Iter [18/24]\t Loss: 1.149820\n"
     ]
    },
    {
     "name": "stdout",
     "output_type": "stream",
     "text": [
      "Epoch [24/30]\t                     Avg Train Loss: 1.148162\t                     Avg Eval Loss: 1.153947\t                     Avg Domain Accuracy: 1.00\t                     Avg Eval Accuracy: 0.10\n"
     ]
    },
    {
     "name": "stdout",
     "output_type": "stream",
     "text": [
      "\t Iter [0/24]\t Loss: 1.155543\n"
     ]
    },
    {
     "name": "stdout",
     "output_type": "stream",
     "text": [
      "\t Iter [6/24]\t Loss: 1.143559\n"
     ]
    },
    {
     "name": "stdout",
     "output_type": "stream",
     "text": [
      "\t Iter [12/24]\t Loss: 1.140855\n"
     ]
    },
    {
     "name": "stdout",
     "output_type": "stream",
     "text": [
      "\t Iter [18/24]\t Loss: 1.144963\n"
     ]
    },
    {
     "name": "stdout",
     "output_type": "stream",
     "text": [
      "Epoch [25/30]\t                     Avg Train Loss: 1.147404\t                     Avg Eval Loss: 1.151688\t                     Avg Domain Accuracy: 1.00\t                     Avg Eval Accuracy: 0.11\n"
     ]
    },
    {
     "name": "stdout",
     "output_type": "stream",
     "text": [
      "\t Iter [0/24]\t Loss: 1.153409\n"
     ]
    },
    {
     "name": "stdout",
     "output_type": "stream",
     "text": [
      "\t Iter [6/24]\t Loss: 1.142103\n"
     ]
    },
    {
     "name": "stdout",
     "output_type": "stream",
     "text": [
      "\t Iter [12/24]\t Loss: 1.140606\n"
     ]
    },
    {
     "name": "stdout",
     "output_type": "stream",
     "text": [
      "\t Iter [18/24]\t Loss: 1.145690\n"
     ]
    },
    {
     "name": "stdout",
     "output_type": "stream",
     "text": [
      "Epoch [26/30]\t                     Avg Train Loss: 1.147019\t                     Avg Eval Loss: 1.152952\t                     Avg Domain Accuracy: 1.00\t                     Avg Eval Accuracy: 0.11\n"
     ]
    },
    {
     "name": "stdout",
     "output_type": "stream",
     "text": [
      "\t Iter [0/24]\t Loss: 1.140254\n"
     ]
    },
    {
     "name": "stdout",
     "output_type": "stream",
     "text": [
      "\t Iter [6/24]\t Loss: 1.152024\n"
     ]
    },
    {
     "name": "stdout",
     "output_type": "stream",
     "text": [
      "\t Iter [12/24]\t Loss: 1.146023\n"
     ]
    },
    {
     "name": "stdout",
     "output_type": "stream",
     "text": [
      "\t Iter [18/24]\t Loss: 1.135015\n"
     ]
    },
    {
     "name": "stdout",
     "output_type": "stream",
     "text": [
      "Epoch [27/30]\t                     Avg Train Loss: 1.144168\t                     Avg Eval Loss: 1.157675\t                     Avg Domain Accuracy: 1.00\t                     Avg Eval Accuracy: 0.11\n"
     ]
    },
    {
     "name": "stdout",
     "output_type": "stream",
     "text": [
      "\t Iter [0/24]\t Loss: 1.139582\n"
     ]
    },
    {
     "name": "stdout",
     "output_type": "stream",
     "text": [
      "\t Iter [6/24]\t Loss: 1.148995\n"
     ]
    },
    {
     "name": "stdout",
     "output_type": "stream",
     "text": [
      "\t Iter [12/24]\t Loss: 1.139515\n"
     ]
    },
    {
     "name": "stdout",
     "output_type": "stream",
     "text": [
      "\t Iter [18/24]\t Loss: 1.137101\n"
     ]
    },
    {
     "name": "stdout",
     "output_type": "stream",
     "text": [
      "Epoch [28/30]\t                     Avg Train Loss: 1.143601\t                     Avg Eval Loss: 1.155070\t                     Avg Domain Accuracy: 1.00\t                     Avg Eval Accuracy: 0.11\n"
     ]
    },
    {
     "name": "stdout",
     "output_type": "stream",
     "text": [
      "\t Iter [0/24]\t Loss: 1.138881\n"
     ]
    },
    {
     "name": "stdout",
     "output_type": "stream",
     "text": [
      "\t Iter [6/24]\t Loss: 1.134895\n"
     ]
    },
    {
     "name": "stdout",
     "output_type": "stream",
     "text": [
      "\t Iter [12/24]\t Loss: 1.149125\n"
     ]
    },
    {
     "name": "stdout",
     "output_type": "stream",
     "text": [
      "\t Iter [18/24]\t Loss: 1.138814\n"
     ]
    },
    {
     "name": "stdout",
     "output_type": "stream",
     "text": [
      "Epoch [29/30]\t                     Avg Train Loss: 1.142206\t                     Avg Eval Loss: 1.159771\t                     Avg Domain Accuracy: 1.00\t                     Avg Eval Accuracy: 0.11\n"
     ]
    }
   ],
   "source": [
    "import os\n",
    "os.chdir('/workspace')\n",
    "\n",
    "from trainer import *\n",
    "\n",
    "cfg = {\n",
    "    ### META ###\n",
    "    'name': 'NaiveSample',\n",
    "\n",
    "\n",
    "    ### DataLoader ###\n",
    "    'n_classes': 10,\n",
    "    'v2_samples_per_answer': 300,\n",
    "    'abs_samples_per_answer': 150,\n",
    "    'source_domain': 'abs',\n",
    "    \n",
    "    ### VLModel ###\n",
    "    'image_encoder': 'facebook/dinov2-base',\n",
    "    'text_encoder': 'bert-base-uncased',\n",
    "    \n",
    "    ## Embedder\n",
    "    'num_attn_heads': 8,\n",
    "    'fusion_mode': 'cat',\n",
    "    'num_stacked_attn': 1, \n",
    "    \n",
    "    'criss_cross__drop_p': 0.0,\n",
    "    'post_concat__drop_p': 0.0, \n",
    "    'embed_attn__add_residual': False,\n",
    "    'embed_attn__drop_p': 0.0,\n",
    "\n",
    "    ## Label Classifier\n",
    "    'label_classifier__use_bn': False,\n",
    "    'label_classifier__drop_p': 0.0,\n",
    "\n",
    "    ## Domain Classifier\n",
    "    'domain_classifier__use_bn': False,\n",
    "    'domain_classifier__drop_p': 0.0,\n",
    "    'domain_classifier__repeat_layers': [0, 0], \n",
    "\n",
    "    ### Objective ###\n",
    "    # loss fn\n",
    "    'domain_adaptation_method': 'naive',  # 'naive', 'importance_sampling', 'domain_adversarial'\n",
    "\n",
    "    ### Trainer ###\n",
    "    'relaxation_period': 3,  # epochs to wait where accuracy is dropping \n",
    "                             # below moving average before ending the run\n",
    "                             # (-1 to disable it)\n",
    "    \n",
    "    'batch_size': 100,\n",
    "    'epochs': 30,\n",
    "    'base_lr': 0.001,\n",
    "    'weight_decay': 5e-4,\n",
    "\n",
    "    ### Logging ###\n",
    "    'weights_save_root': './weights/raw'\n",
    "    # plot\n",
    "}\n",
    "\n",
    "\n",
    "if True:\n",
    "    # v2\n",
    "    cfg['source_domain'] = 'v2'\n",
    "    trainer = DATrainer(cfg, vqa_v2, vqa_abs)\n",
    "    v2_ckpt_path = cfg['weights_save_path']\n",
    "\n",
    "    trainer.train(show_plot=True)\n",
    "\n",
    "    # abs\n",
    "    cfg['source_domain'] = 'abs'\n",
    "    trainer = DATrainer(cfg, vqa_v2, vqa_abs)\n",
    "    abs_ckpt_path = cfg['weights_save_path']\n",
    "\n",
    "    trainer.train(show_plot=True)"
   ]
  },
  {
   "cell_type": "code",
   "execution_count": null,
   "id": "1cbda501",
   "metadata": {
    "papermill": {
     "duration": null,
     "end_time": null,
     "exception": null,
     "start_time": null,
     "status": "pending"
    },
    "tags": []
   },
   "outputs": [],
   "source": [
    "cfg['v2_ckpt'] = v2_ckpt_path\n",
    "cfg['abs_ckpt'] = abs_ckpt_path"
   ]
  },
  {
   "cell_type": "markdown",
   "id": "942aaf27",
   "metadata": {
    "papermill": {
     "duration": null,
     "end_time": null,
     "exception": null,
     "start_time": null,
     "status": "pending"
    },
    "tags": []
   },
   "source": [
    "## Evaluating"
   ]
  },
  {
   "cell_type": "code",
   "execution_count": null,
   "id": "e7ab6d30",
   "metadata": {
    "papermill": {
     "duration": null,
     "end_time": null,
     "exception": null,
     "start_time": null,
     "status": "pending"
    },
    "tags": []
   },
   "outputs": [],
   "source": [
    "(v2_train_data, v2_val_data), (abs_train_data, abs_val_data), labels = data_processing_v2(cfg, vqa_v2, vqa_abs)\n",
    "model = VLModel(cfg, return_embeddings=True).cuda()\n",
    "\n",
    "def eval_domain_adaptation(eval_dataset, model_ckpt, evaluate_train=False):\n",
    "    if eval_dataset == 'v2':\n",
    "        train_data, val_data = v2_train_data, v2_val_data\n",
    "    elif eval_dataset == 'abs':\n",
    "        train_data, val_data = abs_train_data, abs_val_data\n",
    "\n",
    "    train_dataset = VQADataset(cfg, train_data)\n",
    "    val_dataset = VQADataset(cfg, val_data)\n",
    "\n",
    "    train_dataloader = DataLoader(train_dataset, batch_size=cfg['batch_size'], shuffle=True)\n",
    "    val_dataloader = DataLoader(val_dataset, batch_size=cfg['batch_size'], shuffle=True)\n",
    "\n",
    "    if model_ckpt == 'v2':\n",
    "        ckpt = cfg['v2_ckpt']\n",
    "    elif model_ckpt == 'abs':\n",
    "        ckpt = cfg['abs_ckpt']\n",
    "\n",
    "    state_dict = torch.load(ckpt, weights_only=True)\n",
    "    model.load_state_dict(state_dict, strict=False)\n",
    "\n",
    "    dataloader = val_dataloader if not evaluate_train else train_dataloader\n",
    "\n",
    "    model.eval()\n",
    "    correct, total = 0, 0\n",
    "    embeddings = None\n",
    "\n",
    "    with torch.no_grad():\n",
    "        for i_tokens, q_tokens, label in dataloader:\n",
    "            i_tokens = {key: value.cuda() for key, value in i_tokens.items()}\n",
    "            q_tokens = {key: value.cuda() for key, value in q_tokens.items()}\n",
    "            label = label.cuda()\n",
    "            \n",
    "            logits, embedding = model(i_tokens, q_tokens)\n",
    "            embeddings = np.concatenate((embeddings, embedding), axis=0) if embeddings is not None else embedding\n",
    "\n",
    "            # Compute accuracy\n",
    "            _, predicted_indices = torch.max(logits, dim=1)\n",
    "            label_indices = torch.argmax(label, dim=1)\n",
    "            is_correct = (predicted_indices == label_indices)\n",
    "\n",
    "            total += label.shape[0]\n",
    "            correct += is_correct.sum().item()\n",
    "\n",
    "    accuracy = (correct / total)\n",
    "\n",
    "    source = 'v2 ' if model_ckpt == 'v2' else 'abs'\n",
    "    target = 'v2 ' if eval_dataset == 'v2' else 'abs'\n",
    "    split = 'train set' if evaluate_train else 'val set  '\n",
    "    print(f'{source} -> {target} | {split} \\t accuracy = {accuracy*100:.2f}%')\n",
    "    \n",
    "    return embeddings"
   ]
  },
  {
   "cell_type": "code",
   "execution_count": null,
   "id": "42aea415",
   "metadata": {
    "papermill": {
     "duration": null,
     "end_time": null,
     "exception": null,
     "start_time": null,
     "status": "pending"
    },
    "tags": []
   },
   "outputs": [],
   "source": [
    "# v2 -> v2\n",
    "v2_val_embeddings = eval_domain_adaptation(model_ckpt='v2', eval_dataset='v2', evaluate_train=False)\n",
    "v2_train_embeddings = eval_domain_adaptation(model_ckpt='v2', eval_dataset='v2', evaluate_train=True)\n",
    "\n",
    "# abs -> abs\n",
    "abs_val_embeddings = eval_domain_adaptation(model_ckpt='abs', eval_dataset='abs', evaluate_train=False)\n",
    "abs_train_embeddings = eval_domain_adaptation(model_ckpt='abs', eval_dataset='abs', evaluate_train=True)"
   ]
  },
  {
   "cell_type": "code",
   "execution_count": null,
   "id": "175d3503",
   "metadata": {
    "papermill": {
     "duration": null,
     "end_time": null,
     "exception": null,
     "start_time": null,
     "status": "pending"
    },
    "tags": []
   },
   "outputs": [],
   "source": [
    "# v2 -> abs\n",
    "v2_abs_val_embeddings = eval_domain_adaptation(model_ckpt='v2', eval_dataset='abs', evaluate_train=False)\n",
    "v2_abs_train_embeddings = eval_domain_adaptation(model_ckpt='v2', eval_dataset='abs', evaluate_train=True)\n",
    "\n",
    "# abs -> v2\n",
    "abs_v2_val_embeddings = eval_domain_adaptation(model_ckpt='abs', eval_dataset='v2', evaluate_train=False)\n",
    "abs_v2_train_embeddings = eval_domain_adaptation(model_ckpt='abs', eval_dataset='v2', evaluate_train=True)"
   ]
  },
  {
   "cell_type": "markdown",
   "id": "6530fa56",
   "metadata": {
    "papermill": {
     "duration": null,
     "end_time": null,
     "exception": null,
     "start_time": null,
     "status": "pending"
    },
    "tags": []
   },
   "source": [
    "## Visualizing embeddings"
   ]
  },
  {
   "cell_type": "code",
   "execution_count": null,
   "id": "9c623e6d",
   "metadata": {
    "papermill": {
     "duration": null,
     "end_time": null,
     "exception": null,
     "start_time": null,
     "status": "pending"
    },
    "tags": []
   },
   "outputs": [],
   "source": [
    "from sklearn.manifold import TSNE\n",
    "import matplotlib.patches as mpatches\n",
    "\n",
    "def plot_tsne(embeddings, plot_labels, perplexities, title=''):\n",
    "    n_plots = len(perplexities)\n",
    "    fig, axes = plt.subplots(1, n_plots, figsize=(6 * n_plots, 6))\n",
    "    \n",
    "    for idx, perplexity in enumerate(perplexities):\n",
    "        tsne = TSNE(n_components=2, perplexity=perplexity, random_state=42)\n",
    "        tsne_embeddings = tsne.fit_transform(embeddings)\n",
    "        \n",
    "        colors = {'vv': 'blue', 'aa': 'red', 'va': 'orange', 'av': 'violet'}\n",
    "        ax = axes[idx]\n",
    "        for i, plot_label in enumerate(plot_labels):\n",
    "                \n",
    "            ax.scatter(tsne_embeddings[i, 0], tsne_embeddings[i, 1], color=colors[plot_label])\n",
    "            ax.text(tsne_embeddings[i, 0] + 0.1, tsne_embeddings[i, 1], '', fontsize=9)\n",
    "        \n",
    "        ax.set_title(f'Perplexity = {perplexity}')\n",
    "    \n",
    "    custom_legend = [mpatches.Patch(color=colors[label], label=label) for label in set(plot_labels)]\n",
    "    fig.legend(handles=custom_legend)\n",
    "    fig.suptitle(title, fontsize=16)\n",
    "\n",
    "    plt.tight_layout()\n",
    "    plt.show()"
   ]
  },
  {
   "cell_type": "code",
   "execution_count": null,
   "id": "fdb8bb10",
   "metadata": {
    "papermill": {
     "duration": null,
     "end_time": null,
     "exception": null,
     "start_time": null,
     "status": "pending"
    },
    "tags": []
   },
   "outputs": [],
   "source": [
    "n_v2 = len(v2_val_embeddings)\n",
    "n_abs = len(abs_val_embeddings)\n",
    "\n",
    "# v2 -> v2\n",
    "plot_tsne(v2_val_embeddings, ['vv'] * n_v2, perplexities=[2,4,8,16,32], title='v2->v2 (val set)')\n",
    "plot_tsne(v2_train_embeddings, ['vv'] * n_v2, perplexities=[2,4,8,16,32], title='v2->v2 (train set)')\n",
    "\n",
    "# abs -> abs\n",
    "plot_tsne(abs_val_embeddings, ['aa'] * n_abs, perplexities=[2,4,8,16,32], title='abs->abs (val set)')\n",
    "plot_tsne(abs_train_embeddings, ['aa'] * n_abs, perplexities=[2,4,8,16,32], title='abs->abs (train set)')\n",
    "\n",
    "# combined plot\n",
    "val_embeddings = np.concatenate((v2_val_embeddings, abs_val_embeddings), axis=0)\n",
    "plot_tsne(val_embeddings, ['vv'] * n_v2 + ['aa'] * n_abs, perplexities=[2,4,8,16,32], title='Same Domain (val set)')\n",
    "\n",
    "train_embeddings = np.concatenate((v2_train_embeddings, abs_train_embeddings), axis=0)\n",
    "plot_tsne(train_embeddings, ['vv'] * n_v2 + ['aa'] * n_abs, perplexities=[2,4,8,16,32], title='Same Domain (train set)')"
   ]
  },
  {
   "cell_type": "code",
   "execution_count": null,
   "id": "e0b79a6e",
   "metadata": {
    "papermill": {
     "duration": null,
     "end_time": null,
     "exception": null,
     "start_time": null,
     "status": "pending"
    },
    "tags": []
   },
   "outputs": [],
   "source": [
    "# v2 -> abs\n",
    "plot_tsne(v2_abs_val_embeddings, ['va'] * n_abs, perplexities=[2,4,8,16,32], title='v2->abs (val set)')\n",
    "plot_tsne(v2_abs_train_embeddings, ['va'] * n_abs, perplexities=[2,4,8,16,32], title='v2->abs (train set)')\n",
    "\n",
    "# abs -> v2\n",
    "plot_tsne(abs_v2_val_embeddings, ['av'] * n_v2, perplexities=[2,4,8,16,32], title='abs->v2 (val set)')\n",
    "plot_tsne(abs_v2_train_embeddings, ['av'] * n_v2, perplexities=[2,4,8,16,32], title='abs->v2 (train set)')\n",
    "\n",
    "# combined plot\n",
    "val_embeddings = np.concatenate((v2_abs_val_embeddings, abs_v2_val_embeddings), axis=0)\n",
    "plot_tsne(val_embeddings, ['va'] * n_abs + ['av'] * n_v2, perplexities=[2,4,8,16,32], title='Cross Domain (val set)')\n",
    "\n",
    "train_embeddings = np.concatenate((v2_abs_train_embeddings, abs_v2_train_embeddings), axis=0)\n",
    "plot_tsne(train_embeddings, ['va'] * n_abs + ['av'] * n_v2, perplexities=[2,4,8,16,32], title='Cross Domain (train set)')"
   ]
  }
 ],
 "metadata": {
  "kernelspec": {
   "display_name": "Python 3",
   "language": "python",
   "name": "python3"
  },
  "language_info": {
   "codemirror_mode": {
    "name": "ipython",
    "version": 3
   },
   "file_extension": ".py",
   "mimetype": "text/x-python",
   "name": "python",
   "nbconvert_exporter": "python",
   "pygments_lexer": "ipython3",
   "version": "3.8.10"
  },
  "papermill": {
   "default_parameters": {},
   "duration": null,
   "end_time": null,
   "environment_variables": {},
   "exception": null,
   "input_path": "domain_adaptation/naive_sampling.ipynb",
   "output_path": "domain_adaptation/results/[10-classes]naive_sampling.ipynb",
   "parameters": {},
   "start_time": "2024-08-10T14:28:42.110932",
   "version": "2.6.0"
  }
 },
 "nbformat": 4,
 "nbformat_minor": 5
}